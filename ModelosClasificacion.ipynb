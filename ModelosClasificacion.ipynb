{
 "cells": [
  {
   "cell_type": "markdown",
   "id": "e89ab011-88c1-4c1c-963d-66a4f6d6220a",
   "metadata": {},
   "source": [
    "# CLASIFICACIÓN DE SOLICITUDES DE CRÉDITO UTILIZANDO DEEP LEARNING"
   ]
  },
  {
   "cell_type": "markdown",
   "id": "32628fa8-c12a-46b3-bf81-bcd81021bbba",
   "metadata": {},
   "source": [
    "## MODELOS DE CLASIFICACIÓN"
   ]
  },
  {
   "cell_type": "code",
   "execution_count": 138,
   "id": "7fa5e62f-b607-4d94-8b33-e2d5ef635572",
   "metadata": {
    "tags": []
   },
   "outputs": [],
   "source": [
    "import warnings\n",
    "warnings.filterwarnings(\"ignore\")"
   ]
  },
  {
   "cell_type": "markdown",
   "id": "139a866e-d2b5-4ae8-9cad-e3f9d9b1f4c6",
   "metadata": {},
   "source": [
    "## Importe librerías"
   ]
  },
  {
   "cell_type": "code",
   "execution_count": 2,
   "id": "9c7ab01c-6a6e-472d-9c4e-d17d731550ed",
   "metadata": {
    "tags": []
   },
   "outputs": [],
   "source": [
    "import pandas as pd\n",
    "import numpy as np"
   ]
  },
  {
   "cell_type": "code",
   "execution_count": 3,
   "id": "64ecb5c2-abed-48aa-9056-fce250347633",
   "metadata": {
    "tags": []
   },
   "outputs": [],
   "source": [
    "import seaborn as sns\n",
    "import matplotlib as mpl\n",
    "import matplotlib.pyplot as plt\n",
    "import plotly.express as px"
   ]
  },
  {
   "cell_type": "code",
   "execution_count": 4,
   "id": "926f9d75-c6ba-48bd-89b6-ceead930a2d2",
   "metadata": {
    "tags": []
   },
   "outputs": [],
   "source": [
    "import matplotlib.lines as mlines\n",
    "from mpl_toolkits.mplot3d import Axes3D\n",
    "from sklearn.model_selection import train_test_split, learning_curve\n",
    "from sklearn.metrics import average_precision_score\n",
    "\n",
    "from sklearn.datasets import make_blobs\n",
    "from sklearn.linear_model import LogisticRegression\n",
    "from sklearn.model_selection import cross_val_score\n",
    "from sklearn.model_selection import KFold\n",
    "from sklearn.model_selection import LeaveOneOut\n",
    "from sklearn.model_selection import ShuffleSplit\n",
    "from sklearn.model_selection import StratifiedKFold\n",
    "from sklearn import preprocessing "
   ]
  },
  {
   "cell_type": "markdown",
   "id": "646aaaf8-f3fd-4ece-8823-a6e8b1cb7072",
   "metadata": {},
   "source": [
    "## Importe de datos"
   ]
  },
  {
   "cell_type": "markdown",
   "id": "acc7bed9-3e54-40a1-aa4c-ab368978ad8f",
   "metadata": {},
   "source": [
    "Los datos se importan desde el NOTEBOOK preprocesamiento"
   ]
  },
  {
   "cell_type": "code",
   "execution_count": 5,
   "id": "184df3e6-4a90-4962-b1dc-b2c5e340f48a",
   "metadata": {
    "tags": []
   },
   "outputs": [
    {
     "data": {
      "text/html": [
       "<div>\n",
       "<style scoped>\n",
       "    .dataframe tbody tr th:only-of-type {\n",
       "        vertical-align: middle;\n",
       "    }\n",
       "\n",
       "    .dataframe tbody tr th {\n",
       "        vertical-align: top;\n",
       "    }\n",
       "\n",
       "    .dataframe thead th {\n",
       "        text-align: right;\n",
       "    }\n",
       "</style>\n",
       "<table border=\"1\" class=\"dataframe\">\n",
       "  <thead>\n",
       "    <tr style=\"text-align: right;\">\n",
       "      <th></th>\n",
       "      <th>SK_ID_CURR</th>\n",
       "      <th>TARGET</th>\n",
       "      <th>NAME_CONTRACT_TYPE</th>\n",
       "      <th>CODE_GENDER</th>\n",
       "      <th>FLAG_OWN_CAR</th>\n",
       "      <th>FLAG_OWN_REALTY</th>\n",
       "      <th>AMT_INCOME_TOTAL</th>\n",
       "      <th>AMT_CREDIT</th>\n",
       "      <th>DAYS_EMPLOYED</th>\n",
       "      <th>DAYS_REGISTRATION</th>\n",
       "      <th>...</th>\n",
       "      <th>PCB_Canceled</th>\n",
       "      <th>PCB_Demand</th>\n",
       "      <th>PCB_Returned_store</th>\n",
       "      <th>PCB_Signed</th>\n",
       "      <th>pcb_FUTURE_mean</th>\n",
       "      <th>pcb_FUTURE_min</th>\n",
       "      <th>pcb_FUTURE_max</th>\n",
       "      <th>pcb_DPD_mean</th>\n",
       "      <th>pcb__DPD_min</th>\n",
       "      <th>pcb__DPD_max</th>\n",
       "    </tr>\n",
       "  </thead>\n",
       "  <tbody>\n",
       "    <tr>\n",
       "      <th>0</th>\n",
       "      <td>100043</td>\n",
       "      <td>0</td>\n",
       "      <td>1</td>\n",
       "      <td>1</td>\n",
       "      <td>0</td>\n",
       "      <td>1</td>\n",
       "      <td>198000.0</td>\n",
       "      <td>641173.5</td>\n",
       "      <td>-768</td>\n",
       "      <td>-63.0</td>\n",
       "      <td>...</td>\n",
       "      <td>0</td>\n",
       "      <td>0</td>\n",
       "      <td>0</td>\n",
       "      <td>0</td>\n",
       "      <td>34.324324</td>\n",
       "      <td>0.0</td>\n",
       "      <td>60.0</td>\n",
       "      <td>0.0</td>\n",
       "      <td>0</td>\n",
       "      <td>0</td>\n",
       "    </tr>\n",
       "    <tr>\n",
       "      <th>1</th>\n",
       "      <td>100043</td>\n",
       "      <td>0</td>\n",
       "      <td>1</td>\n",
       "      <td>1</td>\n",
       "      <td>0</td>\n",
       "      <td>1</td>\n",
       "      <td>198000.0</td>\n",
       "      <td>641173.5</td>\n",
       "      <td>-768</td>\n",
       "      <td>-63.0</td>\n",
       "      <td>...</td>\n",
       "      <td>0</td>\n",
       "      <td>0</td>\n",
       "      <td>0</td>\n",
       "      <td>0</td>\n",
       "      <td>34.324324</td>\n",
       "      <td>0.0</td>\n",
       "      <td>60.0</td>\n",
       "      <td>0.0</td>\n",
       "      <td>0</td>\n",
       "      <td>0</td>\n",
       "    </tr>\n",
       "    <tr>\n",
       "      <th>2</th>\n",
       "      <td>100048</td>\n",
       "      <td>0</td>\n",
       "      <td>1</td>\n",
       "      <td>1</td>\n",
       "      <td>0</td>\n",
       "      <td>1</td>\n",
       "      <td>202500.0</td>\n",
       "      <td>604152.0</td>\n",
       "      <td>-475</td>\n",
       "      <td>-3148.0</td>\n",
       "      <td>...</td>\n",
       "      <td>0</td>\n",
       "      <td>0</td>\n",
       "      <td>0</td>\n",
       "      <td>0</td>\n",
       "      <td>13.437500</td>\n",
       "      <td>0.0</td>\n",
       "      <td>18.0</td>\n",
       "      <td>0.0</td>\n",
       "      <td>0</td>\n",
       "      <td>0</td>\n",
       "    </tr>\n",
       "    <tr>\n",
       "      <th>3</th>\n",
       "      <td>100050</td>\n",
       "      <td>0</td>\n",
       "      <td>1</td>\n",
       "      <td>1</td>\n",
       "      <td>0</td>\n",
       "      <td>1</td>\n",
       "      <td>108000.0</td>\n",
       "      <td>746280.0</td>\n",
       "      <td>365243</td>\n",
       "      <td>-5745.0</td>\n",
       "      <td>...</td>\n",
       "      <td>0</td>\n",
       "      <td>0</td>\n",
       "      <td>0</td>\n",
       "      <td>0</td>\n",
       "      <td>16.500000</td>\n",
       "      <td>9.0</td>\n",
       "      <td>24.0</td>\n",
       "      <td>0.0</td>\n",
       "      <td>0</td>\n",
       "      <td>0</td>\n",
       "    </tr>\n",
       "    <tr>\n",
       "      <th>4</th>\n",
       "      <td>100050</td>\n",
       "      <td>0</td>\n",
       "      <td>1</td>\n",
       "      <td>1</td>\n",
       "      <td>0</td>\n",
       "      <td>1</td>\n",
       "      <td>108000.0</td>\n",
       "      <td>746280.0</td>\n",
       "      <td>365243</td>\n",
       "      <td>-5745.0</td>\n",
       "      <td>...</td>\n",
       "      <td>0</td>\n",
       "      <td>0</td>\n",
       "      <td>0</td>\n",
       "      <td>0</td>\n",
       "      <td>16.500000</td>\n",
       "      <td>9.0</td>\n",
       "      <td>24.0</td>\n",
       "      <td>0.0</td>\n",
       "      <td>0</td>\n",
       "      <td>0</td>\n",
       "    </tr>\n",
       "  </tbody>\n",
       "</table>\n",
       "<p>5 rows × 191 columns</p>\n",
       "</div>"
      ],
      "text/plain": [
       "   SK_ID_CURR  TARGET  NAME_CONTRACT_TYPE  CODE_GENDER  FLAG_OWN_CAR  \\\n",
       "0      100043       0                   1            1             0   \n",
       "1      100043       0                   1            1             0   \n",
       "2      100048       0                   1            1             0   \n",
       "3      100050       0                   1            1             0   \n",
       "4      100050       0                   1            1             0   \n",
       "\n",
       "   FLAG_OWN_REALTY  AMT_INCOME_TOTAL  AMT_CREDIT  DAYS_EMPLOYED  \\\n",
       "0                1          198000.0    641173.5           -768   \n",
       "1                1          198000.0    641173.5           -768   \n",
       "2                1          202500.0    604152.0           -475   \n",
       "3                1          108000.0    746280.0         365243   \n",
       "4                1          108000.0    746280.0         365243   \n",
       "\n",
       "   DAYS_REGISTRATION  ...  PCB_Canceled  PCB_Demand  PCB_Returned_store  \\\n",
       "0              -63.0  ...             0           0                   0   \n",
       "1              -63.0  ...             0           0                   0   \n",
       "2            -3148.0  ...             0           0                   0   \n",
       "3            -5745.0  ...             0           0                   0   \n",
       "4            -5745.0  ...             0           0                   0   \n",
       "\n",
       "   PCB_Signed  pcb_FUTURE_mean  pcb_FUTURE_min  pcb_FUTURE_max  pcb_DPD_mean  \\\n",
       "0           0        34.324324             0.0            60.0           0.0   \n",
       "1           0        34.324324             0.0            60.0           0.0   \n",
       "2           0        13.437500             0.0            18.0           0.0   \n",
       "3           0        16.500000             9.0            24.0           0.0   \n",
       "4           0        16.500000             9.0            24.0           0.0   \n",
       "\n",
       "   pcb__DPD_min  pcb__DPD_max  \n",
       "0             0             0  \n",
       "1             0             0  \n",
       "2             0             0  \n",
       "3             0             0  \n",
       "4             0             0  \n",
       "\n",
       "[5 rows x 191 columns]"
      ]
     },
     "execution_count": 5,
     "metadata": {},
     "output_type": "execute_result"
    }
   ],
   "source": [
    "df = pd.read_pickle('HCData.pkl')\n",
    "df.head()"
   ]
  },
  {
   "cell_type": "code",
   "execution_count": 6,
   "id": "635f5b80-edfb-4a39-84c9-ec9ea4f2dac9",
   "metadata": {
    "tags": []
   },
   "outputs": [
    {
     "data": {
      "text/plain": [
       "(176688, 191)"
      ]
     },
     "execution_count": 6,
     "metadata": {},
     "output_type": "execute_result"
    }
   ],
   "source": [
    "df.shape"
   ]
  },
  {
   "cell_type": "code",
   "execution_count": 7,
   "id": "46e48dcf-985c-43d2-9807-313a22efa6ea",
   "metadata": {
    "tags": []
   },
   "outputs": [
    {
     "data": {
      "text/plain": [
       "Closed      111043\n",
       "Active       64947\n",
       "Sold           697\n",
       "Bad debt         1\n",
       "Name: CREDIT_ACTIVE, dtype: int64"
      ]
     },
     "execution_count": 7,
     "metadata": {},
     "output_type": "execute_result"
    }
   ],
   "source": [
    "df['CREDIT_ACTIVE'].value_counts()"
   ]
  },
  {
   "cell_type": "code",
   "execution_count": 6,
   "id": "56248051-f8aa-4620-ac2e-c5564db0d640",
   "metadata": {
    "tags": []
   },
   "outputs": [],
   "source": [
    "dfD = pd.get_dummies(df.CREDIT_ACTIVE)"
   ]
  },
  {
   "cell_type": "code",
   "execution_count": 7,
   "id": "984e7ae6-9d61-4b1c-8c96-334c44af6a57",
   "metadata": {
    "tags": []
   },
   "outputs": [],
   "source": [
    "dfD = dfD.rename({\n",
    "    \"Active\":'TT_CREDIT_ACTIVE_Active',\n",
    "    \"Closed\":'TT_CREDIT_ACTIVE_Closed',\n",
    "    \"Sold\":'TT_CREDIT_ACTIVE_Sold'\n",
    "})\n",
    "\n",
    "dfD = dfD.drop(['Bad debt'], axis = 1)\n",
    "\n",
    "df = pd.concat([df, dfD], axis = 1)"
   ]
  },
  {
   "cell_type": "code",
   "execution_count": 8,
   "id": "ac9f9a1c-a32b-4d5b-98b8-d8c3a3a72dad",
   "metadata": {
    "tags": []
   },
   "outputs": [],
   "source": [
    "df = df.drop(['CREDIT_ACTIVE'], axis = 1)"
   ]
  },
  {
   "cell_type": "markdown",
   "id": "86f14309-fb50-4e6c-ae29-36d238520704",
   "metadata": {},
   "source": [
    "## Definición de conjuntos Y y X"
   ]
  },
  {
   "cell_type": "code",
   "execution_count": 9,
   "id": "fcb209aa-ee92-471b-8e8c-3332f825181f",
   "metadata": {
    "tags": []
   },
   "outputs": [],
   "source": [
    "Y = df.TARGET\n",
    "X = df.drop(['TARGET', 'SK_ID_CURR'], axis = 1)"
   ]
  },
  {
   "cell_type": "markdown",
   "id": "f09ceb92-c8b6-4c92-87e7-6987b9763120",
   "metadata": {},
   "source": [
    "## Perfiles de Usuario"
   ]
  },
  {
   "cell_type": "code",
   "execution_count": 10,
   "id": "501ea3e2-0cf1-495f-be00-e59c492d529b",
   "metadata": {
    "tags": []
   },
   "outputs": [],
   "source": [
    "# normalizar los datos\n",
    "from sklearn.preprocessing import StandardScaler\n",
    "scaler = StandardScaler()\n",
    "X_scaled = scaler.fit_transform(X)"
   ]
  },
  {
   "cell_type": "code",
   "execution_count": 140,
   "id": "379a6c16-17a1-466d-a4b8-3316b4c2ee4e",
   "metadata": {
    "tags": []
   },
   "outputs": [
    {
     "data": {
      "image/png": "[encoded data removed]",
      "text/plain": [
       "<Figure size 640x480 with 1 Axes>"
      ]
     },
     "metadata": {},
     "output_type": "display_data"
    }
   ],
   "source": [
    "#*Método del codo:*\n",
    "\n",
    "from sklearn.cluster import KMeans\n",
    "from scipy.spatial.distance import cdist\n",
    "\n",
    "distortions = []\n",
    "K = range(1,10)\n",
    "for k in K:\n",
    "    kmeanModel = KMeans(n_clusters=k)\n",
    "    kmeanModel.fit(X)\n",
    "    distortions.append(sum(np.min(cdist(X, kmeanModel.cluster_centers_, 'euclidean'), axis=1)) / X.shape[0])\n",
    "\n",
    "# Graficar la variación de la suma de distancias en función del número de clusters\n",
    "plt.plot(K, distortions, 'bx-')\n",
    "plt.xlabel('Número de clusters')\n",
    "plt.ylabel('Distortion')\n",
    "plt.title('Método del codo para determinar el número óptimo de clusters')\n",
    "plt.show()"
   ]
  },
  {
   "cell_type": "code",
   "execution_count": 19,
   "id": "28548be5-bd61-47a1-a117-92b3fe4b9f51",
   "metadata": {
    "tags": []
   },
   "outputs": [
    {
     "data": {
      "image/png": "[encoded data removed]",
      "text/plain": [
       "<Figure size 640x480 with 1 Axes>"
      ]
     },
     "metadata": {},
     "output_type": "display_data"
    }
   ],
   "source": [
    "#*Método de la silueta:*\n",
    "\n",
    "from sklearn.metrics import silhouette_score\n",
    "\n",
    "# Evaluar la calidad del clustering utilizando el método de la silueta\n",
    "silhouette_scores = []\n",
    "K = range(2,10)\n",
    "for k in K:\n",
    "    kmeans = KMeans(n_clusters=k)\n",
    "    labels = kmeans.fit_predict(X)\n",
    "    score = silhouette_score(X, labels)\n",
    "    silhouette_scores.append(score)\n",
    "\n",
    "# Graficar la variación del valor medio de la medida de la silueta en función del número de clusters\n",
    "plt.plot(K, silhouette_scores, 'bx-')\n",
    "plt.xlabel('Número de clusters')\n",
    "plt.ylabel('Valor medio de la medida de la silueta')\n",
    "plt.title('Método de la silueta para determinar el número óptimo de clusters')\n",
    "plt.show()"
   ]
  },
  {
   "cell_type": "code",
   "execution_count": null,
   "id": "a527aaab-d3ea-4cdf-9750-4bcd7544027b",
   "metadata": {
    "tags": []
   },
   "outputs": [],
   "source": [
    "#%pip install gap-stat"
   ]
  },
  {
   "cell_type": "code",
   "execution_count": null,
   "id": "b9e52714-a7ec-4f4d-a15d-f4fc44105773",
   "metadata": {
    "tags": []
   },
   "outputs": [],
   "source": [
    "#*Método de la gap statistic:*\n",
    "\n",
    "\"\"\"from scipy.spatial.distance import cdist\n",
    "from gap_statistic import OptimalK\n",
    "\n",
    "# Calcular la medida de la gap statistic para diferentes valores de k\n",
    "optimalK = OptimalK(n_jobs=-1)\n",
    "n_clusters = optimalK(X, cluster_array=np.arange(1, 10))\n",
    "print('Número óptimo de clusters:', n_clusters)\n",
    "\n",
    "# Graficar la variación de la medida de la gap statistic en función del número de clusters\n",
    "gap_df = optimalK.gap_df_\n",
    "plt.plot(gap_df.n_clusters, gap_df.gap_value, linestyle='--', marker='o', color='b')\n",
    "plt.ylabel('Gap Value')\n",
    "plt.xlabel('Número de clusters')\n",
    "plt.title('Método de la gap statistic para determinar el número óptimo de clusters')\n",
    "plt.show()\"\"\""
   ]
  },
  {
   "cell_type": "code",
   "execution_count": 11,
   "id": "bf631d0c-5c43-446c-9811-ff2168fe960a",
   "metadata": {
    "tags": []
   },
   "outputs": [],
   "source": [
    "#KMEANS\n",
    "from sklearn.cluster import KMeans\n",
    "# entrenar modelo k-means\n",
    "kmeans = KMeans(n_clusters=4, random_state=42)\n",
    "kmeans.fit(X_scaled)\n",
    "\n",
    "# obtener etiquetas de cluster y centroides\n",
    "labels = kmeans.labels_\n",
    "centroids = kmeans.cluster_centers_"
   ]
  },
  {
   "cell_type": "code",
   "execution_count": 12,
   "id": "df36904c-a944-4a14-a933-152dc47225bd",
   "metadata": {
    "tags": []
   },
   "outputs": [
    {
     "data": {
      "text/html": [
       "<div>\n",
       "<style scoped>\n",
       "    .dataframe tbody tr th:only-of-type {\n",
       "        vertical-align: middle;\n",
       "    }\n",
       "\n",
       "    .dataframe tbody tr th {\n",
       "        vertical-align: top;\n",
       "    }\n",
       "\n",
       "    .dataframe thead th {\n",
       "        text-align: right;\n",
       "    }\n",
       "</style>\n",
       "<table border=\"1\" class=\"dataframe\">\n",
       "  <thead>\n",
       "    <tr style=\"text-align: right;\">\n",
       "      <th></th>\n",
       "      <th>CLUSTER</th>\n",
       "    </tr>\n",
       "  </thead>\n",
       "  <tbody>\n",
       "    <tr>\n",
       "      <th>0</th>\n",
       "      <td>0</td>\n",
       "    </tr>\n",
       "    <tr>\n",
       "      <th>1</th>\n",
       "      <td>0</td>\n",
       "    </tr>\n",
       "    <tr>\n",
       "      <th>2</th>\n",
       "      <td>3</td>\n",
       "    </tr>\n",
       "    <tr>\n",
       "      <th>3</th>\n",
       "      <td>3</td>\n",
       "    </tr>\n",
       "    <tr>\n",
       "      <th>4</th>\n",
       "      <td>3</td>\n",
       "    </tr>\n",
       "  </tbody>\n",
       "</table>\n",
       "</div>"
      ],
      "text/plain": [
       "   CLUSTER\n",
       "0        0\n",
       "1        0\n",
       "2        3\n",
       "3        3\n",
       "4        3"
      ]
     },
     "execution_count": 12,
     "metadata": {},
     "output_type": "execute_result"
    }
   ],
   "source": [
    "clusters = pd.DataFrame(labels, \n",
    "                    columns=['CLUSTER'])\n",
    "clusters.head()"
   ]
  },
  {
   "cell_type": "code",
   "execution_count": 21,
   "id": "1cfef5e7-9424-4ca8-95f7-8a16aad2beb1",
   "metadata": {
    "tags": []
   },
   "outputs": [],
   "source": [
    "#df = df.drop(df.CLUSTER, axis = 1)\n",
    "#df.head()"
   ]
  },
  {
   "cell_type": "markdown",
   "id": "5d6f0dfc-f365-4d2f-961a-6fd2010d37fb",
   "metadata": {},
   "source": [
    "## PCA"
   ]
  },
  {
   "cell_type": "code",
   "execution_count": 13,
   "id": "d4add8ac-2f3d-4787-97f0-7ed0add34541",
   "metadata": {},
   "outputs": [],
   "source": [
    "from sklearn.decomposition import PCA\n",
    "from sklearn.pipeline import make_pipeline\n",
    "from sklearn.preprocessing import StandardScaler\n",
    "from sklearn.preprocessing import scale"
   ]
  },
  {
   "cell_type": "code",
   "execution_count": 14,
   "id": "49040ef0-778d-420e-b861-621141fc3fab",
   "metadata": {},
   "outputs": [],
   "source": [
    "# PCA\n",
    "pca_pipe = make_pipeline(StandardScaler(), PCA())\n",
    "pca_pipe.fit(X)\n",
    "\n",
    "# Se extrae el modelo entrenado del pipeline\n",
    "modelo_pca = pca_pipe.named_steps['pca']"
   ]
  },
  {
   "cell_type": "code",
   "execution_count": 18,
   "id": "f80a69c4-4dd9-4123-96e4-09e0a7226894",
   "metadata": {},
   "outputs": [
    {
     "data": {
      "image/png": "[encoded data removed]",
      "text/plain": [
       "<Figure size 600x400 with 1 Axes>"
      ]
     },
     "metadata": {},
     "output_type": "display_data"
    }
   ],
   "source": [
    "fig, ax = plt.subplots(nrows=1, ncols=1, figsize=(6, 4))\n",
    "ax.bar(\n",
    "    x      = np.arange(modelo_pca.n_components_) + 1,\n",
    "    height = modelo_pca.explained_variance_ratio_\n",
    ")\n",
    "\n",
    "for x, y in zip(np.arange(len(X.columns)) + 1, modelo_pca.explained_variance_ratio_):\n",
    "    label = round(y, 2)\n",
    "    ax.annotate(\n",
    "        label,\n",
    "        (x,y),\n",
    "        textcoords=\"offset points\",\n",
    "        xytext=(0,10),\n",
    "        ha='center'\n",
    "    )\n",
    "\n",
    "ax.set_xticks(np.arange(modelo_pca.n_components_) + 1)\n",
    "ax.set_ylim(0, 0.14)\n",
    "ax.set_title('Porcentaje de varianza explicada por cada componente')\n",
    "ax.set_xlabel('Componente principal')\n",
    "ax.set_ylabel('Por. varianza explicada');"
   ]
  },
  {
   "cell_type": "code",
   "execution_count": 185,
   "id": "de98d209-0aba-4ea7-bc18-c6ce51fc4c36",
   "metadata": {
    "tags": []
   },
   "outputs": [
    {
     "name": "stdout",
     "output_type": "stream",
     "text": [
      "------------------------------------------\n",
      "Porcentaje de varianza explicada acumulada\n",
      "------------------------------------------\n",
      "[0.09411725 0.1470073  0.18122922 0.21056426 0.2363638  0.25543551\n",
      " 0.27356175 0.29133649 0.30835499 0.32413768 0.33876396 0.3512113\n",
      " 0.36356644 0.37527301 0.38632746 0.39731796 0.40786353 0.41804678\n",
      " 0.42760746 0.43700181 0.44612998 0.45492135 0.46358287 0.47220089\n",
      " 0.48047285 0.4882508  0.49577137 0.50314811 0.51038386 0.51755563\n",
      " 0.52462185 0.53163064 0.53850343 0.54526781 0.55198433 0.55866726\n",
      " 0.56526848 0.57182915 0.57828913 0.58465428 0.59092755 0.59715183\n",
      " 0.60325653 0.60934468 0.61537299 0.62137109 0.62736007 0.63325603\n",
      " 0.63914707 0.64500704 0.65084763 0.65664802 0.66239336 0.66812852\n",
      " 0.67380726 0.67944024 0.6850566  0.69066022 0.69622695 0.70177538\n",
      " 0.70730136 0.71280866 0.71830264 0.72378075 0.72923766 0.73468457\n",
      " 0.74012711 0.74553522 0.75093545 0.75632377 0.76165675 0.76696577\n",
      " 0.77225974 0.77750464 0.78272504 0.78790692 0.7930606  0.79818882\n",
      " 0.8032701  0.80831848 0.8133553  0.81832183 0.82325703 0.82816435\n",
      " 0.83299709 0.83782044 0.84259191 0.84734339 0.85204266 0.85668852\n",
      " 0.86129555 0.86582845 0.87033213 0.87470856 0.87899207 0.88325266\n",
      " 0.88741492 0.89156655 0.89564068 0.89964608 0.90357128 0.90746806\n",
      " 0.91131501 0.91512002 0.91885814 0.92257688 0.92627161 0.92986498\n",
      " 0.93336323 0.93681277 0.94018042 0.94352447 0.94679896 0.95006008\n",
      " 0.95329188 0.95634929 0.9593197  0.96225727 0.96504055 0.96763709\n",
      " 0.96997998 0.97226943 0.97452769 0.97667953 0.97870171 0.98070485\n",
      " 0.9825415  0.98428254 0.98597833 0.98759289 0.98914604 0.99065268\n",
      " 0.991851   0.99284704 0.99365928 0.99441443 0.99514362 0.99576261\n",
      " 0.99636222 0.99684091 0.99727714 0.99768307 0.99805097 0.99840401\n",
      " 0.99870942 0.99897643 0.99924123 0.99946607 0.99963974 0.99974296\n",
      " 0.99982416 0.99990079 0.99996239 0.99997378 0.99998408 0.99999343\n",
      " 0.99999726 0.99999836 0.99999912 0.9999997  1.         1.\n",
      " 1.         1.         1.         1.         1.         1.\n",
      " 1.         1.         1.         1.         1.         1.\n",
      " 1.         1.         1.         1.         1.         1.\n",
      " 1.         1.         1.         1.         1.         1.\n",
      " 1.         1.         1.         1.         1.        ]\n"
     ]
    },
    {
     "data": {
      "image/png": "[encoded data removed]",
      "text/plain": [
       "<Figure size 600x400 with 1 Axes>"
      ]
     },
     "metadata": {},
     "output_type": "display_data"
    }
   ],
   "source": [
    "# Porcentaje de varianza explicada acumulada\n",
    "# ==============================================================================\n",
    "prop_varianza_acum = modelo_pca.explained_variance_ratio_.cumsum()\n",
    "print('------------------------------------------')\n",
    "print('Porcentaje de varianza explicada acumulada')\n",
    "print('------------------------------------------')\n",
    "print(prop_varianza_acum)\n",
    "\n",
    "fig, ax = plt.subplots(nrows=1, ncols=1, figsize=(6, 4))\n",
    "ax.plot(\n",
    "    np.arange(len(X.columns)) + 1,\n",
    "    prop_varianza_acum,\n",
    "    marker = 'o'\n",
    ")\n",
    "\n",
    "for x, y in zip(np.arange(len(X.columns)) + 1, prop_varianza_acum):\n",
    "    label = round(y, 2)\n",
    "    ax.annotate(\n",
    "        label,\n",
    "        (x,y),\n",
    "        textcoords=\"offset points\",\n",
    "        xytext=(0,10),\n",
    "        ha='center'\n",
    "    )\n",
    "    \n",
    "ax.set_ylim(0, 1.1)\n",
    "ax.set_xticks(np.arange(modelo_pca.n_components_) + 1)\n",
    "ax.set_title('Porcentaje de varianza explicada acumulada')\n",
    "ax.set_xlabel('Componente principal')\n",
    "ax.set_ylabel('Por. varianza acumulada');"
   ]
  },
  {
   "cell_type": "code",
   "execution_count": 186,
   "id": "7391793f-293b-4f8a-b7ed-4b4997e545bf",
   "metadata": {
    "tags": []
   },
   "outputs": [
    {
     "data": {
      "image/png": "[encoded data removed]",
      "text/plain": [
       "<Figure size 640x480 with 1 Axes>"
      ]
     },
     "metadata": {},
     "output_type": "display_data"
    }
   ],
   "source": [
    "#pca = PCA()\n",
    "\n",
    "# ajustar PCA a los datos\n",
    "#pca.fit(X)\n",
    "\n",
    "variance_ratio = modelo_pca.explained_variance_ratio_\n",
    "\n",
    "# calcular la suma acumulativa de la varianza explicada\n",
    "cumulative_variance_ratio = [sum(variance_ratio[:i+1]) for i in range(len(variance_ratio))]\n",
    "\n",
    "# crear el gráfico de codo\n",
    "fig, ax = plt.subplots()\n",
    "ax.plot(range(1, len(cumulative_variance_ratio)+1), cumulative_variance_ratio, 'bo-')\n",
    "ax.set_xlabel('Número de componentes principales')\n",
    "ax.set_ylabel('Varianza explicada acumulada')\n",
    "ax.set_title('Gráfico de codo para PCA')\n",
    "\n",
    "plt.show()"
   ]
  },
  {
   "cell_type": "code",
   "execution_count": 15,
   "id": "ac16c3fc-8594-46e0-9bb2-852adc61df99",
   "metadata": {
    "tags": []
   },
   "outputs": [],
   "source": [
    "valores_propios_df = pd.DataFrame({'Componente': range(1, modelo_pca.n_components_+1),\n",
    "                                   'Valor propio': modelo_pca.explained_variance_})"
   ]
  },
  {
   "cell_type": "code",
   "execution_count": 16,
   "id": "4295be1a-563a-4149-ad54-2730eb8f7f93",
   "metadata": {
    "tags": []
   },
   "outputs": [
    {
     "data": {
      "text/plain": [
       "62"
      ]
     },
     "execution_count": 16,
     "metadata": {},
     "output_type": "execute_result"
    }
   ],
   "source": [
    "len(valores_propios_df[valores_propios_df['Valor propio'] > 1])"
   ]
  },
  {
   "cell_type": "code",
   "execution_count": 17,
   "id": "adfd9c44-8c17-4c66-bd51-7b22380c7162",
   "metadata": {
    "tags": []
   },
   "outputs": [
    {
     "data": {
      "text/html": [
       "<div>\n",
       "<style scoped>\n",
       "    .dataframe tbody tr th:only-of-type {\n",
       "        vertical-align: middle;\n",
       "    }\n",
       "\n",
       "    .dataframe tbody tr th {\n",
       "        vertical-align: top;\n",
       "    }\n",
       "\n",
       "    .dataframe thead th {\n",
       "        text-align: right;\n",
       "    }\n",
       "</style>\n",
       "<table border=\"1\" class=\"dataframe\">\n",
       "  <thead>\n",
       "    <tr style=\"text-align: right;\">\n",
       "      <th></th>\n",
       "      <th>Componente</th>\n",
       "      <th>Valor propio</th>\n",
       "    </tr>\n",
       "  </thead>\n",
       "  <tbody>\n",
       "    <tr>\n",
       "      <th>0</th>\n",
       "      <td>1</td>\n",
       "      <td>17.129437</td>\n",
       "    </tr>\n",
       "    <tr>\n",
       "      <th>1</th>\n",
       "      <td>2</td>\n",
       "      <td>9.626042</td>\n",
       "    </tr>\n",
       "    <tr>\n",
       "      <th>2</th>\n",
       "      <td>3</td>\n",
       "      <td>6.228425</td>\n",
       "    </tr>\n",
       "    <tr>\n",
       "      <th>3</th>\n",
       "      <td>4</td>\n",
       "      <td>5.339008</td>\n",
       "    </tr>\n",
       "    <tr>\n",
       "      <th>4</th>\n",
       "      <td>5</td>\n",
       "      <td>4.695542</td>\n",
       "    </tr>\n",
       "    <tr>\n",
       "      <th>...</th>\n",
       "      <td>...</td>\n",
       "      <td>...</td>\n",
       "    </tr>\n",
       "    <tr>\n",
       "      <th>57</th>\n",
       "      <td>58</td>\n",
       "      <td>1.019864</td>\n",
       "    </tr>\n",
       "    <tr>\n",
       "      <th>58</th>\n",
       "      <td>59</td>\n",
       "      <td>1.013150</td>\n",
       "    </tr>\n",
       "    <tr>\n",
       "      <th>59</th>\n",
       "      <td>60</td>\n",
       "      <td>1.009820</td>\n",
       "    </tr>\n",
       "    <tr>\n",
       "      <th>60</th>\n",
       "      <td>61</td>\n",
       "      <td>1.005734</td>\n",
       "    </tr>\n",
       "    <tr>\n",
       "      <th>61</th>\n",
       "      <td>62</td>\n",
       "      <td>1.002336</td>\n",
       "    </tr>\n",
       "  </tbody>\n",
       "</table>\n",
       "<p>62 rows × 2 columns</p>\n",
       "</div>"
      ],
      "text/plain": [
       "    Componente  Valor propio\n",
       "0            1     17.129437\n",
       "1            2      9.626042\n",
       "2            3      6.228425\n",
       "3            4      5.339008\n",
       "4            5      4.695542\n",
       "..         ...           ...\n",
       "57          58      1.019864\n",
       "58          59      1.013150\n",
       "59          60      1.009820\n",
       "60          61      1.005734\n",
       "61          62      1.002336\n",
       "\n",
       "[62 rows x 2 columns]"
      ]
     },
     "execution_count": 17,
     "metadata": {},
     "output_type": "execute_result"
    }
   ],
   "source": [
    "valores_propios_df[valores_propios_df['Valor propio'] > 1]"
   ]
  },
  {
   "cell_type": "code",
   "execution_count": 18,
   "id": "392b81e1-ef84-4e22-b07a-65a700849471",
   "metadata": {
    "tags": []
   },
   "outputs": [],
   "source": [
    "X_transformado = modelo_pca.transform(X)[:, :62]"
   ]
  },
  {
   "cell_type": "code",
   "execution_count": 20,
   "id": "c8344359-b3ce-4e4c-83a1-f936060ee044",
   "metadata": {
    "tags": []
   },
   "outputs": [
    {
     "data": {
      "text/plain": [
       "176688"
      ]
     },
     "execution_count": 20,
     "metadata": {},
     "output_type": "execute_result"
    }
   ],
   "source": [
    "len(X_transformado)"
   ]
  },
  {
   "cell_type": "code",
   "execution_count": 19,
   "id": "38b34443-8c64-4f3f-8e97-b1ca1adcfdc3",
   "metadata": {
    "tags": []
   },
   "outputs": [
    {
     "data": {
      "text/html": [
       "<div>\n",
       "<style scoped>\n",
       "    .dataframe tbody tr th:only-of-type {\n",
       "        vertical-align: middle;\n",
       "    }\n",
       "\n",
       "    .dataframe tbody tr th {\n",
       "        vertical-align: top;\n",
       "    }\n",
       "\n",
       "    .dataframe thead th {\n",
       "        text-align: right;\n",
       "    }\n",
       "</style>\n",
       "<table border=\"1\" class=\"dataframe\">\n",
       "  <thead>\n",
       "    <tr style=\"text-align: right;\">\n",
       "      <th></th>\n",
       "      <th>COMP1</th>\n",
       "      <th>COMP2</th>\n",
       "      <th>COMP3</th>\n",
       "      <th>COMP4</th>\n",
       "      <th>COMP5</th>\n",
       "      <th>COMP6</th>\n",
       "      <th>COMP7</th>\n",
       "      <th>COMP8</th>\n",
       "      <th>COMP9</th>\n",
       "      <th>COMP10</th>\n",
       "      <th>...</th>\n",
       "      <th>COMP53</th>\n",
       "      <th>COMP54</th>\n",
       "      <th>COMP55</th>\n",
       "      <th>COMP56</th>\n",
       "      <th>COMP57</th>\n",
       "      <th>COMP58</th>\n",
       "      <th>COMP59</th>\n",
       "      <th>COMP60</th>\n",
       "      <th>COMP61</th>\n",
       "      <th>COMP62</th>\n",
       "    </tr>\n",
       "  </thead>\n",
       "  <tbody>\n",
       "    <tr>\n",
       "      <th>0</th>\n",
       "      <td>235459.914914</td>\n",
       "      <td>-210110.320070</td>\n",
       "      <td>-600055.558625</td>\n",
       "      <td>193618.607120</td>\n",
       "      <td>405119.850054</td>\n",
       "      <td>-609681.764653</td>\n",
       "      <td>-217628.035838</td>\n",
       "      <td>330298.209507</td>\n",
       "      <td>203800.814835</td>\n",
       "      <td>400995.924875</td>\n",
       "      <td>...</td>\n",
       "      <td>684517.409590</td>\n",
       "      <td>854946.718631</td>\n",
       "      <td>325191.073854</td>\n",
       "      <td>-425769.935116</td>\n",
       "      <td>90862.073507</td>\n",
       "      <td>-514884.552107</td>\n",
       "      <td>99903.594348</td>\n",
       "      <td>-411670.914943</td>\n",
       "      <td>-164676.893812</td>\n",
       "      <td>633269.867058</td>\n",
       "    </tr>\n",
       "    <tr>\n",
       "      <th>1</th>\n",
       "      <td>237223.963550</td>\n",
       "      <td>-208248.287409</td>\n",
       "      <td>-590531.997705</td>\n",
       "      <td>207623.101643</td>\n",
       "      <td>403577.970349</td>\n",
       "      <td>-606210.242173</td>\n",
       "      <td>-207920.375445</td>\n",
       "      <td>318244.610521</td>\n",
       "      <td>200662.322789</td>\n",
       "      <td>382778.344477</td>\n",
       "      <td>...</td>\n",
       "      <td>697151.244588</td>\n",
       "      <td>849223.112939</td>\n",
       "      <td>326016.763970</td>\n",
       "      <td>-430065.506275</td>\n",
       "      <td>84791.862652</td>\n",
       "      <td>-501395.244253</td>\n",
       "      <td>103691.345450</td>\n",
       "      <td>-423794.206333</td>\n",
       "      <td>-151386.885642</td>\n",
       "      <td>649255.793213</td>\n",
       "    </tr>\n",
       "    <tr>\n",
       "      <th>2</th>\n",
       "      <td>131640.360861</td>\n",
       "      <td>-128759.328878</td>\n",
       "      <td>-312622.363222</td>\n",
       "      <td>114354.074298</td>\n",
       "      <td>196317.293287</td>\n",
       "      <td>-345058.573942</td>\n",
       "      <td>-125756.778968</td>\n",
       "      <td>202291.677606</td>\n",
       "      <td>105388.639714</td>\n",
       "      <td>212067.414609</td>\n",
       "      <td>...</td>\n",
       "      <td>575127.854039</td>\n",
       "      <td>734498.444983</td>\n",
       "      <td>245997.428453</td>\n",
       "      <td>-385102.656172</td>\n",
       "      <td>72034.463984</td>\n",
       "      <td>-434681.250820</td>\n",
       "      <td>101581.963688</td>\n",
       "      <td>-345351.889623</td>\n",
       "      <td>-158432.801361</td>\n",
       "      <td>551469.160865</td>\n",
       "    </tr>\n",
       "    <tr>\n",
       "      <th>3</th>\n",
       "      <td>45653.029601</td>\n",
       "      <td>-76144.700820</td>\n",
       "      <td>-105180.641276</td>\n",
       "      <td>63602.531703</td>\n",
       "      <td>-56990.431474</td>\n",
       "      <td>-214957.978331</td>\n",
       "      <td>-7651.579633</td>\n",
       "      <td>48300.471374</td>\n",
       "      <td>35628.464249</td>\n",
       "      <td>77533.821964</td>\n",
       "      <td>...</td>\n",
       "      <td>653746.143517</td>\n",
       "      <td>894961.304074</td>\n",
       "      <td>239972.443023</td>\n",
       "      <td>-471360.238190</td>\n",
       "      <td>74735.212999</td>\n",
       "      <td>-526351.625462</td>\n",
       "      <td>133355.763687</td>\n",
       "      <td>-370190.485713</td>\n",
       "      <td>-226929.298836</td>\n",
       "      <td>649869.184435</td>\n",
       "    </tr>\n",
       "    <tr>\n",
       "      <th>4</th>\n",
       "      <td>45802.242140</td>\n",
       "      <td>-75967.684161</td>\n",
       "      <td>-104265.377086</td>\n",
       "      <td>65028.386670</td>\n",
       "      <td>-57090.222794</td>\n",
       "      <td>-214597.386237</td>\n",
       "      <td>-6761.854534</td>\n",
       "      <td>47215.732235</td>\n",
       "      <td>35330.413863</td>\n",
       "      <td>75718.087769</td>\n",
       "      <td>...</td>\n",
       "      <td>653354.808096</td>\n",
       "      <td>895589.373003</td>\n",
       "      <td>240386.872188</td>\n",
       "      <td>-470987.512148</td>\n",
       "      <td>73869.865410</td>\n",
       "      <td>-524931.461969</td>\n",
       "      <td>133951.883253</td>\n",
       "      <td>-371530.157012</td>\n",
       "      <td>-225716.515700</td>\n",
       "      <td>651650.284456</td>\n",
       "    </tr>\n",
       "  </tbody>\n",
       "</table>\n",
       "<p>5 rows × 62 columns</p>\n",
       "</div>"
      ],
      "text/plain": [
       "           COMP1          COMP2          COMP3          COMP4          COMP5  \\\n",
       "0  235459.914914 -210110.320070 -600055.558625  193618.607120  405119.850054   \n",
       "1  237223.963550 -208248.287409 -590531.997705  207623.101643  403577.970349   \n",
       "2  131640.360861 -128759.328878 -312622.363222  114354.074298  196317.293287   \n",
       "3   45653.029601  -76144.700820 -105180.641276   63602.531703  -56990.431474   \n",
       "4   45802.242140  -75967.684161 -104265.377086   65028.386670  -57090.222794   \n",
       "\n",
       "           COMP6          COMP7          COMP8          COMP9         COMP10  \\\n",
       "0 -609681.764653 -217628.035838  330298.209507  203800.814835  400995.924875   \n",
       "1 -606210.242173 -207920.375445  318244.610521  200662.322789  382778.344477   \n",
       "2 -345058.573942 -125756.778968  202291.677606  105388.639714  212067.414609   \n",
       "3 -214957.978331   -7651.579633   48300.471374   35628.464249   77533.821964   \n",
       "4 -214597.386237   -6761.854534   47215.732235   35330.413863   75718.087769   \n",
       "\n",
       "   ...         COMP53         COMP54         COMP55         COMP56  \\\n",
       "0  ...  684517.409590  854946.718631  325191.073854 -425769.935116   \n",
       "1  ...  697151.244588  849223.112939  326016.763970 -430065.506275   \n",
       "2  ...  575127.854039  734498.444983  245997.428453 -385102.656172   \n",
       "3  ...  653746.143517  894961.304074  239972.443023 -471360.238190   \n",
       "4  ...  653354.808096  895589.373003  240386.872188 -470987.512148   \n",
       "\n",
       "         COMP57         COMP58         COMP59         COMP60         COMP61  \\\n",
       "0  90862.073507 -514884.552107   99903.594348 -411670.914943 -164676.893812   \n",
       "1  84791.862652 -501395.244253  103691.345450 -423794.206333 -151386.885642   \n",
       "2  72034.463984 -434681.250820  101581.963688 -345351.889623 -158432.801361   \n",
       "3  74735.212999 -526351.625462  133355.763687 -370190.485713 -226929.298836   \n",
       "4  73869.865410 -524931.461969  133951.883253 -371530.157012 -225716.515700   \n",
       "\n",
       "          COMP62  \n",
       "0  633269.867058  \n",
       "1  649255.793213  \n",
       "2  551469.160865  \n",
       "3  649869.184435  \n",
       "4  651650.284456  \n",
       "\n",
       "[5 rows x 62 columns]"
      ]
     },
     "execution_count": 19,
     "metadata": {},
     "output_type": "execute_result"
    }
   ],
   "source": [
    "XPCA = pd.DataFrame(X_transformado, \n",
    "                    columns=['COMP1', 'COMP2','COMP3','COMP4','COMP5','COMP6','COMP7','COMP8','COMP9','COMP10',\n",
    "                            'COMP11', 'COMP12','COMP13','COMP14','COMP15','COMP16','COMP17','COMP18','COMP19','COMP20',\n",
    "                            'COMP21', 'COMP22','COMP23','COMP24','COMP25','COMP26','COMP27','COMP28','COMP29','COMP30',\n",
    "                            'COMP31', 'COMP32','COMP33','COMP34','COMP35','COMP36','COMP37','COMP38','COMP39','COMP40',\n",
    "                            'COMP41', 'COMP42','COMP43','COMP44','COMP45','COMP46','COMP47','COMP48','COMP49','COMP50',\n",
    "                            'COMP51', 'COMP52','COMP53','COMP54','COMP55','COMP56','COMP57','COMP58','COMP59','COMP60',\n",
    "                            'COMP61', 'COMP62'])\n",
    "XPCA.head()"
   ]
  },
  {
   "cell_type": "code",
   "execution_count": 20,
   "id": "363d71c3-a237-47da-870f-799591373005",
   "metadata": {
    "tags": []
   },
   "outputs": [],
   "source": [
    "XPCA = pd.concat([XPCA, clusters], axis = 1)"
   ]
  },
  {
   "cell_type": "markdown",
   "id": "8676e347-bf87-4d21-a009-ff997271cf37",
   "metadata": {},
   "source": [
    "## Creación de conjuntos Training y Testing"
   ]
  },
  {
   "cell_type": "markdown",
   "id": "b37a59b4-f340-45bb-9907-0c409b24b97e",
   "metadata": {},
   "source": [
    "### se extrae una muestra del conjunto de X"
   ]
  },
  {
   "cell_type": "code",
   "execution_count": 169,
   "id": "df212c20-4fc3-46c4-8896-fb75c3bcf2a0",
   "metadata": {
    "tags": []
   },
   "outputs": [],
   "source": [
    "Z = 1.96\n",
    "P = Y.mean()\n",
    "Q = 1- P\n",
    "N = len(X)\n",
    "e = 0.05"
   ]
  },
  {
   "cell_type": "code",
   "execution_count": 175,
   "id": "792c6740-a6ae-47a0-ac0c-0ef142e64fe2",
   "metadata": {
    "tags": []
   },
   "outputs": [
    {
     "data": {
      "text/plain": [
       "122.05685183999996"
      ]
     },
     "execution_count": 175,
     "metadata": {},
     "output_type": "execute_result"
    }
   ],
   "source": [
    "(Z*Z)*P*Q / (e*e)"
   ]
  },
  {
   "cell_type": "code",
   "execution_count": 176,
   "id": "641109ec-7376-4e1b-af08-f002297ced6e",
   "metadata": {
    "tags": []
   },
   "outputs": [
    {
     "data": {
      "text/plain": [
       "122.05685183999996"
      ]
     },
     "execution_count": 176,
     "metadata": {},
     "output_type": "execute_result"
    }
   ],
   "source": [
    "(Z*Z)*Q / (e*e)*P"
   ]
  },
  {
   "cell_type": "code",
   "execution_count": 21,
   "id": "ae3b2026-ff3b-4708-8995-f874c6fadf6d",
   "metadata": {
    "tags": []
   },
   "outputs": [],
   "source": [
    "df1 = pd.concat([XPCA, df.TARGET], axis = 1)\n",
    "#df1 = df1.sample(n = round(len(df1)/2), random_state= 22)\n",
    "X = df1.drop(['TARGET'], axis = 1)\n",
    "Y = df1.TARGET"
   ]
  },
  {
   "cell_type": "code",
   "execution_count": 46,
   "id": "84a3afd1-14f4-4509-859a-2111c77c6e86",
   "metadata": {
    "tags": []
   },
   "outputs": [],
   "source": [
    "dfSVM = df1.sample(n = 2000, random_state= 22)\n",
    "XSVM = dfSVM.drop(['TARGET'], axis = 1)\n",
    "YSVM = dfSVM.TARGET"
   ]
  },
  {
   "cell_type": "code",
   "execution_count": 173,
   "id": "6d157a2f-5b12-4542-8912-cf8bec1c7fc0",
   "metadata": {
    "tags": []
   },
   "outputs": [
    {
     "data": {
      "text/plain": [
       "176688"
      ]
     },
     "execution_count": 173,
     "metadata": {},
     "output_type": "execute_result"
    }
   ],
   "source": [
    "len(clusters)"
   ]
  },
  {
   "cell_type": "code",
   "execution_count": 201,
   "id": "cb485fef-f377-4091-8e46-4702b396dc74",
   "metadata": {
    "tags": []
   },
   "outputs": [],
   "source": [
    "df = pd.concat([df, clusters], axis = 1)"
   ]
  },
  {
   "cell_type": "code",
   "execution_count": 202,
   "id": "512492ff-aee0-4c66-8caa-63a0f1e4e070",
   "metadata": {
    "tags": []
   },
   "outputs": [
    {
     "data": {
      "text/plain": [
       "3    74114\n",
       "1    44915\n",
       "0    43892\n",
       "2    13767\n",
       "Name: CLUSTER, dtype: int64"
      ]
     },
     "execution_count": 202,
     "metadata": {},
     "output_type": "execute_result"
    }
   ],
   "source": [
    "df.CLUSTER.value_counts()"
   ]
  },
  {
   "cell_type": "code",
   "execution_count": 101,
   "id": "9288a401-f804-49a2-9264-27346d1a91f7",
   "metadata": {
    "tags": []
   },
   "outputs": [],
   "source": [
    "X = df1.drop(['TARGET'], axis = 1)\n",
    "Y = df1.TARGET"
   ]
  },
  {
   "cell_type": "code",
   "execution_count": 176,
   "id": "2cf8e50b-b26b-457b-8a74-65e7a2d4693b",
   "metadata": {
    "tags": []
   },
   "outputs": [
    {
     "data": {
      "text/html": [
       "<div>\n",
       "<style scoped>\n",
       "    .dataframe tbody tr th:only-of-type {\n",
       "        vertical-align: middle;\n",
       "    }\n",
       "\n",
       "    .dataframe tbody tr th {\n",
       "        vertical-align: top;\n",
       "    }\n",
       "\n",
       "    .dataframe thead th {\n",
       "        text-align: right;\n",
       "    }\n",
       "</style>\n",
       "<table border=\"1\" class=\"dataframe\">\n",
       "  <thead>\n",
       "    <tr style=\"text-align: right;\">\n",
       "      <th></th>\n",
       "      <th>COMP1</th>\n",
       "      <th>COMP2</th>\n",
       "      <th>COMP3</th>\n",
       "      <th>COMP4</th>\n",
       "      <th>COMP5</th>\n",
       "      <th>COMP6</th>\n",
       "      <th>COMP7</th>\n",
       "      <th>COMP8</th>\n",
       "      <th>COMP9</th>\n",
       "      <th>COMP10</th>\n",
       "      <th>...</th>\n",
       "      <th>COMP54</th>\n",
       "      <th>COMP55</th>\n",
       "      <th>COMP56</th>\n",
       "      <th>COMP57</th>\n",
       "      <th>COMP58</th>\n",
       "      <th>COMP59</th>\n",
       "      <th>COMP60</th>\n",
       "      <th>COMP61</th>\n",
       "      <th>COMP62</th>\n",
       "      <th>CLUSTER</th>\n",
       "    </tr>\n",
       "  </thead>\n",
       "  <tbody>\n",
       "    <tr>\n",
       "      <th>0</th>\n",
       "      <td>235459.914914</td>\n",
       "      <td>-210110.320070</td>\n",
       "      <td>-600055.558625</td>\n",
       "      <td>193618.607120</td>\n",
       "      <td>405119.850054</td>\n",
       "      <td>-609681.764653</td>\n",
       "      <td>-217628.035838</td>\n",
       "      <td>330298.209507</td>\n",
       "      <td>203800.814835</td>\n",
       "      <td>400995.924875</td>\n",
       "      <td>...</td>\n",
       "      <td>854946.718631</td>\n",
       "      <td>325191.073853</td>\n",
       "      <td>-425769.935116</td>\n",
       "      <td>90862.073507</td>\n",
       "      <td>-514884.552107</td>\n",
       "      <td>99903.594348</td>\n",
       "      <td>-411670.914943</td>\n",
       "      <td>-164676.893812</td>\n",
       "      <td>633269.867058</td>\n",
       "      <td>0</td>\n",
       "    </tr>\n",
       "    <tr>\n",
       "      <th>1</th>\n",
       "      <td>237223.963550</td>\n",
       "      <td>-208248.287409</td>\n",
       "      <td>-590531.997705</td>\n",
       "      <td>207623.101643</td>\n",
       "      <td>403577.970349</td>\n",
       "      <td>-606210.242173</td>\n",
       "      <td>-207920.375445</td>\n",
       "      <td>318244.610521</td>\n",
       "      <td>200662.322789</td>\n",
       "      <td>382778.344477</td>\n",
       "      <td>...</td>\n",
       "      <td>849223.112939</td>\n",
       "      <td>326016.763970</td>\n",
       "      <td>-430065.506275</td>\n",
       "      <td>84791.862652</td>\n",
       "      <td>-501395.244252</td>\n",
       "      <td>103691.345450</td>\n",
       "      <td>-423794.206333</td>\n",
       "      <td>-151386.885642</td>\n",
       "      <td>649255.793214</td>\n",
       "      <td>0</td>\n",
       "    </tr>\n",
       "    <tr>\n",
       "      <th>2</th>\n",
       "      <td>131640.360861</td>\n",
       "      <td>-128759.328878</td>\n",
       "      <td>-312622.363222</td>\n",
       "      <td>114354.074298</td>\n",
       "      <td>196317.293287</td>\n",
       "      <td>-345058.573942</td>\n",
       "      <td>-125756.778968</td>\n",
       "      <td>202291.677606</td>\n",
       "      <td>105388.639714</td>\n",
       "      <td>212067.414609</td>\n",
       "      <td>...</td>\n",
       "      <td>734498.444983</td>\n",
       "      <td>245997.428453</td>\n",
       "      <td>-385102.656172</td>\n",
       "      <td>72034.463984</td>\n",
       "      <td>-434681.250819</td>\n",
       "      <td>101581.963689</td>\n",
       "      <td>-345351.889623</td>\n",
       "      <td>-158432.801361</td>\n",
       "      <td>551469.160865</td>\n",
       "      <td>3</td>\n",
       "    </tr>\n",
       "    <tr>\n",
       "      <th>3</th>\n",
       "      <td>45653.029601</td>\n",
       "      <td>-76144.700820</td>\n",
       "      <td>-105180.641276</td>\n",
       "      <td>63602.531703</td>\n",
       "      <td>-56990.431474</td>\n",
       "      <td>-214957.978331</td>\n",
       "      <td>-7651.579633</td>\n",
       "      <td>48300.471374</td>\n",
       "      <td>35628.464249</td>\n",
       "      <td>77533.821964</td>\n",
       "      <td>...</td>\n",
       "      <td>894961.304074</td>\n",
       "      <td>239972.443023</td>\n",
       "      <td>-471360.238190</td>\n",
       "      <td>74735.212999</td>\n",
       "      <td>-526351.625462</td>\n",
       "      <td>133355.763687</td>\n",
       "      <td>-370190.485713</td>\n",
       "      <td>-226929.298835</td>\n",
       "      <td>649869.184435</td>\n",
       "      <td>3</td>\n",
       "    </tr>\n",
       "    <tr>\n",
       "      <th>4</th>\n",
       "      <td>45802.242140</td>\n",
       "      <td>-75967.684161</td>\n",
       "      <td>-104265.377086</td>\n",
       "      <td>65028.386670</td>\n",
       "      <td>-57090.222794</td>\n",
       "      <td>-214597.386237</td>\n",
       "      <td>-6761.854534</td>\n",
       "      <td>47215.732235</td>\n",
       "      <td>35330.413863</td>\n",
       "      <td>75718.087769</td>\n",
       "      <td>...</td>\n",
       "      <td>895589.373004</td>\n",
       "      <td>240386.872188</td>\n",
       "      <td>-470987.512148</td>\n",
       "      <td>73869.865410</td>\n",
       "      <td>-524931.461969</td>\n",
       "      <td>133951.883253</td>\n",
       "      <td>-371530.157012</td>\n",
       "      <td>-225716.515700</td>\n",
       "      <td>651650.284457</td>\n",
       "      <td>3</td>\n",
       "    </tr>\n",
       "  </tbody>\n",
       "</table>\n",
       "<p>5 rows × 63 columns</p>\n",
       "</div>"
      ],
      "text/plain": [
       "           COMP1          COMP2          COMP3          COMP4          COMP5  \\\n",
       "0  235459.914914 -210110.320070 -600055.558625  193618.607120  405119.850054   \n",
       "1  237223.963550 -208248.287409 -590531.997705  207623.101643  403577.970349   \n",
       "2  131640.360861 -128759.328878 -312622.363222  114354.074298  196317.293287   \n",
       "3   45653.029601  -76144.700820 -105180.641276   63602.531703  -56990.431474   \n",
       "4   45802.242140  -75967.684161 -104265.377086   65028.386670  -57090.222794   \n",
       "\n",
       "           COMP6          COMP7          COMP8          COMP9         COMP10  \\\n",
       "0 -609681.764653 -217628.035838  330298.209507  203800.814835  400995.924875   \n",
       "1 -606210.242173 -207920.375445  318244.610521  200662.322789  382778.344477   \n",
       "2 -345058.573942 -125756.778968  202291.677606  105388.639714  212067.414609   \n",
       "3 -214957.978331   -7651.579633   48300.471374   35628.464249   77533.821964   \n",
       "4 -214597.386237   -6761.854534   47215.732235   35330.413863   75718.087769   \n",
       "\n",
       "   ...         COMP54         COMP55         COMP56        COMP57  \\\n",
       "0  ...  854946.718631  325191.073853 -425769.935116  90862.073507   \n",
       "1  ...  849223.112939  326016.763970 -430065.506275  84791.862652   \n",
       "2  ...  734498.444983  245997.428453 -385102.656172  72034.463984   \n",
       "3  ...  894961.304074  239972.443023 -471360.238190  74735.212999   \n",
       "4  ...  895589.373004  240386.872188 -470987.512148  73869.865410   \n",
       "\n",
       "          COMP58         COMP59         COMP60         COMP61         COMP62  \\\n",
       "0 -514884.552107   99903.594348 -411670.914943 -164676.893812  633269.867058   \n",
       "1 -501395.244252  103691.345450 -423794.206333 -151386.885642  649255.793214   \n",
       "2 -434681.250819  101581.963689 -345351.889623 -158432.801361  551469.160865   \n",
       "3 -526351.625462  133355.763687 -370190.485713 -226929.298835  649869.184435   \n",
       "4 -524931.461969  133951.883253 -371530.157012 -225716.515700  651650.284457   \n",
       "\n",
       "   CLUSTER  \n",
       "0        0  \n",
       "1        0  \n",
       "2        3  \n",
       "3        3  \n",
       "4        3  \n",
       "\n",
       "[5 rows x 63 columns]"
      ]
     },
     "execution_count": 176,
     "metadata": {},
     "output_type": "execute_result"
    }
   ],
   "source": [
    "X.head()"
   ]
  },
  {
   "cell_type": "code",
   "execution_count": 140,
   "id": "9ffa1a69-5826-47c1-8bcd-9514081c3f2d",
   "metadata": {
    "tags": []
   },
   "outputs": [],
   "source": [
    "X_train, X_test, y_train, y_test = train_test_split(X, Y, random_state=22, stratify = Y)"
   ]
  },
  {
   "cell_type": "code",
   "execution_count": 47,
   "id": "a76d9d5c-e784-43ea-8a3a-162925e1153e",
   "metadata": {
    "tags": []
   },
   "outputs": [],
   "source": [
    "X_trainSVM, X_testSVM, y_trainSVM, y_testSVM = train_test_split(XSVM, YSVM, random_state=22, stratify = YSVM)"
   ]
  },
  {
   "cell_type": "code",
   "execution_count": 141,
   "id": "1a5d79c0-7828-4d37-b46d-a6d4de5db289",
   "metadata": {
    "tags": []
   },
   "outputs": [
    {
     "ename": "AttributeError",
     "evalue": "'DataFrame' object has no attribute 'CLUSTER'",
     "output_type": "error",
     "traceback": [
      "\u001b[0;31m---------------------------------------------------------------------------\u001b[0m",
      "\u001b[0;31mAttributeError\u001b[0m                            Traceback (most recent call last)",
      "Cell \u001b[0;32mIn[141], line 1\u001b[0m\n\u001b[0;32m----> 1\u001b[0m Cluster_train \u001b[38;5;241m=\u001b[39m \u001b[43mX_train\u001b[49m\u001b[38;5;241;43m.\u001b[39;49m\u001b[43mCLUSTER\u001b[49m\n\u001b[1;32m      2\u001b[0m Cluster_test \u001b[38;5;241m=\u001b[39m X_test\u001b[38;5;241m.\u001b[39mCLUSTER\n\u001b[1;32m      4\u001b[0m X_train \u001b[38;5;241m=\u001b[39m X_train\u001b[38;5;241m.\u001b[39mdrop([\u001b[38;5;124m'\u001b[39m\u001b[38;5;124mCLUSTER\u001b[39m\u001b[38;5;124m'\u001b[39m], axis \u001b[38;5;241m=\u001b[39m \u001b[38;5;241m1\u001b[39m)  \n",
      "File \u001b[0;32m/opt/conda/lib/python3.10/site-packages/pandas/core/generic.py:5902\u001b[0m, in \u001b[0;36mNDFrame.__getattr__\u001b[0;34m(self, name)\u001b[0m\n\u001b[1;32m   5895\u001b[0m \u001b[38;5;28;01mif\u001b[39;00m (\n\u001b[1;32m   5896\u001b[0m     name \u001b[38;5;129;01mnot\u001b[39;00m \u001b[38;5;129;01min\u001b[39;00m \u001b[38;5;28mself\u001b[39m\u001b[38;5;241m.\u001b[39m_internal_names_set\n\u001b[1;32m   5897\u001b[0m     \u001b[38;5;129;01mand\u001b[39;00m name \u001b[38;5;129;01mnot\u001b[39;00m \u001b[38;5;129;01min\u001b[39;00m \u001b[38;5;28mself\u001b[39m\u001b[38;5;241m.\u001b[39m_metadata\n\u001b[1;32m   5898\u001b[0m     \u001b[38;5;129;01mand\u001b[39;00m name \u001b[38;5;129;01mnot\u001b[39;00m \u001b[38;5;129;01min\u001b[39;00m \u001b[38;5;28mself\u001b[39m\u001b[38;5;241m.\u001b[39m_accessors\n\u001b[1;32m   5899\u001b[0m     \u001b[38;5;129;01mand\u001b[39;00m \u001b[38;5;28mself\u001b[39m\u001b[38;5;241m.\u001b[39m_info_axis\u001b[38;5;241m.\u001b[39m_can_hold_identifiers_and_holds_name(name)\n\u001b[1;32m   5900\u001b[0m ):\n\u001b[1;32m   5901\u001b[0m     \u001b[38;5;28;01mreturn\u001b[39;00m \u001b[38;5;28mself\u001b[39m[name]\n\u001b[0;32m-> 5902\u001b[0m \u001b[38;5;28;01mreturn\u001b[39;00m \u001b[38;5;28;43mobject\u001b[39;49m\u001b[38;5;241;43m.\u001b[39;49m\u001b[38;5;21;43m__getattribute__\u001b[39;49m\u001b[43m(\u001b[49m\u001b[38;5;28;43mself\u001b[39;49m\u001b[43m,\u001b[49m\u001b[43m \u001b[49m\u001b[43mname\u001b[49m\u001b[43m)\u001b[49m\n",
      "\u001b[0;31mAttributeError\u001b[0m: 'DataFrame' object has no attribute 'CLUSTER'"
     ]
    }
   ],
   "source": [
    "Cluster_train = X_train.CLUSTER\n",
    "Cluster_test = X_test.CLUSTER\n",
    "\n",
    "X_train = X_train.drop(['CLUSTER'], axis = 1)  \n",
    "X_test = X_test.drop(['CLUSTER'], axis = 1)"
   ]
  },
  {
   "cell_type": "code",
   "execution_count": 48,
   "id": "3104bd18-c895-4502-a8b4-e6920b8e39f7",
   "metadata": {
    "tags": []
   },
   "outputs": [],
   "source": [
    "Cluster_trainSVM = X_trainSVM.CLUSTER\n",
    "Cluster_testSVM = X_testSVM.CLUSTER\n",
    "\n",
    "X_trainSVM = X_trainSVM.drop(['CLUSTER'], axis = 1)  \n",
    "X_testSVM = X_testSVM.drop(['CLUSTER'], axis = 1)"
   ]
  },
  {
   "cell_type": "code",
   "execution_count": 142,
   "id": "324d378b-cd58-490c-a29c-ab72887ee501",
   "metadata": {
    "tags": []
   },
   "outputs": [
    {
     "name": "stdout",
     "output_type": "stream",
     "text": [
      "X_train : 132516\n",
      "y_train : 132516\n",
      "X_test : 44172\n",
      "y_test : 44172\n"
     ]
    }
   ],
   "source": [
    "print(\"X_train :\", len(X_train))\n",
    "print(\"y_train :\", len(y_train))\n",
    "print(\"X_test :\", len(X_test))\n",
    "print(\"y_test :\", len(y_test))"
   ]
  },
  {
   "cell_type": "code",
   "execution_count": 29,
   "id": "e3d58ddb-b80c-4a96-88fb-3765e5666227",
   "metadata": {
    "tags": []
   },
   "outputs": [
    {
     "name": "stdout",
     "output_type": "stream",
     "text": [
      "%TARGET_Y 0.08875532011228833\n",
      "%TARGET_Y_train 0.08875154698300583\n",
      "%TARGET_Y_test 0.08876663950013583\n"
     ]
    }
   ],
   "source": [
    "print(\"%TARGET_Y\", Y.mean())\n",
    "print(\"%TARGET_Y_train\", y_train.mean())\n",
    "print(\"%TARGET_Y_test\", y_test.mean())"
   ]
  },
  {
   "cell_type": "code",
   "execution_count": 30,
   "id": "641185ac-f92f-40d0-a7c9-993acc5b971f",
   "metadata": {
    "tags": []
   },
   "outputs": [
    {
     "data": {
      "text/plain": [
       "3    74114\n",
       "1    44915\n",
       "0    43892\n",
       "2    13767\n",
       "Name: CLUSTER, dtype: int64"
      ]
     },
     "execution_count": 30,
     "metadata": {},
     "output_type": "execute_result"
    }
   ],
   "source": [
    "X.CLUSTER.value_counts()"
   ]
  },
  {
   "cell_type": "code",
   "execution_count": 31,
   "id": "0cfc49ff-d2ba-41d8-ad83-3a9e276441af",
   "metadata": {
    "tags": []
   },
   "outputs": [
    {
     "data": {
      "text/plain": [
       "3    0.419693\n",
       "1    0.254007\n",
       "0    0.248106\n",
       "2    0.078194\n",
       "Name: CLUSTER, dtype: float64"
      ]
     },
     "execution_count": 31,
     "metadata": {},
     "output_type": "execute_result"
    }
   ],
   "source": [
    "Cluster_train.value_counts() / len(Cluster_train)"
   ]
  },
  {
   "cell_type": "code",
   "execution_count": 32,
   "id": "2b33da31-e40f-467d-b2b9-e15254e7e14b",
   "metadata": {
    "tags": []
   },
   "outputs": [
    {
     "data": {
      "text/plain": [
       "3    0.418772\n",
       "1    0.254799\n",
       "0    0.249343\n",
       "2    0.077085\n",
       "Name: CLUSTER, dtype: float64"
      ]
     },
     "execution_count": 32,
     "metadata": {},
     "output_type": "execute_result"
    }
   ],
   "source": [
    "Cluster_test.value_counts() / len(Cluster_test)"
   ]
  },
  {
   "cell_type": "code",
   "execution_count": 186,
   "id": "769be63e-8892-4058-9d18-b2d295209613",
   "metadata": {
    "tags": []
   },
   "outputs": [
    {
     "data": {
      "text/plain": [
       "array(['COMP1', 'COMP2', 'COMP3', 'COMP4', 'COMP5', 'COMP6', 'COMP7',\n",
       "       'COMP8', 'COMP9', 'COMP10', 'COMP11', 'COMP12', 'COMP13', 'COMP14',\n",
       "       'COMP15', 'COMP16', 'COMP17', 'COMP18', 'COMP19', 'COMP20',\n",
       "       'COMP21', 'COMP22', 'COMP23', 'COMP24', 'COMP25', 'COMP26',\n",
       "       'COMP27', 'COMP28', 'COMP29', 'COMP30', 'COMP31', 'COMP32',\n",
       "       'COMP33', 'COMP34', 'COMP35', 'COMP36', 'COMP37', 'COMP38',\n",
       "       'COMP39', 'COMP40', 'COMP41', 'COMP42', 'COMP43', 'COMP44',\n",
       "       'COMP45', 'COMP46', 'COMP47', 'COMP48', 'COMP49', 'COMP50',\n",
       "       'COMP51', 'COMP52', 'COMP53', 'COMP54', 'COMP55', 'COMP56',\n",
       "       'COMP57', 'COMP58', 'COMP59', 'COMP60', 'COMP61', 'COMP62'],\n",
       "      dtype=object)"
      ]
     },
     "execution_count": 186,
     "metadata": {},
     "output_type": "execute_result"
    }
   ],
   "source": [
    "X_train.columns.values"
   ]
  },
  {
   "cell_type": "markdown",
   "id": "808815b7-c420-4652-a70c-4635669dd5c6",
   "metadata": {},
   "source": [
    "## Balanceo del conjunto de entrenamiento"
   ]
  },
  {
   "cell_type": "code",
   "execution_count": 76,
   "id": "9ed8fd07-c424-4ab6-b9d8-1428b134a1d3",
   "metadata": {
    "tags": []
   },
   "outputs": [],
   "source": [
    "#%pip install imblearn"
   ]
  },
  {
   "cell_type": "code",
   "execution_count": 24,
   "id": "def43268-d5cb-468c-864c-7c2ef858bfcc",
   "metadata": {
    "tags": []
   },
   "outputs": [],
   "source": [
    "from imblearn.over_sampling import SMOTE\n",
    "from sklearn.datasets import make_classification\n",
    "from collections import Counter"
   ]
  },
  {
   "cell_type": "code",
   "execution_count": 34,
   "id": "2008d28f-8d38-41db-ae15-f59cd6691da3",
   "metadata": {
    "tags": []
   },
   "outputs": [
    {
     "name": "stdout",
     "output_type": "stream",
     "text": [
      "Empty DataFrame\n",
      "Columns: []\n",
      "Index: [118327, 36493, 143831, 140585, 98940, 26224, 74652, 148003, 16252, 101121, 1658, 103753, 137322, 148967, 164904, 166592, 93197, 35360, 36753, 91744, 36983, 12705, 44524, 77751, 58795, 126568, 34909, 64956, 78920, 73971, 33721, 156251, 150876, 105676, 128256, 131335, 109956, 53104, 60794, 10941, 69257, 25952, 2669, 124624, 44158, 145111, 100954, 48437, 149865, 32473, 169435, 144829, 175933, 9510, 52520, 167916, 76389, 342, 161782, 3120, 59196, 44498, 103431, 169904, 176128, 53950, 164600, 140246, 70995, 70843, 155224, 122465, 60740, 80553, 75663, 153055, 115729, 99783, 46748, 154101, 5024, 130795, 40033, 40932, 39171, 161391, 47408, 84855, 173716, 157364, 145245, 3523, 6916, 53544, 26986, 151598, 89654, 62203, 137199, 40087, ...]\n",
      "\n",
      "[132516 rows x 0 columns]\n"
     ]
    }
   ],
   "source": [
    "# Supongamos que el dataframe se llama df\n",
    "mask = X_train.dtypes == 'object'\n",
    "df_object = X_train.loc[:, mask]\n",
    "print(df_object)"
   ]
  },
  {
   "cell_type": "code",
   "execution_count": 143,
   "id": "854f4734-ac86-4f40-b143-9361358dae88",
   "metadata": {
    "tags": []
   },
   "outputs": [],
   "source": [
    "# Aplicar SMOTE\n",
    "Xtrain = X_train\n",
    "ytrain = y_train\n",
    "sm = SMOTE(random_state=110322)\n",
    "Xtrain, ytrain = sm.fit_resample(Xtrain, ytrain)"
   ]
  },
  {
   "cell_type": "code",
   "execution_count": 149,
   "id": "e4223dd0-28f7-4c94-ac2a-f25c2bcd85e9",
   "metadata": {
    "tags": []
   },
   "outputs": [
    {
     "name": "stdout",
     "output_type": "stream",
     "text": [
      "0.5\n",
      "ytrain:  241510\n",
      "y_train:  132516\n",
      "Xtrain:  241510\n",
      "X_train:  132516\n"
     ]
    }
   ],
   "source": [
    "print(ytrain.mean())\n",
    "print('ytrain: ', len(ytrain))\n",
    "print('y_train: ', len(y_train))\n",
    "print('Xtrain: ', len(Xtrain))\n",
    "print('X_train: ', len(X_train))"
   ]
  },
  {
   "cell_type": "code",
   "execution_count": 154,
   "id": "5fce9515-ad84-4732-b444-2f6996d24e84",
   "metadata": {
    "tags": []
   },
   "outputs": [
    {
     "data": {
      "image/png": "[encoded data removed]",
      "text/plain": [
       "<Figure size 640x480 with 1 Axes>"
      ]
     },
     "metadata": {},
     "output_type": "display_data"
    },
    {
     "data": {
      "text/plain": [
       "<Figure size 640x480 with 0 Axes>"
      ]
     },
     "metadata": {},
     "output_type": "display_data"
    }
   ],
   "source": [
    "# Calcular el porcentaje de cada categoría en la variable 'y_train'\n",
    "target_counts = y_train.value_counts()\n",
    "target_percentages = target_counts / len(y_train) * 100\n",
    "\n",
    "# Configurar el gráfico de barras\n",
    "plt.bar(target_percentages.index.astype(str), target_percentages)\n",
    "\n",
    "# Etiquetas y título del gráfico\n",
    "plt.xlabel('Probabilidad de Impago')\n",
    "plt.ylabel('Porcentaje')\n",
    "plt.title('Variable Objetivo antes de SMOTE. n = 132,516')\n",
    "\n",
    "# Mostrar el gráfico\n",
    "plt.show()\n",
    "plt.savefig('noSMOTE.png')"
   ]
  },
  {
   "cell_type": "code",
   "execution_count": 153,
   "id": "239f7042-f853-4ac9-87d5-606248a1c207",
   "metadata": {
    "tags": []
   },
   "outputs": [
    {
     "data": {
      "image/png": "[encoded data removed]",
      "text/plain": [
       "<Figure size 640x480 with 1 Axes>"
      ]
     },
     "metadata": {},
     "output_type": "display_data"
    },
    {
     "data": {
      "text/plain": [
       "<Figure size 640x480 with 0 Axes>"
      ]
     },
     "metadata": {},
     "output_type": "display_data"
    }
   ],
   "source": [
    "# Calcular el porcentaje de cada categoría en la variable 'y_train'\n",
    "target_counts = ytrain.value_counts()\n",
    "target_percentages = target_counts / len(ytrain) * 100\n",
    "\n",
    "# Configurar el gráfico de barras\n",
    "plt.bar(target_percentages.index.astype(str), target_percentages)\n",
    "\n",
    "# Etiquetas y título del gráfico\n",
    "plt.xlabel('Probabilidad de Impago')\n",
    "plt.ylabel('Porcentaje')\n",
    "plt.title('Variable Objetivo después de SMOTE. n = 241,510')\n",
    "\n",
    "# Mostrar el gráfico\n",
    "plt.show()\n",
    "plt.savefig('SMOTE.png')"
   ]
  },
  {
   "cell_type": "code",
   "execution_count": 25,
   "id": "53ac13ea-67d4-46cd-9687-da6eebf04a24",
   "metadata": {
    "tags": []
   },
   "outputs": [],
   "source": [
    "# Aplicar SMOTE\n",
    "sm = SMOTE(random_state=110322)\n",
    "X_train, y_train = sm.fit_resample(X_train, y_train)"
   ]
  },
  {
   "cell_type": "code",
   "execution_count": 49,
   "id": "757be83d-f844-4a2b-90d7-49e94e5360d4",
   "metadata": {
    "tags": []
   },
   "outputs": [],
   "source": [
    "# Aplicar SMOTE\n",
    "sm = SMOTE(random_state=110322)\n",
    "X_trainSVM, y_trainSVM = sm.fit_resample(X_trainSVM, y_trainSVM)"
   ]
  },
  {
   "cell_type": "code",
   "execution_count": 139,
   "id": "2950cbb9-9197-44ec-ba67-9f0b2ec37ddd",
   "metadata": {
    "tags": []
   },
   "outputs": [
    {
     "name": "stdout",
     "output_type": "stream",
     "text": [
      "0.5\n",
      "241510\n",
      "241510\n"
     ]
    }
   ],
   "source": [
    "print(y_train.mean())\n",
    "print(len(y_train))\n",
    "print(len(X_train))"
   ]
  },
  {
   "cell_type": "code",
   "execution_count": 36,
   "id": "dddacdc0-7e8b-4734-a447-a8d618e7b299",
   "metadata": {},
   "outputs": [],
   "source": [
    "from sklearn.metrics import make_scorer, f1_score\n",
    "from sklearn.model_selection import GridSearchCV\n",
    "\n",
    "# Definir el objeto scorer utilizando el F1-Score con pos_label=1 (clase positiva)\n",
    "scorer = make_scorer(f1_score, pos_label=1)"
   ]
  },
  {
   "cell_type": "markdown",
   "id": "09bbbe63-1dfd-471d-8350-ff73d533315b",
   "metadata": {},
   "source": [
    "@book{thakur2020approaching,\n",
    "  title={Approaching (almost) any machine learning problem},\n",
    "  author={Thakur, Abhishek},\n",
    "  year={2020},\n",
    "  publisher={Abhishek Thakur}\n",
    "}"
   ]
  },
  {
   "cell_type": "markdown",
   "id": "0073d8d9-2622-40c4-bc01-71484edc4c85",
   "metadata": {},
   "source": [
    "## REGRESIÓN LOGÍSTICA"
   ]
  },
  {
   "cell_type": "code",
   "execution_count": 197,
   "id": "561c3ff0-a81c-46d5-81ed-f3fe963facdb",
   "metadata": {
    "tags": []
   },
   "outputs": [],
   "source": [
    "#instanciamos la regresión logística\n",
    "logreg = LogisticRegression().fit(X_train, y_train)"
   ]
  },
  {
   "cell_type": "code",
   "execution_count": 161,
   "id": "70e147aa-c3f6-482c-a2c1-f1e7b29915b7",
   "metadata": {
    "tags": []
   },
   "outputs": [
    {
     "name": "stdout",
     "output_type": "stream",
     "text": [
      "Back Testing set score:  0.5774472516526307\n",
      "Train set score:  0.5783777069272494\n"
     ]
    }
   ],
   "source": [
    "print(\"Back Testing set score: \", logreg.score(X_test, y_test))\n",
    "print(\"Train set score: \", logreg.score(X_train, y_train))"
   ]
  },
  {
   "cell_type": "code",
   "execution_count": 162,
   "id": "8617ac29-45a1-464c-8868-7a681cdd04f6",
   "metadata": {
    "tags": []
   },
   "outputs": [
    {
     "name": "stdout",
     "output_type": "stream",
     "text": [
      "Average cross-validation score:  0.5775371620222765\n"
     ]
    }
   ],
   "source": [
    "scores = cross_val_score(logreg, X_train, y_train, cv=10);\n",
    "print(\"Average cross-validation score: \", scores.mean())"
   ]
  },
  {
   "cell_type": "code",
   "execution_count": null,
   "id": "e21b8c6a-c2c9-414b-9ec2-ae31524cac30",
   "metadata": {
    "tags": []
   },
   "outputs": [],
   "source": [
    "kfold = KFold(n_splits=10, shuffle=True, random_state=22)\n",
    "print(\"Cross-validation scores:\\n{}\".format(cross_val_score(logreg, X_train, y_train, cv=kfold)))"
   ]
  },
  {
   "cell_type": "code",
   "execution_count": 198,
   "id": "21acf3b5-ae2f-4ee7-b0cf-c9340d14359c",
   "metadata": {
    "tags": []
   },
   "outputs": [],
   "source": [
    "y_pred_rl = logreg.predict(X_test)"
   ]
  },
  {
   "cell_type": "code",
   "execution_count": null,
   "id": "d64d4940-4990-4191-a711-2bc485f71e01",
   "metadata": {},
   "outputs": [],
   "source": []
  },
  {
   "cell_type": "markdown",
   "id": "07bbe851-d06f-49b6-8e40-eed9ef81aad5",
   "metadata": {},
   "source": [
    "## SVM"
   ]
  },
  {
   "cell_type": "code",
   "execution_count": 41,
   "id": "70fffd0e-b29a-4679-81a4-81c7e57c1745",
   "metadata": {
    "tags": []
   },
   "outputs": [],
   "source": [
    "from sklearn.model_selection import GridSearchCV\n",
    "from sklearn.svm import SVC\n",
    "from sklearn.preprocessing import MinMaxScaler\n",
    "from sklearn.pipeline import Pipeline\n",
    "from sklearn import model_selection"
   ]
  },
  {
   "cell_type": "code",
   "execution_count": 30,
   "id": "72b2c18d-0b80-474f-a5ce-230a6a0af283",
   "metadata": {
    "tags": []
   },
   "outputs": [
    {
     "name": "stdout",
     "output_type": "stream",
     "text": [
      "CPU times: user 31 µs, sys: 9 µs, total: 40 µs\n",
      "Wall time: 44.1 µs\n"
     ]
    }
   ],
   "source": [
    "%%time\n",
    "pipe_svm = Pipeline([\n",
    "    ('preprocessing', StandardScaler()),\n",
    "    ('classifier', SVC())\n",
    "])"
   ]
  },
  {
   "cell_type": "code",
   "execution_count": 36,
   "id": "89ebd326-a155-4007-ab70-5e4a8ce83867",
   "metadata": {
    "tags": []
   },
   "outputs": [
    {
     "name": "stdout",
     "output_type": "stream",
     "text": [
      "The list of values for C are [1.e-10 1.e-09 1.e-08 1.e-07 1.e-06 1.e-05 1.e-04 1.e-03 1.e-02 1.e-01\n",
      " 1.e+00 1.e+01 1.e+02 1.e+03 1.e+04 1.e+05 1.e+06 1.e+07 1.e+08 1.e+09\n",
      " 1.e+10]\n",
      "The list of values for gamma are [1.e-10 1.e-09 1.e-08 1.e-07 1.e-06 1.e-05 1.e-04 1.e-03 1.e-02 1.e-01\n",
      " 1.e+00 1.e+01 1.e+02 1.e+03 1.e+04 1.e+05 1.e+06 1.e+07 1.e+08 1.e+09\n",
      " 1.e+10]\n"
     ]
    }
   ],
   "source": [
    "# List of C values\n",
    "C_range = np.logspace(-10, 10, 21)\n",
    "print(f'The list of values for C are {C_range}')\n",
    "\n",
    "# List of gamma values\n",
    "gamma_range = np.logspace(-10, 10, 21)\n",
    "print(f'The list of values for gamma are {gamma_range}')"
   ]
  },
  {
   "cell_type": "markdown",
   "id": "ce6d0db3-ba55-4ffa-9033-4eab672bb847",
   "metadata": {},
   "source": [
    "#### Kernel Lineal"
   ]
  },
  {
   "cell_type": "code",
   "execution_count": 100,
   "id": "3cca370c-1e7d-4331-87ef-1aca12ff2246",
   "metadata": {
    "tags": []
   },
   "outputs": [],
   "source": [
    "#sin kernel\n",
    "#param_grid_svm = {'svm__C': [0.001, 0.01, 0.1, 1, 10, 100], \n",
    "#              'svm__gamma': [0.001, 0.01, 0.1, 1, 10, 100]}\n",
    "\n",
    "#con kernel lineal\n",
    "param_grid_svm_lineal = {\n",
    "    \"C\": C_range,\n",
    "    'classifier__kernel': ['linear'],\n",
    "    \"gamma\": gamma_range.tolist()+['scale', 'auto']\n",
    "}"
   ]
  },
  {
   "cell_type": "code",
   "execution_count": null,
   "id": "718c7e90-f7d0-4243-b95a-de2eaa18b13e",
   "metadata": {
    "tags": []
   },
   "outputs": [],
   "source": [
    "%%time\n",
    "grid_lineal = GridSearchCV(pipe_svm, param_grid=param_grid_svm_lineal, scoring = scorer, cv=5)\n",
    "grid_lineal.fit(X_train, y_train)\n",
    "print(\"Best cross-validation accuracy: {:.4f}\".format(grid_lineal.best_score_))\n",
    "print(\"Test set score: {:.4f}\".format(grid_lineal.score(X_test, y_test)))\n",
    "print(\"Best parameters: {}\".format(grid_lineal.best_params_))"
   ]
  },
  {
   "cell_type": "markdown",
   "id": "764ae3c5-a074-4ec5-92b9-68acfc35d9b4",
   "metadata": {},
   "source": [
    "### Kernel Gaussiano"
   ]
  },
  {
   "cell_type": "code",
   "execution_count": 42,
   "id": "6c2be057-4f3d-4d7c-82d7-0b265c3f7d1c",
   "metadata": {
    "tags": []
   },
   "outputs": [],
   "source": [
    "#sin kernel\n",
    "#param_grid_svm = {'svm__C': [0.001, 0.01, 0.1, 1, 10, 100], \n",
    "#              'svm__gamma': [0.001, 0.01, 0.1, 1, 10, 100]}\n",
    "\n",
    "#con kernel rbf\n",
    "param_grid_svm_rbf = {\n",
    "    'classifier__C': C_range,\n",
    "    'classifier__kernel': ['rbf'],\n",
    "    'classifier__gamma': gamma_range.tolist()+['scale', 'auto']\n",
    "}"
   ]
  },
  {
   "cell_type": "code",
   "execution_count": 53,
   "id": "bee3bbcb-a136-4481-bfb4-be15f2d7c1a0",
   "metadata": {
    "tags": []
   },
   "outputs": [
    {
     "name": "stdout",
     "output_type": "stream",
     "text": [
      "Best cross-validation accuracy: 0.9356\n",
      "Test set score: 0.2564\n",
      "Best parameters: {'classifier__kernel': 'rbf', 'classifier__gamma': 0.1, 'classifier__C': 1000000000.0}\n",
      "CPU times: user 2h 31min 34s, sys: 220 ms, total: 2h 31min 34s\n",
      "Wall time: 2h 31min 33s\n"
     ]
    }
   ],
   "source": [
    "%%time\n",
    "grid_rbf = model_selection.RandomizedSearchCV(pipe_svm, param_distributions=param_grid_svm_rbf, n_iter=10, scoring = scorer,  cv=10)\n",
    "grid_rbf.fit(X_trainSVM, y_trainSVM)\n",
    "print(\"Best cross-validation accuracy: {:.4f}\".format(grid_rbf.best_score_))\n",
    "print(\"Test set score: {:.4f}\".format(grid_rbf.score(X_testSVM, y_testSVM)))\n",
    "print(\"Best parameters: {}\".format(grid_rbf.best_params_))"
   ]
  },
  {
   "cell_type": "code",
   "execution_count": null,
   "id": "dc0a3068-dfc3-458b-9de7-a602df54acdd",
   "metadata": {
    "tags": []
   },
   "outputs": [],
   "source": [
    "model_SVM = Pipeline([\n",
    "    ('preprocessing', StandardScaler()),\n",
    "    ('classifier', SVC(kernel='rbf', gamma=0.1, C=1000000000.0))\n",
    "])\n",
    "\n",
    "# Entrenar el modelo con tus datos de entrenamiento\n",
    "model_SVM.fit(X_train, y_train)\n",
    "print(\"Test-set score: {:.6f}\".format(model_SVM.score(X_test, y_test)))"
   ]
  },
  {
   "cell_type": "code",
   "execution_count": null,
   "id": "9cac3ffb-666c-47bf-abb6-6253e914b65f",
   "metadata": {},
   "outputs": [],
   "source": [
    "y_pred_svm = grid.predict(X_test)"
   ]
  },
  {
   "cell_type": "markdown",
   "id": "5e2687c5-e6a6-4661-b4ec-911723b4935f",
   "metadata": {},
   "source": [
    "## RANDOM FOREST"
   ]
  },
  {
   "cell_type": "code",
   "execution_count": 37,
   "id": "11f13c7d-6d81-471d-9d19-dd446de57cc4",
   "metadata": {},
   "outputs": [],
   "source": [
    "from sklearn.ensemble import RandomForestClassifier"
   ]
  },
  {
   "cell_type": "code",
   "execution_count": 42,
   "id": "828c3378-87ee-4000-b6a2-27e15b79320e",
   "metadata": {},
   "outputs": [],
   "source": [
    "pipe_rf = Pipeline([('preprocessing', StandardScaler()), ('classifier', RandomForestClassifier())])"
   ]
  },
  {
   "cell_type": "code",
   "execution_count": 201,
   "id": "60305999-edbe-40d6-a4d1-01c374e26c13",
   "metadata": {
    "tags": []
   },
   "outputs": [],
   "source": [
    "param_grid = {\n",
    "    'preprocessing__with_mean': [True, False],\n",
    "    'classifier__n_estimators': [10, 50, 100],\n",
    "    'classifier__max_depth': [None, 5, 10]\n",
    "}"
   ]
  },
  {
   "cell_type": "code",
   "execution_count": 206,
   "id": "494ba41b-5710-482d-87b8-f615fdc713d4",
   "metadata": {},
   "outputs": [
    {
     "name": "stdout",
     "output_type": "stream",
     "text": [
      "Best params:\n",
      "{'classifier__max_depth': None, 'classifier__n_estimators': 100, 'preprocessing__with_mean': True}\n",
      "\n",
      "Best cross-validation score: 0.999451\n",
      "Test-set score: 0.965506\n"
     ]
    }
   ],
   "source": [
    "%%time\n",
    "\n",
    "cv = KFold(n_splits=10, shuffle=True, random_state=42) \n",
    "\n",
    "grid_rf = grid = GridSearchCV(pipe_rf, param_grid=param_grid, cv=cv, scoring='roc_auc')\n",
    "\n",
    "rf = grid_rf.fit(X_train, y_train)\n",
    "\n",
    "print(\"Best params:\\n{}\\n\".format(rf.best_params_))\n",
    "print(\"Best cross-validation score: {:.6f}\".format(rf.best_score_))\n",
    "print(\"Test-set score: {:.6f}\".format(rf.score(X_test, y_test)))"
   ]
  },
  {
   "cell_type": "code",
   "execution_count": 253,
   "id": "66cb2480-c0c4-4a3e-bed5-b8d92e124323",
   "metadata": {},
   "outputs": [],
   "source": [
    "y_pred_rf = rf.predict(X_test) "
   ]
  },
  {
   "cell_type": "code",
   "execution_count": 238,
   "id": "94c65f5a-3872-4488-85c9-8812431d88a0",
   "metadata": {
    "tags": []
   },
   "outputs": [
    {
     "data": {
      "text/plain": [
       "22086"
      ]
     },
     "execution_count": 238,
     "metadata": {},
     "output_type": "execute_result"
    }
   ],
   "source": [
    "len(y_pred_rf)"
   ]
  },
  {
   "cell_type": "code",
   "execution_count": 240,
   "id": "2d28769d-d9bd-4928-85fd-1f1987c48fb8",
   "metadata": {
    "tags": []
   },
   "outputs": [
    {
     "data": {
      "text/plain": [
       "44172"
      ]
     },
     "execution_count": 240,
     "metadata": {},
     "output_type": "execute_result"
    }
   ],
   "source": [
    "len(y_test)"
   ]
  },
  {
   "cell_type": "markdown",
   "id": "1c0c41a9-bee6-4314-a886-3d6cd55570e1",
   "metadata": {},
   "source": [
    "## XGBoost"
   ]
  },
  {
   "cell_type": "code",
   "execution_count": 207,
   "id": "fc00fa4a-8743-4d9e-9d16-1b233360f65a",
   "metadata": {
    "tags": []
   },
   "outputs": [],
   "source": [
    "#%pip install xgboost"
   ]
  },
  {
   "cell_type": "code",
   "execution_count": 208,
   "id": "fdda2f66-1553-49eb-96c0-1dc71ba83d85",
   "metadata": {},
   "outputs": [],
   "source": [
    "from xgboost import XGBClassifier\n",
    "from sklearn.model_selection import GridSearchCV, KFold\n",
    "from sklearn.preprocessing import StandardScaler"
   ]
  },
  {
   "cell_type": "code",
   "execution_count": 209,
   "id": "a9cf2d5c-4917-4696-8d6c-d7cd3e03f1d1",
   "metadata": {},
   "outputs": [],
   "source": [
    "# Definir el pipeline\n",
    "pipeline_xgb = Pipeline([\n",
    "    ('preprocessing', StandardScaler()),\n",
    "    ('classifier', XGBClassifier())\n",
    "])"
   ]
  },
  {
   "cell_type": "code",
   "execution_count": 210,
   "id": "1ea28fa1-c5aa-46af-91bd-35cfc486624c",
   "metadata": {},
   "outputs": [],
   "source": [
    "# Definir los parámetros para GridSearchCV\n",
    "param_grid_xgb = {\n",
    "    'preprocessing__with_mean': [True, False],\n",
    "    'classifier__learning_rate': [0.1, 0.01],\n",
    "    'classifier__n_estimators': [10, 50, 100],\n",
    "    'classifier__max_depth': [3, 5, 10]\n",
    "}"
   ]
  },
  {
   "cell_type": "code",
   "execution_count": 213,
   "id": "03182884-bc70-4ae9-bff3-a8fdf43df746",
   "metadata": {},
   "outputs": [],
   "source": [
    "# define el objeto GridSearchCV\n",
    "cv = StratifiedKFold(n_splits=10, shuffle=True, random_state=42)\n",
    "xgb_grid_search = GridSearchCV(pipeline_xgb, param_grid=param_grid_xgb, cv=cv, scoring='roc_auc')"
   ]
  },
  {
   "cell_type": "code",
   "execution_count": 214,
   "id": "d8fc91db-b97c-4337-bb0f-e2d230adeba1",
   "metadata": {},
   "outputs": [
    {
     "data": {
      "text/html": [
       "<style>#sk-container-id-2 {color: black;background-color: white;}#sk-container-id-2 pre{padding: 0;}#sk-container-id-2 div.sk-toggleable {background-color: white;}#sk-container-id-2 label.sk-toggleable__label {cursor: pointer;display: block;width: 100%;margin-bottom: 0;padding: 0.3em;box-sizing: border-box;text-align: center;}#sk-container-id-2 label.sk-toggleable__label-arrow:before {content: \"▸\";float: left;margin-right: 0.25em;color: #696969;}#sk-container-id-2 label.sk-toggleable__label-arrow:hover:before {color: black;}#sk-container-id-2 div.sk-estimator:hover label.sk-toggleable__label-arrow:before {color: black;}#sk-container-id-2 div.sk-toggleable__content {max-height: 0;max-width: 0;overflow: hidden;text-align: left;background-color: #f0f8ff;}#sk-container-id-2 div.sk-toggleable__content pre {margin: 0.2em;color: black;border-radius: 0.25em;background-color: #f0f8ff;}#sk-container-id-2 input.sk-toggleable__control:checked~div.sk-toggleable__content {max-height: 200px;max-width: 100%;overflow: auto;}#sk-container-id-2 input.sk-toggleable__control:checked~label.sk-toggleable__label-arrow:before {content: \"▾\";}#sk-container-id-2 div.sk-estimator input.sk-toggleable__control:checked~label.sk-toggleable__label {background-color: #d4ebff;}#sk-container-id-2 div.sk-label input.sk-toggleable__control:checked~label.sk-toggleable__label {background-color: #d4ebff;}#sk-container-id-2 input.sk-hidden--visually {border: 0;clip: rect(1px 1px 1px 1px);clip: rect(1px, 1px, 1px, 1px);height: 1px;margin: -1px;overflow: hidden;padding: 0;position: absolute;width: 1px;}#sk-container-id-2 div.sk-estimator {font-family: monospace;background-color: #f0f8ff;border: 1px dotted black;border-radius: 0.25em;box-sizing: border-box;margin-bottom: 0.5em;}#sk-container-id-2 div.sk-estimator:hover {background-color: #d4ebff;}#sk-container-id-2 div.sk-parallel-item::after {content: \"\";width: 100%;border-bottom: 1px solid gray;flex-grow: 1;}#sk-container-id-2 div.sk-label:hover label.sk-toggleable__label {background-color: #d4ebff;}#sk-container-id-2 div.sk-serial::before {content: \"\";position: absolute;border-left: 1px solid gray;box-sizing: border-box;top: 0;bottom: 0;left: 50%;z-index: 0;}#sk-container-id-2 div.sk-serial {display: flex;flex-direction: column;align-items: center;background-color: white;padding-right: 0.2em;padding-left: 0.2em;position: relative;}#sk-container-id-2 div.sk-item {position: relative;z-index: 1;}#sk-container-id-2 div.sk-parallel {display: flex;align-items: stretch;justify-content: center;background-color: white;position: relative;}#sk-container-id-2 div.sk-item::before, #sk-container-id-2 div.sk-parallel-item::before {content: \"\";position: absolute;border-left: 1px solid gray;box-sizing: border-box;top: 0;bottom: 0;left: 50%;z-index: -1;}#sk-container-id-2 div.sk-parallel-item {display: flex;flex-direction: column;z-index: 1;position: relative;background-color: white;}#sk-container-id-2 div.sk-parallel-item:first-child::after {align-self: flex-end;width: 50%;}#sk-container-id-2 div.sk-parallel-item:last-child::after {align-self: flex-start;width: 50%;}#sk-container-id-2 div.sk-parallel-item:only-child::after {width: 0;}#sk-container-id-2 div.sk-dashed-wrapped {border: 1px dashed gray;margin: 0 0.4em 0.5em 0.4em;box-sizing: border-box;padding-bottom: 0.4em;background-color: white;}#sk-container-id-2 div.sk-label label {font-family: monospace;font-weight: bold;display: inline-block;line-height: 1.2em;}#sk-container-id-2 div.sk-label-container {text-align: center;}#sk-container-id-2 div.sk-container {/* jupyter's `normalize.less` sets `[hidden] { display: none; }` but bootstrap.min.css set `[hidden] { display: none !important; }` so we also need the `!important` here to be able to override the default hidden behavior on the sphinx rendered scikit-learn.org. See: https://github.com/scikit-learn/scikit-learn/issues/21755 */display: inline-block !important;position: relative;}#sk-container-id-2 div.sk-text-repr-fallback {display: none;}</style><div id=\"sk-container-id-2\" class=\"sk-top-container\"><div class=\"sk-text-repr-fallback\"><pre>GridSearchCV(cv=StratifiedKFold(n_splits=10, random_state=42, shuffle=True),\n",
       "             estimator=Pipeline(steps=[(&#x27;preprocessing&#x27;, StandardScaler()),\n",
       "                                       (&#x27;classifier&#x27;,\n",
       "                                        XGBClassifier(base_score=None,\n",
       "                                                      booster=None,\n",
       "                                                      callbacks=None,\n",
       "                                                      colsample_bylevel=None,\n",
       "                                                      colsample_bynode=None,\n",
       "                                                      colsample_bytree=None,\n",
       "                                                      early_stopping_rounds=None,\n",
       "                                                      enable_categorical=False,\n",
       "                                                      eval_metric=None,\n",
       "                                                      feature...\n",
       "                                                      max_leaves=None,\n",
       "                                                      min_child_weight=None,\n",
       "                                                      missing=nan,\n",
       "                                                      monotone_constraints=None,\n",
       "                                                      n_estimators=100,\n",
       "                                                      n_jobs=None,\n",
       "                                                      num_parallel_tree=None,\n",
       "                                                      predictor=None,\n",
       "                                                      random_state=None, ...))]),\n",
       "             param_grid={&#x27;classifier__learning_rate&#x27;: [0.1, 0.01],\n",
       "                         &#x27;classifier__max_depth&#x27;: [3, 5, 10],\n",
       "                         &#x27;classifier__n_estimators&#x27;: [10, 50, 100],\n",
       "                         &#x27;preprocessing__with_mean&#x27;: [True, False]},\n",
       "             scoring=&#x27;roc_auc&#x27;)</pre><b>In a Jupyter environment, please rerun this cell to show the HTML representation or trust the notebook. <br />On GitHub, the HTML representation is unable to render, please try loading this page with nbviewer.org.</b></div><div class=\"sk-container\" hidden><div class=\"sk-item sk-dashed-wrapped\"><div class=\"sk-label-container\"><div class=\"sk-label sk-toggleable\"><input class=\"sk-toggleable__control sk-hidden--visually\" id=\"sk-estimator-id-5\" type=\"checkbox\" ><label for=\"sk-estimator-id-5\" class=\"sk-toggleable__label sk-toggleable__label-arrow\">GridSearchCV</label><div class=\"sk-toggleable__content\"><pre>GridSearchCV(cv=StratifiedKFold(n_splits=10, random_state=42, shuffle=True),\n",
       "             estimator=Pipeline(steps=[(&#x27;preprocessing&#x27;, StandardScaler()),\n",
       "                                       (&#x27;classifier&#x27;,\n",
       "                                        XGBClassifier(base_score=None,\n",
       "                                                      booster=None,\n",
       "                                                      callbacks=None,\n",
       "                                                      colsample_bylevel=None,\n",
       "                                                      colsample_bynode=None,\n",
       "                                                      colsample_bytree=None,\n",
       "                                                      early_stopping_rounds=None,\n",
       "                                                      enable_categorical=False,\n",
       "                                                      eval_metric=None,\n",
       "                                                      feature...\n",
       "                                                      max_leaves=None,\n",
       "                                                      min_child_weight=None,\n",
       "                                                      missing=nan,\n",
       "                                                      monotone_constraints=None,\n",
       "                                                      n_estimators=100,\n",
       "                                                      n_jobs=None,\n",
       "                                                      num_parallel_tree=None,\n",
       "                                                      predictor=None,\n",
       "                                                      random_state=None, ...))]),\n",
       "             param_grid={&#x27;classifier__learning_rate&#x27;: [0.1, 0.01],\n",
       "                         &#x27;classifier__max_depth&#x27;: [3, 5, 10],\n",
       "                         &#x27;classifier__n_estimators&#x27;: [10, 50, 100],\n",
       "                         &#x27;preprocessing__with_mean&#x27;: [True, False]},\n",
       "             scoring=&#x27;roc_auc&#x27;)</pre></div></div></div><div class=\"sk-parallel\"><div class=\"sk-parallel-item\"><div class=\"sk-item\"><div class=\"sk-label-container\"><div class=\"sk-label sk-toggleable\"><input class=\"sk-toggleable__control sk-hidden--visually\" id=\"sk-estimator-id-6\" type=\"checkbox\" ><label for=\"sk-estimator-id-6\" class=\"sk-toggleable__label sk-toggleable__label-arrow\">estimator: Pipeline</label><div class=\"sk-toggleable__content\"><pre>Pipeline(steps=[(&#x27;preprocessing&#x27;, StandardScaler()),\n",
       "                (&#x27;classifier&#x27;,\n",
       "                 XGBClassifier(base_score=None, booster=None, callbacks=None,\n",
       "                               colsample_bylevel=None, colsample_bynode=None,\n",
       "                               colsample_bytree=None,\n",
       "                               early_stopping_rounds=None,\n",
       "                               enable_categorical=False, eval_metric=None,\n",
       "                               feature_types=None, gamma=None, gpu_id=None,\n",
       "                               grow_policy=None, importance_type=None,\n",
       "                               interaction_constraints=None, learning_rate=None,\n",
       "                               max_bin=None, max_cat_threshold=None,\n",
       "                               max_cat_to_onehot=None, max_delta_step=None,\n",
       "                               max_depth=None, max_leaves=None,\n",
       "                               min_child_weight=None, missing=nan,\n",
       "                               monotone_constraints=None, n_estimators=100,\n",
       "                               n_jobs=None, num_parallel_tree=None,\n",
       "                               predictor=None, random_state=None, ...))])</pre></div></div></div><div class=\"sk-serial\"><div class=\"sk-item\"><div class=\"sk-serial\"><div class=\"sk-item\"><div class=\"sk-estimator sk-toggleable\"><input class=\"sk-toggleable__control sk-hidden--visually\" id=\"sk-estimator-id-7\" type=\"checkbox\" ><label for=\"sk-estimator-id-7\" class=\"sk-toggleable__label sk-toggleable__label-arrow\">StandardScaler</label><div class=\"sk-toggleable__content\"><pre>StandardScaler()</pre></div></div></div><div class=\"sk-item\"><div class=\"sk-estimator sk-toggleable\"><input class=\"sk-toggleable__control sk-hidden--visually\" id=\"sk-estimator-id-8\" type=\"checkbox\" ><label for=\"sk-estimator-id-8\" class=\"sk-toggleable__label sk-toggleable__label-arrow\">XGBClassifier</label><div class=\"sk-toggleable__content\"><pre>XGBClassifier(base_score=None, booster=None, callbacks=None,\n",
       "              colsample_bylevel=None, colsample_bynode=None,\n",
       "              colsample_bytree=None, early_stopping_rounds=None,\n",
       "              enable_categorical=False, eval_metric=None, feature_types=None,\n",
       "              gamma=None, gpu_id=None, grow_policy=None, importance_type=None,\n",
       "              interaction_constraints=None, learning_rate=None, max_bin=None,\n",
       "              max_cat_threshold=None, max_cat_to_onehot=None,\n",
       "              max_delta_step=None, max_depth=None, max_leaves=None,\n",
       "              min_child_weight=None, missing=nan, monotone_constraints=None,\n",
       "              n_estimators=100, n_jobs=None, num_parallel_tree=None,\n",
       "              predictor=None, random_state=None, ...)</pre></div></div></div></div></div></div></div></div></div></div></div></div>"
      ],
      "text/plain": [
       "GridSearchCV(cv=StratifiedKFold(n_splits=10, random_state=42, shuffle=True),\n",
       "             estimator=Pipeline(steps=[('preprocessing', StandardScaler()),\n",
       "                                       ('classifier',\n",
       "                                        XGBClassifier(base_score=None,\n",
       "                                                      booster=None,\n",
       "                                                      callbacks=None,\n",
       "                                                      colsample_bylevel=None,\n",
       "                                                      colsample_bynode=None,\n",
       "                                                      colsample_bytree=None,\n",
       "                                                      early_stopping_rounds=None,\n",
       "                                                      enable_categorical=False,\n",
       "                                                      eval_metric=None,\n",
       "                                                      feature...\n",
       "                                                      max_leaves=None,\n",
       "                                                      min_child_weight=None,\n",
       "                                                      missing=nan,\n",
       "                                                      monotone_constraints=None,\n",
       "                                                      n_estimators=100,\n",
       "                                                      n_jobs=None,\n",
       "                                                      num_parallel_tree=None,\n",
       "                                                      predictor=None,\n",
       "                                                      random_state=None, ...))]),\n",
       "             param_grid={'classifier__learning_rate': [0.1, 0.01],\n",
       "                         'classifier__max_depth': [3, 5, 10],\n",
       "                         'classifier__n_estimators': [10, 50, 100],\n",
       "                         'preprocessing__with_mean': [True, False]},\n",
       "             scoring='roc_auc')"
      ]
     },
     "execution_count": 214,
     "metadata": {},
     "output_type": "execute_result"
    }
   ],
   "source": [
    "%%time\n",
    "# ajusta el modelo con los datos\n",
    "xgb_grid_search.fit(X_train, y_train)"
   ]
  },
  {
   "cell_type": "code",
   "execution_count": 215,
   "id": "a1c32da7-f5fa-4c21-8cf3-27d8d7a70690",
   "metadata": {},
   "outputs": [
    {
     "name": "stdout",
     "output_type": "stream",
     "text": [
      "Mejores parámetros encontrados:  {'classifier__learning_rate': 0.1, 'classifier__max_depth': 10, 'classifier__n_estimators': 100, 'preprocessing__with_mean': True}\n",
      "Mejor score:  0.9860710098979754\n",
      "Test-set score: 0.923606\n"
     ]
    }
   ],
   "source": [
    "# imprime los resultados\n",
    "print(\"Mejores parámetros encontrados: \", xgb_grid_search.best_params_)\n",
    "print(\"Mejor score: \", xgb_grid_search.best_score_)\n",
    "print(\"Test-set score: {:.6f}\".format(xgb_grid_search.score(X_test, y_test)))"
   ]
  },
  {
   "cell_type": "code",
   "execution_count": 216,
   "id": "dfefa05e-aa28-484d-a5c6-353d6fc3b9e9",
   "metadata": {},
   "outputs": [],
   "source": [
    "y_pred_xgb = xgb_grid_search.predict(X_test)"
   ]
  },
  {
   "cell_type": "markdown",
   "id": "e5420a1f-3ea7-4bba-b300-1509f617c05d",
   "metadata": {},
   "source": [
    "## CatBoost"
   ]
  },
  {
   "cell_type": "code",
   "execution_count": 217,
   "id": "16579e18-ed34-446a-b0ae-4adc3fb53d0e",
   "metadata": {
    "tags": []
   },
   "outputs": [],
   "source": [
    "#%pip install catboost"
   ]
  },
  {
   "cell_type": "code",
   "execution_count": 218,
   "id": "93b5e680-6a26-4922-9b18-93631212da10",
   "metadata": {},
   "outputs": [],
   "source": [
    "from catboost import CatBoostClassifier"
   ]
  },
  {
   "cell_type": "code",
   "execution_count": 219,
   "id": "ef613b12-f4d9-4066-a8ed-125453bdeff3",
   "metadata": {},
   "outputs": [],
   "source": [
    "# Definir el pipeline\n",
    "pipeline_cb = Pipeline([\n",
    "    ('preprocessing', StandardScaler()),\n",
    "    ('classifier', CatBoostClassifier(verbose=False))\n",
    "])"
   ]
  },
  {
   "cell_type": "code",
   "execution_count": 220,
   "id": "3ca55e50-40e0-4358-b843-7adb1048b128",
   "metadata": {},
   "outputs": [],
   "source": [
    "# Definir los parámetros a explorar con GridSearchCV\n",
    "parameters_cb = {\n",
    "    'classifier__iterations': [50, 100, 200],\n",
    "    'classifier__learning_rate': [0.01, 0.1, 1],\n",
    "    'classifier__depth': [4, 6, 8]\n",
    "}"
   ]
  },
  {
   "cell_type": "code",
   "execution_count": 258,
   "id": "c5c57373-ad34-4dac-8105-d07388cfda5f",
   "metadata": {},
   "outputs": [],
   "source": [
    "# Definir la estrategia de validación cruzada\n",
    "cv_strategy = KFold(n_splits=10)\n",
    "\n",
    "# Definir el objeto GridSearchCV\n",
    "cb_grid_search = GridSearchCV(pipeline_cb, parameters_cb, cv=cv_strategy, verbose=False)\n",
    "# Definir el objeto GridSearchCV"
   ]
  },
  {
   "cell_type": "code",
   "execution_count": 259,
   "id": "9e6053a1-521c-4258-8754-c2fd7f40efc8",
   "metadata": {},
   "outputs": [
    {
     "name": "stdout",
     "output_type": "stream",
     "text": [
      "Best parameters: {'classifier__depth': 8, 'classifier__iterations': 200, 'classifier__learning_rate': 1}\n",
      "Cross-validation accuracy: 0.9270630615709494\n",
      "Test-set score: 0.910803\n"
     ]
    }
   ],
   "source": [
    "%%time\n",
    "# Entrenar el modelo con los datos\n",
    "cb_grid_search.fit(X_train, y_train)\n",
    "\n",
    "# Mostrar los mejores hiperparámetros y la precisión promedio\n",
    "print('Best parameters:', cb_grid_search.best_params_)\n",
    "print('Cross-validation accuracy:', cb_grid_search.best_score_)\n",
    "print(\"Test-set score: {:.6f}\".format(cb_grid_search.score(X_test, y_test)))"
   ]
  },
  {
   "cell_type": "code",
   "execution_count": 260,
   "id": "effaa75c-85a4-49a7-98ce-242af697bb06",
   "metadata": {},
   "outputs": [],
   "source": [
    "y_pred_cb = cb_grid_search.predict(X_test)"
   ]
  },
  {
   "cell_type": "markdown",
   "id": "1446a461-44a4-4d89-8878-df1a932fad67",
   "metadata": {},
   "source": [
    "## LightGBM"
   ]
  },
  {
   "cell_type": "code",
   "execution_count": 224,
   "id": "e644bc9e-071a-4fbf-b109-79ed90ea2782",
   "metadata": {
    "tags": []
   },
   "outputs": [],
   "source": [
    "#%pip install lightgbm"
   ]
  },
  {
   "cell_type": "code",
   "execution_count": 225,
   "id": "96d505b7-f43a-46a5-8c2f-734603caab22",
   "metadata": {},
   "outputs": [],
   "source": [
    "from lightgbm import LGBMClassifier"
   ]
  },
  {
   "cell_type": "code",
   "execution_count": 226,
   "id": "1cfc160b-06b9-4ad9-b8ce-a03f645ea6c0",
   "metadata": {},
   "outputs": [],
   "source": [
    "# Definir el pipeline\n",
    "pipeline_lgbm = Pipeline([\n",
    "    ('preprocessing', StandardScaler()),\n",
    "    ('classifier', LGBMClassifier())\n",
    "])"
   ]
  },
  {
   "cell_type": "code",
   "execution_count": 227,
   "id": "d4aba097-5fd7-4090-b656-4e05bcab6215",
   "metadata": {},
   "outputs": [],
   "source": [
    "# Definir los parámetros a explorar con GridSearchCV\n",
    "parameters_lgbm = {\n",
    "    'classifier__n_estimators': [50, 100, 200],\n",
    "    'classifier__learning_rate': [0.01, 0.1, 1],\n",
    "    'classifier__max_depth': [4, 6, 8]\n",
    "}"
   ]
  },
  {
   "cell_type": "code",
   "execution_count": 261,
   "id": "46dbd59b-fb92-4928-8d28-1f5618d126fc",
   "metadata": {},
   "outputs": [],
   "source": [
    "# Definir la estrategia de validación cruzada\n",
    "cv_strategy = KFold(n_splits=10)\n",
    "\n",
    "# Definir el objeto GridSearchCV\n",
    "lbgm_grid_search = GridSearchCV(pipeline_lgbm, parameters_lgbm, cv=cv_strategy)"
   ]
  },
  {
   "cell_type": "code",
   "execution_count": 262,
   "id": "42eefa35-f65e-4e34-bd62-3fac727840f5",
   "metadata": {},
   "outputs": [
    {
     "name": "stdout",
     "output_type": "stream",
     "text": [
      "Best parameters: {'classifier__learning_rate': 1, 'classifier__max_depth': 8, 'classifier__n_estimators': 200}\n",
      "Cross-validation accuracy: 0.9251790816115275\n",
      "Test-set score: 0.888300\n"
     ]
    }
   ],
   "source": [
    "%%time\n",
    "# Entrenar el modelo con los datos\n",
    "lbgm_grid_search.fit(X_train, y_train)\n",
    "\n",
    "# Mostrar los mejores hiperparámetros y la precisión promedio\n",
    "print('Best parameters:', lbgm_grid_search.best_params_)\n",
    "print('Cross-validation accuracy:', lbgm_grid_search.best_score_)\n",
    "print(\"Test-set score: {:.6f}\".format(lbgm_grid_search.score(X_test, y_test)))"
   ]
  },
  {
   "cell_type": "code",
   "execution_count": 263,
   "id": "c4cffe15-2c07-41e5-bbc3-919ce27ecf1f",
   "metadata": {},
   "outputs": [],
   "source": [
    "y_pred_lgbm = lbgm_grid_search.predict(X_test)"
   ]
  },
  {
   "cell_type": "code",
   "execution_count": null,
   "id": "6b6334ce-edff-424f-896f-b2e4c8213fa0",
   "metadata": {},
   "outputs": [],
   "source": [
    "## Emsamble Voting Classification"
   ]
  },
  {
   "cell_type": "code",
   "execution_count": 266,
   "id": "4d6c33ac-e204-4e53-8d8b-33cfc58d2014",
   "metadata": {
    "tags": []
   },
   "outputs": [
    {
     "name": "stdout",
     "output_type": "stream",
     "text": [
      "Test-set score: 0.960880\n",
      "CPU times: user 2d 9min 18s, sys: 24min 9s, total: 2d 33min 28s\n",
      "Wall time: 7h 2min 47s\n"
     ]
    }
   ],
   "source": [
    "%%time\n",
    "from sklearn.ensemble import VotingClassifier\n",
    "\n",
    "# Crear el modelo de ensamblaje con votación mayoritaria\n",
    "ensemble_model = VotingClassifier(estimators=[\n",
    "    ('rf', rf),\n",
    "    ('xgb', xgb_grid_search),\n",
    "    ('lgb', lbgm_grid_search),\n",
    "    ('catboost', cb_grid_search)\n",
    "], voting='hard')\n",
    "\n",
    "# Entrenar el modelo de ensamblaje\n",
    "ensemble_model.fit(X_train, y_train)\n",
    "\n",
    "print(\"Test-set score: {:.6f}\".format(ensemble_model.score(X_test, y_test)))"
   ]
  },
  {
   "cell_type": "code",
   "execution_count": 274,
   "id": "e17a610d-3549-4c31-be64-ee26c829e55c",
   "metadata": {
    "tags": []
   },
   "outputs": [],
   "source": [
    "y_ensemble_model = ensemble_model.predict(X_test)"
   ]
  },
  {
   "cell_type": "code",
   "execution_count": 267,
   "id": "73f69fc6-304e-4a09-b752-7b619072cc58",
   "metadata": {},
   "outputs": [
    {
     "name": "stdout",
     "output_type": "stream",
     "text": [
      "Estimador: rf\n",
      "Predicciones: [0 0 0 ... 0 0 0]\n",
      "Probabilidades: [[0.9  0.1 ]\n",
      " [0.94 0.06]\n",
      " [0.96 0.04]\n",
      " ...\n",
      " [0.97 0.03]\n",
      " [0.9  0.1 ]\n",
      " [0.98 0.02]]\n",
      "\n",
      "Estimador: xgb\n",
      "Predicciones: [0 0 0 ... 0 0 0]\n",
      "Probabilidades: [[0.712947   0.28705302]\n",
      " [0.8608879  0.13911214]\n",
      " [0.7547652  0.24523479]\n",
      " ...\n",
      " [0.88173187 0.11826814]\n",
      " [0.90659    0.09341003]\n",
      " [0.91685426 0.08314573]]\n",
      "\n",
      "Estimador: lgb\n",
      "Predicciones: [0 0 0 ... 0 0 0]\n",
      "Probabilidades: [[7.55453801e-01 2.44546199e-01]\n",
      " [9.98145318e-01 1.85468245e-03]\n",
      " [9.96735004e-01 3.26499582e-03]\n",
      " ...\n",
      " [9.66722065e-01 3.32779352e-02]\n",
      " [9.89449131e-01 1.05508694e-02]\n",
      " [9.99977381e-01 2.26191991e-05]]\n",
      "\n",
      "Estimador: catboost\n",
      "Predicciones: [0 0 0 ... 0 0 0]\n",
      "Probabilidades: [[7.09803185e-01 2.90196815e-01]\n",
      " [9.99076591e-01 9.23409477e-04]\n",
      " [9.97627732e-01 2.37226805e-03]\n",
      " ...\n",
      " [9.99780349e-01 2.19651259e-04]\n",
      " [7.56869387e-01 2.43130613e-01]\n",
      " [9.96531407e-01 3.46859285e-03]]\n",
      "\n"
     ]
    }
   ],
   "source": [
    "# Obtener las predicciones y probabilidades de cada estimador individual\n",
    "for name, estimator in ensemble_model.named_estimators_.items():\n",
    "    predictions = estimator.predict(X_test)\n",
    "    probabilities = estimator.predict_proba(X_test)\n",
    "    \n",
    "    # Imprimir las predicciones y probabilidades para cada estimador\n",
    "    print(f\"Estimador: {name}\")\n",
    "    print(f\"Predicciones: {predictions}\")\n",
    "    print(f\"Probabilidades: {probabilities}\")\n",
    "    print()"
   ]
  },
  {
   "cell_type": "markdown",
   "id": "7dab1282-7061-4cee-baf1-fd3b7663ee12",
   "metadata": {},
   "source": [
    "## Comparación"
   ]
  },
  {
   "cell_type": "markdown",
   "id": "74dae656-60db-4e76-a67f-0269360acab0",
   "metadata": {},
   "source": [
    "### Matrices de confusión"
   ]
  },
  {
   "cell_type": "code",
   "execution_count": 231,
   "id": "3e29ec21-e662-495b-a002-7ae2c202e21b",
   "metadata": {
    "tags": []
   },
   "outputs": [],
   "source": [
    "#%pip install tabulate"
   ]
  },
  {
   "cell_type": "code",
   "execution_count": 232,
   "id": "dcc48d1a-cd3b-4316-b68b-a79d5819729a",
   "metadata": {
    "tags": []
   },
   "outputs": [],
   "source": [
    "from tabulate import tabulate"
   ]
  },
  {
   "cell_type": "code",
   "execution_count": 233,
   "id": "450f27ff-345e-4fb1-8838-f9fb605b0b73",
   "metadata": {
    "tags": []
   },
   "outputs": [
    {
     "name": "stdout",
     "output_type": "stream",
     "text": [
      "Matriz de Confusion de Regresión Logística\n",
      "╒════════╤═══════╤═══════╕\n",
      "│   Real │     0 │     1 │\n",
      "╞════════╪═══════╪═══════╡\n",
      "│      0 │ 22679 │ 17572 │\n",
      "├────────┼───────┼───────┤\n",
      "│      1 │  1611 │  2310 │\n",
      "╘════════╧═══════╧═══════╛\n",
      "---\n"
     ]
    }
   ],
   "source": [
    "confusion_matrix_rl = pd.crosstab(\n",
    "    y_test,\n",
    "    y_pred_rl,\n",
    "    rownames=['Real'],\n",
    "    colnames=['Predicción']\n",
    ")\n",
    "print(\"Matriz de Confusion de Regresión Logística\")\n",
    "print(tabulate(confusion_matrix_rl, headers='keys', tablefmt='fancy_grid'))\n",
    "print(\"---\")"
   ]
  },
  {
   "cell_type": "code",
   "execution_count": 234,
   "id": "fade6953-7068-46ff-bdd1-d420af0334f6",
   "metadata": {
    "tags": []
   },
   "outputs": [
    {
     "data": {
      "text/plain": [
       "'confusion_matrix_svm = pd.crosstab(\\n    y_test,\\n    y_pred_svm,\\n    rownames=[\\'Real\\'],\\n    colnames=[\\'Predicción\\']\\n)\\nprint(\"Matriz de Confusion de Support Vector Machine\")\\nprint(tabulate(confusion_matrix_svm, headers=\\'keys\\', tablefmt=\\'fancy_grid\\'))\\nprint(\"---\")'"
      ]
     },
     "execution_count": 234,
     "metadata": {},
     "output_type": "execute_result"
    }
   ],
   "source": [
    "\"\"\"confusion_matrix_svm = pd.crosstab(\n",
    "    y_test,\n",
    "    y_pred_svm,\n",
    "    rownames=['Real'],\n",
    "    colnames=['Predicción']\n",
    ")\n",
    "print(\"Matriz de Confusion de Support Vector Machine\")\n",
    "print(tabulate(confusion_matrix_svm, headers='keys', tablefmt='fancy_grid'))\n",
    "print(\"---\")\"\"\""
   ]
  },
  {
   "cell_type": "code",
   "execution_count": 254,
   "id": "6bcaccdb-f18b-41bc-9a53-086a395f5f54",
   "metadata": {
    "tags": []
   },
   "outputs": [
    {
     "name": "stdout",
     "output_type": "stream",
     "text": [
      "Matriz de Confusion de Random Forest\n",
      "╒════════╤═══════╤══════╕\n",
      "│   Real │     0 │    1 │\n",
      "╞════════╪═══════╪══════╡\n",
      "│      0 │ 40009 │  242 │\n",
      "├────────┼───────┼──────┤\n",
      "│      1 │  1055 │ 2866 │\n",
      "╘════════╧═══════╧══════╛\n",
      "---\n"
     ]
    }
   ],
   "source": [
    "confusion_matrix_rf = pd.crosstab(\n",
    "    y_test,\n",
    "    y_pred_rf,\n",
    "    rownames=['Real'],\n",
    "    colnames=['Predicción']\n",
    ")\n",
    "print(\"Matriz de Confusion de Random Forest\")\n",
    "print(tabulate(confusion_matrix_rf, headers='keys', tablefmt='fancy_grid'))\n",
    "print(\"---\")"
   ]
  },
  {
   "cell_type": "code",
   "execution_count": 255,
   "id": "e4dbeebb-b9a5-4a74-9b96-b2799c6b1816",
   "metadata": {
    "tags": []
   },
   "outputs": [
    {
     "name": "stdout",
     "output_type": "stream",
     "text": [
      "Matriz de Confusion de XGBoost\n",
      "╒════════╤═══════╤══════╕\n",
      "│   Real │     0 │    1 │\n",
      "╞════════╪═══════╪══════╡\n",
      "│      0 │ 37702 │ 2549 │\n",
      "├────────┼───────┼──────┤\n",
      "│      1 │   972 │ 2949 │\n",
      "╘════════╧═══════╧══════╛\n",
      "---\n"
     ]
    }
   ],
   "source": [
    "confusion_matrix_xgb = pd.crosstab(\n",
    "    y_test,\n",
    "    y_pred_xgb,\n",
    "    rownames=['Real'],\n",
    "    colnames=['Predicción']\n",
    ")\n",
    "print(\"Matriz de Confusion de XGBoost\")\n",
    "print(tabulate(confusion_matrix_xgb, headers='keys', tablefmt='fancy_grid'))\n",
    "print(\"---\")"
   ]
  },
  {
   "cell_type": "code",
   "execution_count": 256,
   "id": "da3fd213-6cd0-49ed-913b-d4205084d699",
   "metadata": {
    "tags": []
   },
   "outputs": [
    {
     "name": "stdout",
     "output_type": "stream",
     "text": [
      "Matriz de Confusion de CatBoost\n",
      "╒════════╤═══════╤═══════╕\n",
      "│   Real │     0 │     1 │\n",
      "╞════════╪═══════╪═══════╡\n",
      "│      0 │ 21229 │ 19022 │\n",
      "├────────┼───────┼───────┤\n",
      "│      1 │  1481 │  2440 │\n",
      "╘════════╧═══════╧═══════╛\n",
      "---\n"
     ]
    }
   ],
   "source": [
    "confusion_matrix_cb = pd.crosstab(\n",
    "    y_test,\n",
    "    y_pred_cb,\n",
    "    rownames=['Real'],\n",
    "    colnames=['Predicción']\n",
    ")\n",
    "print(\"Matriz de Confusion de CatBoost\")\n",
    "print(tabulate(confusion_matrix_cb, headers='keys', tablefmt='fancy_grid'))\n",
    "print(\"---\")"
   ]
  },
  {
   "cell_type": "code",
   "execution_count": 257,
   "id": "7e43cb97-3f06-4e60-9f95-1b0c8f48f573",
   "metadata": {
    "tags": []
   },
   "outputs": [
    {
     "name": "stdout",
     "output_type": "stream",
     "text": [
      "Matriz de Confusion de LightGBM\n",
      "╒════════╤═══════╤═══════╕\n",
      "│   Real │     0 │     1 │\n",
      "╞════════╪═══════╪═══════╡\n",
      "│      0 │ 25157 │ 15094 │\n",
      "├────────┼───────┼───────┤\n",
      "│      1 │  1645 │  2276 │\n",
      "╘════════╧═══════╧═══════╛\n",
      "---\n"
     ]
    }
   ],
   "source": [
    "confusion_matrix_lgbm = pd.crosstab(\n",
    "    y_test,\n",
    "    y_pred_lgbm,\n",
    "    rownames=['Real'],\n",
    "    colnames=['Predicción']\n",
    ")\n",
    "print(\"Matriz de Confusion de LightGBM\")\n",
    "print(tabulate(confusion_matrix_lgbm, headers='keys', tablefmt='fancy_grid'))\n",
    "print(\"---\")"
   ]
  },
  {
   "cell_type": "code",
   "execution_count": 269,
   "id": "4936f2ba-4ddc-48c2-badb-726d403b9eb8",
   "metadata": {
    "tags": []
   },
   "outputs": [
    {
     "name": "stdout",
     "output_type": "stream",
     "text": [
      "Matriz de Confusion de modelo de Ensamble\n",
      "╒════════╤═══════╤══════╕\n",
      "│   Real │     0 │    1 │\n",
      "╞════════╪═══════╪══════╡\n",
      "│      0 │ 39678 │  573 │\n",
      "├────────┼───────┼──────┤\n",
      "│      1 │  1155 │ 2766 │\n",
      "╘════════╧═══════╧══════╛\n",
      "---\n"
     ]
    }
   ],
   "source": [
    "confusion_matrix_ensemble_model = pd.crosstab(\n",
    "    y_test,\n",
    "    y_ensemble_model,\n",
    "    rownames=['Real'],\n",
    "    colnames=['Predicción']\n",
    ")\n",
    "print(\"Matriz de Confusion de modelo de Ensamble\")\n",
    "print(tabulate(confusion_matrix_ensemble_model, headers='keys', tablefmt='fancy_grid'))\n",
    "print(\"---\")"
   ]
  },
  {
   "cell_type": "code",
   "execution_count": 288,
   "id": "57a84982-8e9f-4b50-954d-4621f027b414",
   "metadata": {
    "tags": []
   },
   "outputs": [
    {
     "name": "stdout",
     "output_type": "stream",
     "text": [
      "Falsos Negativos: 1155\n",
      "Suma total de la matriz de confusión: 44172\n",
      "Longuitud: 44172\n"
     ]
    }
   ],
   "source": [
    "falsos_negativos = confusion_matrix_ensemble_model.iloc[1, 0]\n",
    "suma_total = confusion_matrix_ensemble_model.values.sum()\n",
    "print(\"Falsos Negativos:\", falsos_negativos)\n",
    "print(\"Suma total de la matriz de confusión:\", suma_total)\n",
    "print(\"Longuitud:\", len(y_test))"
   ]
  },
  {
   "cell_type": "code",
   "execution_count": 26,
   "id": "4ba466ad-1df3-45f7-9ae5-5395d7ebe2e4",
   "metadata": {
    "tags": []
   },
   "outputs": [
    {
     "data": {
      "text/html": [
       "<style>#sk-container-id-1 {color: black;background-color: white;}#sk-container-id-1 pre{padding: 0;}#sk-container-id-1 div.sk-toggleable {background-color: white;}#sk-container-id-1 label.sk-toggleable__label {cursor: pointer;display: block;width: 100%;margin-bottom: 0;padding: 0.3em;box-sizing: border-box;text-align: center;}#sk-container-id-1 label.sk-toggleable__label-arrow:before {content: \"▸\";float: left;margin-right: 0.25em;color: #696969;}#sk-container-id-1 label.sk-toggleable__label-arrow:hover:before {color: black;}#sk-container-id-1 div.sk-estimator:hover label.sk-toggleable__label-arrow:before {color: black;}#sk-container-id-1 div.sk-toggleable__content {max-height: 0;max-width: 0;overflow: hidden;text-align: left;background-color: #f0f8ff;}#sk-container-id-1 div.sk-toggleable__content pre {margin: 0.2em;color: black;border-radius: 0.25em;background-color: #f0f8ff;}#sk-container-id-1 input.sk-toggleable__control:checked~div.sk-toggleable__content {max-height: 200px;max-width: 100%;overflow: auto;}#sk-container-id-1 input.sk-toggleable__control:checked~label.sk-toggleable__label-arrow:before {content: \"▾\";}#sk-container-id-1 div.sk-estimator input.sk-toggleable__control:checked~label.sk-toggleable__label {background-color: #d4ebff;}#sk-container-id-1 div.sk-label input.sk-toggleable__control:checked~label.sk-toggleable__label {background-color: #d4ebff;}#sk-container-id-1 input.sk-hidden--visually {border: 0;clip: rect(1px 1px 1px 1px);clip: rect(1px, 1px, 1px, 1px);height: 1px;margin: -1px;overflow: hidden;padding: 0;position: absolute;width: 1px;}#sk-container-id-1 div.sk-estimator {font-family: monospace;background-color: #f0f8ff;border: 1px dotted black;border-radius: 0.25em;box-sizing: border-box;margin-bottom: 0.5em;}#sk-container-id-1 div.sk-estimator:hover {background-color: #d4ebff;}#sk-container-id-1 div.sk-parallel-item::after {content: \"\";width: 100%;border-bottom: 1px solid gray;flex-grow: 1;}#sk-container-id-1 div.sk-label:hover label.sk-toggleable__label {background-color: #d4ebff;}#sk-container-id-1 div.sk-serial::before {content: \"\";position: absolute;border-left: 1px solid gray;box-sizing: border-box;top: 0;bottom: 0;left: 50%;z-index: 0;}#sk-container-id-1 div.sk-serial {display: flex;flex-direction: column;align-items: center;background-color: white;padding-right: 0.2em;padding-left: 0.2em;position: relative;}#sk-container-id-1 div.sk-item {position: relative;z-index: 1;}#sk-container-id-1 div.sk-parallel {display: flex;align-items: stretch;justify-content: center;background-color: white;position: relative;}#sk-container-id-1 div.sk-item::before, #sk-container-id-1 div.sk-parallel-item::before {content: \"\";position: absolute;border-left: 1px solid gray;box-sizing: border-box;top: 0;bottom: 0;left: 50%;z-index: -1;}#sk-container-id-1 div.sk-parallel-item {display: flex;flex-direction: column;z-index: 1;position: relative;background-color: white;}#sk-container-id-1 div.sk-parallel-item:first-child::after {align-self: flex-end;width: 50%;}#sk-container-id-1 div.sk-parallel-item:last-child::after {align-self: flex-start;width: 50%;}#sk-container-id-1 div.sk-parallel-item:only-child::after {width: 0;}#sk-container-id-1 div.sk-dashed-wrapped {border: 1px dashed gray;margin: 0 0.4em 0.5em 0.4em;box-sizing: border-box;padding-bottom: 0.4em;background-color: white;}#sk-container-id-1 div.sk-label label {font-family: monospace;font-weight: bold;display: inline-block;line-height: 1.2em;}#sk-container-id-1 div.sk-label-container {text-align: center;}#sk-container-id-1 div.sk-container {/* jupyter's `normalize.less` sets `[hidden] { display: none; }` but bootstrap.min.css set `[hidden] { display: none !important; }` so we also need the `!important` here to be able to override the default hidden behavior on the sphinx rendered scikit-learn.org. See: https://github.com/scikit-learn/scikit-learn/issues/21755 */display: inline-block !important;position: relative;}#sk-container-id-1 div.sk-text-repr-fallback {display: none;}</style><div id=\"sk-container-id-1\" class=\"sk-top-container\"><div class=\"sk-text-repr-fallback\"><pre>LogisticRegression()</pre><b>In a Jupyter environment, please rerun this cell to show the HTML representation or trust the notebook. <br />On GitHub, the HTML representation is unable to render, please try loading this page with nbviewer.org.</b></div><div class=\"sk-container\" hidden><div class=\"sk-item\"><div class=\"sk-estimator sk-toggleable\"><input class=\"sk-toggleable__control sk-hidden--visually\" id=\"sk-estimator-id-1\" type=\"checkbox\" checked><label for=\"sk-estimator-id-1\" class=\"sk-toggleable__label sk-toggleable__label-arrow\">LogisticRegression</label><div class=\"sk-toggleable__content\"><pre>LogisticRegression()</pre></div></div></div></div></div>"
      ],
      "text/plain": [
       "LogisticRegression()"
      ]
     },
     "execution_count": 26,
     "metadata": {},
     "output_type": "execute_result"
    }
   ],
   "source": [
    "# Regresión Logística\n",
    "import pickle\n",
    "\n",
    "with open('logreg.pkl', 'rb') as archivo:\n",
    "    logreg = pickle.load(archivo)\n",
    "logreg"
   ]
  },
  {
   "cell_type": "code",
   "execution_count": 27,
   "id": "5d4f67d4-5fc2-4f62-a0d8-a1ee86badbf8",
   "metadata": {
    "tags": []
   },
   "outputs": [
    {
     "data": {
      "text/html": [
       "<style>#sk-container-id-2 {color: black;background-color: white;}#sk-container-id-2 pre{padding: 0;}#sk-container-id-2 div.sk-toggleable {background-color: white;}#sk-container-id-2 label.sk-toggleable__label {cursor: pointer;display: block;width: 100%;margin-bottom: 0;padding: 0.3em;box-sizing: border-box;text-align: center;}#sk-container-id-2 label.sk-toggleable__label-arrow:before {content: \"▸\";float: left;margin-right: 0.25em;color: #696969;}#sk-container-id-2 label.sk-toggleable__label-arrow:hover:before {color: black;}#sk-container-id-2 div.sk-estimator:hover label.sk-toggleable__label-arrow:before {color: black;}#sk-container-id-2 div.sk-toggleable__content {max-height: 0;max-width: 0;overflow: hidden;text-align: left;background-color: #f0f8ff;}#sk-container-id-2 div.sk-toggleable__content pre {margin: 0.2em;color: black;border-radius: 0.25em;background-color: #f0f8ff;}#sk-container-id-2 input.sk-toggleable__control:checked~div.sk-toggleable__content {max-height: 200px;max-width: 100%;overflow: auto;}#sk-container-id-2 input.sk-toggleable__control:checked~label.sk-toggleable__label-arrow:before {content: \"▾\";}#sk-container-id-2 div.sk-estimator input.sk-toggleable__control:checked~label.sk-toggleable__label {background-color: #d4ebff;}#sk-container-id-2 div.sk-label input.sk-toggleable__control:checked~label.sk-toggleable__label {background-color: #d4ebff;}#sk-container-id-2 input.sk-hidden--visually {border: 0;clip: rect(1px 1px 1px 1px);clip: rect(1px, 1px, 1px, 1px);height: 1px;margin: -1px;overflow: hidden;padding: 0;position: absolute;width: 1px;}#sk-container-id-2 div.sk-estimator {font-family: monospace;background-color: #f0f8ff;border: 1px dotted black;border-radius: 0.25em;box-sizing: border-box;margin-bottom: 0.5em;}#sk-container-id-2 div.sk-estimator:hover {background-color: #d4ebff;}#sk-container-id-2 div.sk-parallel-item::after {content: \"\";width: 100%;border-bottom: 1px solid gray;flex-grow: 1;}#sk-container-id-2 div.sk-label:hover label.sk-toggleable__label {background-color: #d4ebff;}#sk-container-id-2 div.sk-serial::before {content: \"\";position: absolute;border-left: 1px solid gray;box-sizing: border-box;top: 0;bottom: 0;left: 50%;z-index: 0;}#sk-container-id-2 div.sk-serial {display: flex;flex-direction: column;align-items: center;background-color: white;padding-right: 0.2em;padding-left: 0.2em;position: relative;}#sk-container-id-2 div.sk-item {position: relative;z-index: 1;}#sk-container-id-2 div.sk-parallel {display: flex;align-items: stretch;justify-content: center;background-color: white;position: relative;}#sk-container-id-2 div.sk-item::before, #sk-container-id-2 div.sk-parallel-item::before {content: \"\";position: absolute;border-left: 1px solid gray;box-sizing: border-box;top: 0;bottom: 0;left: 50%;z-index: -1;}#sk-container-id-2 div.sk-parallel-item {display: flex;flex-direction: column;z-index: 1;position: relative;background-color: white;}#sk-container-id-2 div.sk-parallel-item:first-child::after {align-self: flex-end;width: 50%;}#sk-container-id-2 div.sk-parallel-item:last-child::after {align-self: flex-start;width: 50%;}#sk-container-id-2 div.sk-parallel-item:only-child::after {width: 0;}#sk-container-id-2 div.sk-dashed-wrapped {border: 1px dashed gray;margin: 0 0.4em 0.5em 0.4em;box-sizing: border-box;padding-bottom: 0.4em;background-color: white;}#sk-container-id-2 div.sk-label label {font-family: monospace;font-weight: bold;display: inline-block;line-height: 1.2em;}#sk-container-id-2 div.sk-label-container {text-align: center;}#sk-container-id-2 div.sk-container {/* jupyter's `normalize.less` sets `[hidden] { display: none; }` but bootstrap.min.css set `[hidden] { display: none !important; }` so we also need the `!important` here to be able to override the default hidden behavior on the sphinx rendered scikit-learn.org. See: https://github.com/scikit-learn/scikit-learn/issues/21755 */display: inline-block !important;position: relative;}#sk-container-id-2 div.sk-text-repr-fallback {display: none;}</style><div id=\"sk-container-id-2\" class=\"sk-top-container\"><div class=\"sk-text-repr-fallback\"><pre>GridSearchCV(cv=KFold(n_splits=10, random_state=42, shuffle=True),\n",
       "             estimator=Pipeline(steps=[(&#x27;preprocessing&#x27;, StandardScaler()),\n",
       "                                       (&#x27;classifier&#x27;,\n",
       "                                        RandomForestClassifier())]),\n",
       "             param_grid={&#x27;classifier__max_depth&#x27;: [None, 5, 10],\n",
       "                         &#x27;classifier__n_estimators&#x27;: [10, 50, 100],\n",
       "                         &#x27;preprocessing__with_mean&#x27;: [True, False]},\n",
       "             scoring=&#x27;roc_auc&#x27;)</pre><b>In a Jupyter environment, please rerun this cell to show the HTML representation or trust the notebook. <br />On GitHub, the HTML representation is unable to render, please try loading this page with nbviewer.org.</b></div><div class=\"sk-container\" hidden><div class=\"sk-item sk-dashed-wrapped\"><div class=\"sk-label-container\"><div class=\"sk-label sk-toggleable\"><input class=\"sk-toggleable__control sk-hidden--visually\" id=\"sk-estimator-id-2\" type=\"checkbox\" ><label for=\"sk-estimator-id-2\" class=\"sk-toggleable__label sk-toggleable__label-arrow\">GridSearchCV</label><div class=\"sk-toggleable__content\"><pre>GridSearchCV(cv=KFold(n_splits=10, random_state=42, shuffle=True),\n",
       "             estimator=Pipeline(steps=[(&#x27;preprocessing&#x27;, StandardScaler()),\n",
       "                                       (&#x27;classifier&#x27;,\n",
       "                                        RandomForestClassifier())]),\n",
       "             param_grid={&#x27;classifier__max_depth&#x27;: [None, 5, 10],\n",
       "                         &#x27;classifier__n_estimators&#x27;: [10, 50, 100],\n",
       "                         &#x27;preprocessing__with_mean&#x27;: [True, False]},\n",
       "             scoring=&#x27;roc_auc&#x27;)</pre></div></div></div><div class=\"sk-parallel\"><div class=\"sk-parallel-item\"><div class=\"sk-item\"><div class=\"sk-label-container\"><div class=\"sk-label sk-toggleable\"><input class=\"sk-toggleable__control sk-hidden--visually\" id=\"sk-estimator-id-3\" type=\"checkbox\" ><label for=\"sk-estimator-id-3\" class=\"sk-toggleable__label sk-toggleable__label-arrow\">estimator: Pipeline</label><div class=\"sk-toggleable__content\"><pre>Pipeline(steps=[(&#x27;preprocessing&#x27;, StandardScaler()),\n",
       "                (&#x27;classifier&#x27;, RandomForestClassifier())])</pre></div></div></div><div class=\"sk-serial\"><div class=\"sk-item\"><div class=\"sk-serial\"><div class=\"sk-item\"><div class=\"sk-estimator sk-toggleable\"><input class=\"sk-toggleable__control sk-hidden--visually\" id=\"sk-estimator-id-4\" type=\"checkbox\" ><label for=\"sk-estimator-id-4\" class=\"sk-toggleable__label sk-toggleable__label-arrow\">StandardScaler</label><div class=\"sk-toggleable__content\"><pre>StandardScaler()</pre></div></div></div><div class=\"sk-item\"><div class=\"sk-estimator sk-toggleable\"><input class=\"sk-toggleable__control sk-hidden--visually\" id=\"sk-estimator-id-5\" type=\"checkbox\" ><label for=\"sk-estimator-id-5\" class=\"sk-toggleable__label sk-toggleable__label-arrow\">RandomForestClassifier</label><div class=\"sk-toggleable__content\"><pre>RandomForestClassifier()</pre></div></div></div></div></div></div></div></div></div></div></div></div>"
      ],
      "text/plain": [
       "GridSearchCV(cv=KFold(n_splits=10, random_state=42, shuffle=True),\n",
       "             estimator=Pipeline(steps=[('preprocessing', StandardScaler()),\n",
       "                                       ('classifier',\n",
       "                                        RandomForestClassifier())]),\n",
       "             param_grid={'classifier__max_depth': [None, 5, 10],\n",
       "                         'classifier__n_estimators': [10, 50, 100],\n",
       "                         'preprocessing__with_mean': [True, False]},\n",
       "             scoring='roc_auc')"
      ]
     },
     "execution_count": 27,
     "metadata": {},
     "output_type": "execute_result"
    }
   ],
   "source": [
    "# Random Forest\n",
    "import pickle\n",
    "\n",
    "with open('rf.pkl', 'rb') as archivo:\n",
    "    rf = pickle.load(archivo)\n",
    "rf"
   ]
  },
  {
   "cell_type": "code",
   "execution_count": 28,
   "id": "4d39a59d-8e1b-49ba-98fd-646911bb9e0b",
   "metadata": {
    "tags": []
   },
   "outputs": [
    {
     "name": "stdout",
     "output_type": "stream",
     "text": [
      "[14:48:43] WARNING: ../src/learner.cc:553: \n",
      "  If you are loading a serialized model (like pickle in Python, RDS in R) generated by\n",
      "  older XGBoost, please export the model by calling `Booster.save_model` from that version\n",
      "  first, then load it back in current version. See:\n",
      "\n",
      "    https://xgboost.readthedocs.io/en/latest/tutorials/saving_model.html\n",
      "\n",
      "  for more details about differences between saving model and serializing.\n",
      "\n"
     ]
    },
    {
     "data": {
      "text/html": [
       "<style>#sk-container-id-3 {color: black;background-color: white;}#sk-container-id-3 pre{padding: 0;}#sk-container-id-3 div.sk-toggleable {background-color: white;}#sk-container-id-3 label.sk-toggleable__label {cursor: pointer;display: block;width: 100%;margin-bottom: 0;padding: 0.3em;box-sizing: border-box;text-align: center;}#sk-container-id-3 label.sk-toggleable__label-arrow:before {content: \"▸\";float: left;margin-right: 0.25em;color: #696969;}#sk-container-id-3 label.sk-toggleable__label-arrow:hover:before {color: black;}#sk-container-id-3 div.sk-estimator:hover label.sk-toggleable__label-arrow:before {color: black;}#sk-container-id-3 div.sk-toggleable__content {max-height: 0;max-width: 0;overflow: hidden;text-align: left;background-color: #f0f8ff;}#sk-container-id-3 div.sk-toggleable__content pre {margin: 0.2em;color: black;border-radius: 0.25em;background-color: #f0f8ff;}#sk-container-id-3 input.sk-toggleable__control:checked~div.sk-toggleable__content {max-height: 200px;max-width: 100%;overflow: auto;}#sk-container-id-3 input.sk-toggleable__control:checked~label.sk-toggleable__label-arrow:before {content: \"▾\";}#sk-container-id-3 div.sk-estimator input.sk-toggleable__control:checked~label.sk-toggleable__label {background-color: #d4ebff;}#sk-container-id-3 div.sk-label input.sk-toggleable__control:checked~label.sk-toggleable__label {background-color: #d4ebff;}#sk-container-id-3 input.sk-hidden--visually {border: 0;clip: rect(1px 1px 1px 1px);clip: rect(1px, 1px, 1px, 1px);height: 1px;margin: -1px;overflow: hidden;padding: 0;position: absolute;width: 1px;}#sk-container-id-3 div.sk-estimator {font-family: monospace;background-color: #f0f8ff;border: 1px dotted black;border-radius: 0.25em;box-sizing: border-box;margin-bottom: 0.5em;}#sk-container-id-3 div.sk-estimator:hover {background-color: #d4ebff;}#sk-container-id-3 div.sk-parallel-item::after {content: \"\";width: 100%;border-bottom: 1px solid gray;flex-grow: 1;}#sk-container-id-3 div.sk-label:hover label.sk-toggleable__label {background-color: #d4ebff;}#sk-container-id-3 div.sk-serial::before {content: \"\";position: absolute;border-left: 1px solid gray;box-sizing: border-box;top: 0;bottom: 0;left: 50%;z-index: 0;}#sk-container-id-3 div.sk-serial {display: flex;flex-direction: column;align-items: center;background-color: white;padding-right: 0.2em;padding-left: 0.2em;position: relative;}#sk-container-id-3 div.sk-item {position: relative;z-index: 1;}#sk-container-id-3 div.sk-parallel {display: flex;align-items: stretch;justify-content: center;background-color: white;position: relative;}#sk-container-id-3 div.sk-item::before, #sk-container-id-3 div.sk-parallel-item::before {content: \"\";position: absolute;border-left: 1px solid gray;box-sizing: border-box;top: 0;bottom: 0;left: 50%;z-index: -1;}#sk-container-id-3 div.sk-parallel-item {display: flex;flex-direction: column;z-index: 1;position: relative;background-color: white;}#sk-container-id-3 div.sk-parallel-item:first-child::after {align-self: flex-end;width: 50%;}#sk-container-id-3 div.sk-parallel-item:last-child::after {align-self: flex-start;width: 50%;}#sk-container-id-3 div.sk-parallel-item:only-child::after {width: 0;}#sk-container-id-3 div.sk-dashed-wrapped {border: 1px dashed gray;margin: 0 0.4em 0.5em 0.4em;box-sizing: border-box;padding-bottom: 0.4em;background-color: white;}#sk-container-id-3 div.sk-label label {font-family: monospace;font-weight: bold;display: inline-block;line-height: 1.2em;}#sk-container-id-3 div.sk-label-container {text-align: center;}#sk-container-id-3 div.sk-container {/* jupyter's `normalize.less` sets `[hidden] { display: none; }` but bootstrap.min.css set `[hidden] { display: none !important; }` so we also need the `!important` here to be able to override the default hidden behavior on the sphinx rendered scikit-learn.org. See: https://github.com/scikit-learn/scikit-learn/issues/21755 */display: inline-block !important;position: relative;}#sk-container-id-3 div.sk-text-repr-fallback {display: none;}</style><div id=\"sk-container-id-3\" class=\"sk-top-container\"><div class=\"sk-text-repr-fallback\"><pre>GridSearchCV(cv=StratifiedKFold(n_splits=10, random_state=42, shuffle=True),\n",
       "             estimator=Pipeline(steps=[(&#x27;preprocessing&#x27;, StandardScaler()),\n",
       "                                       (&#x27;classifier&#x27;,\n",
       "                                        XGBClassifier(base_score=None,\n",
       "                                                      booster=None,\n",
       "                                                      callbacks=None,\n",
       "                                                      colsample_bylevel=None,\n",
       "                                                      colsample_bynode=None,\n",
       "                                                      colsample_bytree=None,\n",
       "                                                      early_stopping_rounds=None,\n",
       "                                                      enable_categorical=False,\n",
       "                                                      eval_metric=None,\n",
       "                                                      feature...\n",
       "                                                      max_leaves=None,\n",
       "                                                      min_child_weight=None,\n",
       "                                                      missing=nan,\n",
       "                                                      monotone_constraints=None,\n",
       "                                                      n_estimators=100,\n",
       "                                                      n_jobs=None,\n",
       "                                                      num_parallel_tree=None,\n",
       "                                                      predictor=None,\n",
       "                                                      random_state=None, ...))]),\n",
       "             param_grid={&#x27;classifier__learning_rate&#x27;: [0.1, 0.01],\n",
       "                         &#x27;classifier__max_depth&#x27;: [3, 5, 10],\n",
       "                         &#x27;classifier__n_estimators&#x27;: [10, 50, 100],\n",
       "                         &#x27;preprocessing__with_mean&#x27;: [True, False]},\n",
       "             scoring=&#x27;roc_auc&#x27;)</pre><b>In a Jupyter environment, please rerun this cell to show the HTML representation or trust the notebook. <br />On GitHub, the HTML representation is unable to render, please try loading this page with nbviewer.org.</b></div><div class=\"sk-container\" hidden><div class=\"sk-item sk-dashed-wrapped\"><div class=\"sk-label-container\"><div class=\"sk-label sk-toggleable\"><input class=\"sk-toggleable__control sk-hidden--visually\" id=\"sk-estimator-id-6\" type=\"checkbox\" ><label for=\"sk-estimator-id-6\" class=\"sk-toggleable__label sk-toggleable__label-arrow\">GridSearchCV</label><div class=\"sk-toggleable__content\"><pre>GridSearchCV(cv=StratifiedKFold(n_splits=10, random_state=42, shuffle=True),\n",
       "             estimator=Pipeline(steps=[(&#x27;preprocessing&#x27;, StandardScaler()),\n",
       "                                       (&#x27;classifier&#x27;,\n",
       "                                        XGBClassifier(base_score=None,\n",
       "                                                      booster=None,\n",
       "                                                      callbacks=None,\n",
       "                                                      colsample_bylevel=None,\n",
       "                                                      colsample_bynode=None,\n",
       "                                                      colsample_bytree=None,\n",
       "                                                      early_stopping_rounds=None,\n",
       "                                                      enable_categorical=False,\n",
       "                                                      eval_metric=None,\n",
       "                                                      feature...\n",
       "                                                      max_leaves=None,\n",
       "                                                      min_child_weight=None,\n",
       "                                                      missing=nan,\n",
       "                                                      monotone_constraints=None,\n",
       "                                                      n_estimators=100,\n",
       "                                                      n_jobs=None,\n",
       "                                                      num_parallel_tree=None,\n",
       "                                                      predictor=None,\n",
       "                                                      random_state=None, ...))]),\n",
       "             param_grid={&#x27;classifier__learning_rate&#x27;: [0.1, 0.01],\n",
       "                         &#x27;classifier__max_depth&#x27;: [3, 5, 10],\n",
       "                         &#x27;classifier__n_estimators&#x27;: [10, 50, 100],\n",
       "                         &#x27;preprocessing__with_mean&#x27;: [True, False]},\n",
       "             scoring=&#x27;roc_auc&#x27;)</pre></div></div></div><div class=\"sk-parallel\"><div class=\"sk-parallel-item\"><div class=\"sk-item\"><div class=\"sk-label-container\"><div class=\"sk-label sk-toggleable\"><input class=\"sk-toggleable__control sk-hidden--visually\" id=\"sk-estimator-id-7\" type=\"checkbox\" ><label for=\"sk-estimator-id-7\" class=\"sk-toggleable__label sk-toggleable__label-arrow\">estimator: Pipeline</label><div class=\"sk-toggleable__content\"><pre>Pipeline(steps=[(&#x27;preprocessing&#x27;, StandardScaler()),\n",
       "                (&#x27;classifier&#x27;,\n",
       "                 XGBClassifier(base_score=None, booster=None, callbacks=None,\n",
       "                               colsample_bylevel=None, colsample_bynode=None,\n",
       "                               colsample_bytree=None,\n",
       "                               early_stopping_rounds=None,\n",
       "                               enable_categorical=False, eval_metric=None,\n",
       "                               feature_types=None, gamma=None, gpu_id=None,\n",
       "                               grow_policy=None, importance_type=None,\n",
       "                               interaction_constraints=None, learning_rate=None,\n",
       "                               max_bin=None, max_cat_threshold=None,\n",
       "                               max_cat_to_onehot=None, max_delta_step=None,\n",
       "                               max_depth=None, max_leaves=None,\n",
       "                               min_child_weight=None, missing=nan,\n",
       "                               monotone_constraints=None, n_estimators=100,\n",
       "                               n_jobs=None, num_parallel_tree=None,\n",
       "                               predictor=None, random_state=None, ...))])</pre></div></div></div><div class=\"sk-serial\"><div class=\"sk-item\"><div class=\"sk-serial\"><div class=\"sk-item\"><div class=\"sk-estimator sk-toggleable\"><input class=\"sk-toggleable__control sk-hidden--visually\" id=\"sk-estimator-id-8\" type=\"checkbox\" ><label for=\"sk-estimator-id-8\" class=\"sk-toggleable__label sk-toggleable__label-arrow\">StandardScaler</label><div class=\"sk-toggleable__content\"><pre>StandardScaler()</pre></div></div></div><div class=\"sk-item\"><div class=\"sk-estimator sk-toggleable\"><input class=\"sk-toggleable__control sk-hidden--visually\" id=\"sk-estimator-id-9\" type=\"checkbox\" ><label for=\"sk-estimator-id-9\" class=\"sk-toggleable__label sk-toggleable__label-arrow\">XGBClassifier</label><div class=\"sk-toggleable__content\"><pre>XGBClassifier(base_score=None, booster=None, callbacks=None,\n",
       "              colsample_bylevel=None, colsample_bynode=None,\n",
       "              colsample_bytree=None, early_stopping_rounds=None,\n",
       "              enable_categorical=False, eval_metric=None, feature_types=None,\n",
       "              gamma=None, gpu_id=None, grow_policy=None, importance_type=None,\n",
       "              interaction_constraints=None, learning_rate=None, max_bin=None,\n",
       "              max_cat_threshold=None, max_cat_to_onehot=None,\n",
       "              max_delta_step=None, max_depth=None, max_leaves=None,\n",
       "              min_child_weight=None, missing=nan, monotone_constraints=None,\n",
       "              n_estimators=100, n_jobs=None, num_parallel_tree=None,\n",
       "              predictor=None, random_state=None, ...)</pre></div></div></div></div></div></div></div></div></div></div></div></div>"
      ],
      "text/plain": [
       "GridSearchCV(cv=StratifiedKFold(n_splits=10, random_state=42, shuffle=True),\n",
       "             estimator=Pipeline(steps=[('preprocessing', StandardScaler()),\n",
       "                                       ('classifier',\n",
       "                                        XGBClassifier(base_score=None,\n",
       "                                                      booster=None,\n",
       "                                                      callbacks=None,\n",
       "                                                      colsample_bylevel=None,\n",
       "                                                      colsample_bynode=None,\n",
       "                                                      colsample_bytree=None,\n",
       "                                                      early_stopping_rounds=None,\n",
       "                                                      enable_categorical=False,\n",
       "                                                      eval_metric=None,\n",
       "                                                      feature...\n",
       "                                                      max_leaves=None,\n",
       "                                                      min_child_weight=None,\n",
       "                                                      missing=nan,\n",
       "                                                      monotone_constraints=None,\n",
       "                                                      n_estimators=100,\n",
       "                                                      n_jobs=None,\n",
       "                                                      num_parallel_tree=None,\n",
       "                                                      predictor=None,\n",
       "                                                      random_state=None, ...))]),\n",
       "             param_grid={'classifier__learning_rate': [0.1, 0.01],\n",
       "                         'classifier__max_depth': [3, 5, 10],\n",
       "                         'classifier__n_estimators': [10, 50, 100],\n",
       "                         'preprocessing__with_mean': [True, False]},\n",
       "             scoring='roc_auc')"
      ]
     },
     "execution_count": 28,
     "metadata": {},
     "output_type": "execute_result"
    }
   ],
   "source": [
    "# XGBoost\n",
    "import pickle\n",
    "\n",
    "with open('xgb_grid_search.pkl', 'rb') as archivo:\n",
    "    xgb_grid_search = pickle.load(archivo)\n",
    "xgb_grid_search"
   ]
  },
  {
   "cell_type": "code",
   "execution_count": 29,
   "id": "4c3c92fc-67f5-4961-ab2c-162b4cb34226",
   "metadata": {
    "tags": []
   },
   "outputs": [
    {
     "data": {
      "text/html": [
       "<style>#sk-container-id-4 {color: black;background-color: white;}#sk-container-id-4 pre{padding: 0;}#sk-container-id-4 div.sk-toggleable {background-color: white;}#sk-container-id-4 label.sk-toggleable__label {cursor: pointer;display: block;width: 100%;margin-bottom: 0;padding: 0.3em;box-sizing: border-box;text-align: center;}#sk-container-id-4 label.sk-toggleable__label-arrow:before {content: \"▸\";float: left;margin-right: 0.25em;color: #696969;}#sk-container-id-4 label.sk-toggleable__label-arrow:hover:before {color: black;}#sk-container-id-4 div.sk-estimator:hover label.sk-toggleable__label-arrow:before {color: black;}#sk-container-id-4 div.sk-toggleable__content {max-height: 0;max-width: 0;overflow: hidden;text-align: left;background-color: #f0f8ff;}#sk-container-id-4 div.sk-toggleable__content pre {margin: 0.2em;color: black;border-radius: 0.25em;background-color: #f0f8ff;}#sk-container-id-4 input.sk-toggleable__control:checked~div.sk-toggleable__content {max-height: 200px;max-width: 100%;overflow: auto;}#sk-container-id-4 input.sk-toggleable__control:checked~label.sk-toggleable__label-arrow:before {content: \"▾\";}#sk-container-id-4 div.sk-estimator input.sk-toggleable__control:checked~label.sk-toggleable__label {background-color: #d4ebff;}#sk-container-id-4 div.sk-label input.sk-toggleable__control:checked~label.sk-toggleable__label {background-color: #d4ebff;}#sk-container-id-4 input.sk-hidden--visually {border: 0;clip: rect(1px 1px 1px 1px);clip: rect(1px, 1px, 1px, 1px);height: 1px;margin: -1px;overflow: hidden;padding: 0;position: absolute;width: 1px;}#sk-container-id-4 div.sk-estimator {font-family: monospace;background-color: #f0f8ff;border: 1px dotted black;border-radius: 0.25em;box-sizing: border-box;margin-bottom: 0.5em;}#sk-container-id-4 div.sk-estimator:hover {background-color: #d4ebff;}#sk-container-id-4 div.sk-parallel-item::after {content: \"\";width: 100%;border-bottom: 1px solid gray;flex-grow: 1;}#sk-container-id-4 div.sk-label:hover label.sk-toggleable__label {background-color: #d4ebff;}#sk-container-id-4 div.sk-serial::before {content: \"\";position: absolute;border-left: 1px solid gray;box-sizing: border-box;top: 0;bottom: 0;left: 50%;z-index: 0;}#sk-container-id-4 div.sk-serial {display: flex;flex-direction: column;align-items: center;background-color: white;padding-right: 0.2em;padding-left: 0.2em;position: relative;}#sk-container-id-4 div.sk-item {position: relative;z-index: 1;}#sk-container-id-4 div.sk-parallel {display: flex;align-items: stretch;justify-content: center;background-color: white;position: relative;}#sk-container-id-4 div.sk-item::before, #sk-container-id-4 div.sk-parallel-item::before {content: \"\";position: absolute;border-left: 1px solid gray;box-sizing: border-box;top: 0;bottom: 0;left: 50%;z-index: -1;}#sk-container-id-4 div.sk-parallel-item {display: flex;flex-direction: column;z-index: 1;position: relative;background-color: white;}#sk-container-id-4 div.sk-parallel-item:first-child::after {align-self: flex-end;width: 50%;}#sk-container-id-4 div.sk-parallel-item:last-child::after {align-self: flex-start;width: 50%;}#sk-container-id-4 div.sk-parallel-item:only-child::after {width: 0;}#sk-container-id-4 div.sk-dashed-wrapped {border: 1px dashed gray;margin: 0 0.4em 0.5em 0.4em;box-sizing: border-box;padding-bottom: 0.4em;background-color: white;}#sk-container-id-4 div.sk-label label {font-family: monospace;font-weight: bold;display: inline-block;line-height: 1.2em;}#sk-container-id-4 div.sk-label-container {text-align: center;}#sk-container-id-4 div.sk-container {/* jupyter's `normalize.less` sets `[hidden] { display: none; }` but bootstrap.min.css set `[hidden] { display: none !important; }` so we also need the `!important` here to be able to override the default hidden behavior on the sphinx rendered scikit-learn.org. See: https://github.com/scikit-learn/scikit-learn/issues/21755 */display: inline-block !important;position: relative;}#sk-container-id-4 div.sk-text-repr-fallback {display: none;}</style><div id=\"sk-container-id-4\" class=\"sk-top-container\"><div class=\"sk-text-repr-fallback\"><pre>GridSearchCV(cv=KFold(n_splits=10, random_state=None, shuffle=False),\n",
       "             estimator=Pipeline(steps=[(&#x27;preprocessing&#x27;, StandardScaler()),\n",
       "                                       (&#x27;classifier&#x27;,\n",
       "                                        &lt;catboost.core.CatBoostClassifier object at 0x7f7a6119bbb0&gt;)]),\n",
       "             param_grid={&#x27;classifier__depth&#x27;: array([10, 20, 30, 40, 50], dtype=int32),\n",
       "                         &#x27;classifier__iterations&#x27;: [50, 100, 200],\n",
       "                         &#x27;classifier__learning_rate&#x27;: [0.01, 0.1, 1]},\n",
       "             verbose=False)</pre><b>In a Jupyter environment, please rerun this cell to show the HTML representation or trust the notebook. <br />On GitHub, the HTML representation is unable to render, please try loading this page with nbviewer.org.</b></div><div class=\"sk-container\" hidden><div class=\"sk-item sk-dashed-wrapped\"><div class=\"sk-label-container\"><div class=\"sk-label sk-toggleable\"><input class=\"sk-toggleable__control sk-hidden--visually\" id=\"sk-estimator-id-10\" type=\"checkbox\" ><label for=\"sk-estimator-id-10\" class=\"sk-toggleable__label sk-toggleable__label-arrow\">GridSearchCV</label><div class=\"sk-toggleable__content\"><pre>GridSearchCV(cv=KFold(n_splits=10, random_state=None, shuffle=False),\n",
       "             estimator=Pipeline(steps=[(&#x27;preprocessing&#x27;, StandardScaler()),\n",
       "                                       (&#x27;classifier&#x27;,\n",
       "                                        &lt;catboost.core.CatBoostClassifier object at 0x7f7a6119bbb0&gt;)]),\n",
       "             param_grid={&#x27;classifier__depth&#x27;: array([10, 20, 30, 40, 50], dtype=int32),\n",
       "                         &#x27;classifier__iterations&#x27;: [50, 100, 200],\n",
       "                         &#x27;classifier__learning_rate&#x27;: [0.01, 0.1, 1]},\n",
       "             verbose=False)</pre></div></div></div><div class=\"sk-parallel\"><div class=\"sk-parallel-item\"><div class=\"sk-item\"><div class=\"sk-label-container\"><div class=\"sk-label sk-toggleable\"><input class=\"sk-toggleable__control sk-hidden--visually\" id=\"sk-estimator-id-11\" type=\"checkbox\" ><label for=\"sk-estimator-id-11\" class=\"sk-toggleable__label sk-toggleable__label-arrow\">estimator: Pipeline</label><div class=\"sk-toggleable__content\"><pre>Pipeline(steps=[(&#x27;preprocessing&#x27;, StandardScaler()),\n",
       "                (&#x27;classifier&#x27;,\n",
       "                 &lt;catboost.core.CatBoostClassifier object at 0x7f7a6119bbb0&gt;)])</pre></div></div></div><div class=\"sk-serial\"><div class=\"sk-item\"><div class=\"sk-serial\"><div class=\"sk-item\"><div class=\"sk-estimator sk-toggleable\"><input class=\"sk-toggleable__control sk-hidden--visually\" id=\"sk-estimator-id-12\" type=\"checkbox\" ><label for=\"sk-estimator-id-12\" class=\"sk-toggleable__label sk-toggleable__label-arrow\">StandardScaler</label><div class=\"sk-toggleable__content\"><pre>StandardScaler()</pre></div></div></div><div class=\"sk-item\"><div class=\"sk-estimator sk-toggleable\"><input class=\"sk-toggleable__control sk-hidden--visually\" id=\"sk-estimator-id-13\" type=\"checkbox\" ><label for=\"sk-estimator-id-13\" class=\"sk-toggleable__label sk-toggleable__label-arrow\">CatBoostClassifier</label><div class=\"sk-toggleable__content\"><pre>&lt;catboost.core.CatBoostClassifier object at 0x7f7a6119bbb0&gt;</pre></div></div></div></div></div></div></div></div></div></div></div></div>"
      ],
      "text/plain": [
       "GridSearchCV(cv=KFold(n_splits=10, random_state=None, shuffle=False),\n",
       "             estimator=Pipeline(steps=[('preprocessing', StandardScaler()),\n",
       "                                       ('classifier',\n",
       "                                        <catboost.core.CatBoostClassifier object at 0x7f7a6119bbb0>)]),\n",
       "             param_grid={'classifier__depth': array([10, 20, 30, 40, 50], dtype=int32),\n",
       "                         'classifier__iterations': [50, 100, 200],\n",
       "                         'classifier__learning_rate': [0.01, 0.1, 1]},\n",
       "             verbose=False)"
      ]
     },
     "execution_count": 29,
     "metadata": {},
     "output_type": "execute_result"
    }
   ],
   "source": [
    "# XGBoost\n",
    "import pickle\n",
    "\n",
    "with open('cb_grid_search.pkl', 'rb') as archivo:\n",
    "    cb_grid_search = pickle.load(archivo)\n",
    "cb_grid_search"
   ]
  },
  {
   "cell_type": "code",
   "execution_count": 30,
   "id": "16e0e112-1403-4556-b13b-1dcfe6157cb9",
   "metadata": {
    "tags": []
   },
   "outputs": [
    {
     "data": {
      "text/html": [
       "<style>#sk-container-id-5 {color: black;background-color: white;}#sk-container-id-5 pre{padding: 0;}#sk-container-id-5 div.sk-toggleable {background-color: white;}#sk-container-id-5 label.sk-toggleable__label {cursor: pointer;display: block;width: 100%;margin-bottom: 0;padding: 0.3em;box-sizing: border-box;text-align: center;}#sk-container-id-5 label.sk-toggleable__label-arrow:before {content: \"▸\";float: left;margin-right: 0.25em;color: #696969;}#sk-container-id-5 label.sk-toggleable__label-arrow:hover:before {color: black;}#sk-container-id-5 div.sk-estimator:hover label.sk-toggleable__label-arrow:before {color: black;}#sk-container-id-5 div.sk-toggleable__content {max-height: 0;max-width: 0;overflow: hidden;text-align: left;background-color: #f0f8ff;}#sk-container-id-5 div.sk-toggleable__content pre {margin: 0.2em;color: black;border-radius: 0.25em;background-color: #f0f8ff;}#sk-container-id-5 input.sk-toggleable__control:checked~div.sk-toggleable__content {max-height: 200px;max-width: 100%;overflow: auto;}#sk-container-id-5 input.sk-toggleable__control:checked~label.sk-toggleable__label-arrow:before {content: \"▾\";}#sk-container-id-5 div.sk-estimator input.sk-toggleable__control:checked~label.sk-toggleable__label {background-color: #d4ebff;}#sk-container-id-5 div.sk-label input.sk-toggleable__control:checked~label.sk-toggleable__label {background-color: #d4ebff;}#sk-container-id-5 input.sk-hidden--visually {border: 0;clip: rect(1px 1px 1px 1px);clip: rect(1px, 1px, 1px, 1px);height: 1px;margin: -1px;overflow: hidden;padding: 0;position: absolute;width: 1px;}#sk-container-id-5 div.sk-estimator {font-family: monospace;background-color: #f0f8ff;border: 1px dotted black;border-radius: 0.25em;box-sizing: border-box;margin-bottom: 0.5em;}#sk-container-id-5 div.sk-estimator:hover {background-color: #d4ebff;}#sk-container-id-5 div.sk-parallel-item::after {content: \"\";width: 100%;border-bottom: 1px solid gray;flex-grow: 1;}#sk-container-id-5 div.sk-label:hover label.sk-toggleable__label {background-color: #d4ebff;}#sk-container-id-5 div.sk-serial::before {content: \"\";position: absolute;border-left: 1px solid gray;box-sizing: border-box;top: 0;bottom: 0;left: 50%;z-index: 0;}#sk-container-id-5 div.sk-serial {display: flex;flex-direction: column;align-items: center;background-color: white;padding-right: 0.2em;padding-left: 0.2em;position: relative;}#sk-container-id-5 div.sk-item {position: relative;z-index: 1;}#sk-container-id-5 div.sk-parallel {display: flex;align-items: stretch;justify-content: center;background-color: white;position: relative;}#sk-container-id-5 div.sk-item::before, #sk-container-id-5 div.sk-parallel-item::before {content: \"\";position: absolute;border-left: 1px solid gray;box-sizing: border-box;top: 0;bottom: 0;left: 50%;z-index: -1;}#sk-container-id-5 div.sk-parallel-item {display: flex;flex-direction: column;z-index: 1;position: relative;background-color: white;}#sk-container-id-5 div.sk-parallel-item:first-child::after {align-self: flex-end;width: 50%;}#sk-container-id-5 div.sk-parallel-item:last-child::after {align-self: flex-start;width: 50%;}#sk-container-id-5 div.sk-parallel-item:only-child::after {width: 0;}#sk-container-id-5 div.sk-dashed-wrapped {border: 1px dashed gray;margin: 0 0.4em 0.5em 0.4em;box-sizing: border-box;padding-bottom: 0.4em;background-color: white;}#sk-container-id-5 div.sk-label label {font-family: monospace;font-weight: bold;display: inline-block;line-height: 1.2em;}#sk-container-id-5 div.sk-label-container {text-align: center;}#sk-container-id-5 div.sk-container {/* jupyter's `normalize.less` sets `[hidden] { display: none; }` but bootstrap.min.css set `[hidden] { display: none !important; }` so we also need the `!important` here to be able to override the default hidden behavior on the sphinx rendered scikit-learn.org. See: https://github.com/scikit-learn/scikit-learn/issues/21755 */display: inline-block !important;position: relative;}#sk-container-id-5 div.sk-text-repr-fallback {display: none;}</style><div id=\"sk-container-id-5\" class=\"sk-top-container\"><div class=\"sk-text-repr-fallback\"><pre>GridSearchCV(cv=KFold(n_splits=10, random_state=None, shuffle=False),\n",
       "             estimator=Pipeline(steps=[(&#x27;preprocessing&#x27;, StandardScaler()),\n",
       "                                       (&#x27;classifier&#x27;, LGBMClassifier())]),\n",
       "             param_grid={&#x27;classifier__learning_rate&#x27;: [0.01, 0.1, 1],\n",
       "                         &#x27;classifier__max_depth&#x27;: [4, 6, 8],\n",
       "                         &#x27;classifier__n_estimators&#x27;: [50, 100, 200]})</pre><b>In a Jupyter environment, please rerun this cell to show the HTML representation or trust the notebook. <br />On GitHub, the HTML representation is unable to render, please try loading this page with nbviewer.org.</b></div><div class=\"sk-container\" hidden><div class=\"sk-item sk-dashed-wrapped\"><div class=\"sk-label-container\"><div class=\"sk-label sk-toggleable\"><input class=\"sk-toggleable__control sk-hidden--visually\" id=\"sk-estimator-id-14\" type=\"checkbox\" ><label for=\"sk-estimator-id-14\" class=\"sk-toggleable__label sk-toggleable__label-arrow\">GridSearchCV</label><div class=\"sk-toggleable__content\"><pre>GridSearchCV(cv=KFold(n_splits=10, random_state=None, shuffle=False),\n",
       "             estimator=Pipeline(steps=[(&#x27;preprocessing&#x27;, StandardScaler()),\n",
       "                                       (&#x27;classifier&#x27;, LGBMClassifier())]),\n",
       "             param_grid={&#x27;classifier__learning_rate&#x27;: [0.01, 0.1, 1],\n",
       "                         &#x27;classifier__max_depth&#x27;: [4, 6, 8],\n",
       "                         &#x27;classifier__n_estimators&#x27;: [50, 100, 200]})</pre></div></div></div><div class=\"sk-parallel\"><div class=\"sk-parallel-item\"><div class=\"sk-item\"><div class=\"sk-label-container\"><div class=\"sk-label sk-toggleable\"><input class=\"sk-toggleable__control sk-hidden--visually\" id=\"sk-estimator-id-15\" type=\"checkbox\" ><label for=\"sk-estimator-id-15\" class=\"sk-toggleable__label sk-toggleable__label-arrow\">estimator: Pipeline</label><div class=\"sk-toggleable__content\"><pre>Pipeline(steps=[(&#x27;preprocessing&#x27;, StandardScaler()),\n",
       "                (&#x27;classifier&#x27;, LGBMClassifier())])</pre></div></div></div><div class=\"sk-serial\"><div class=\"sk-item\"><div class=\"sk-serial\"><div class=\"sk-item\"><div class=\"sk-estimator sk-toggleable\"><input class=\"sk-toggleable__control sk-hidden--visually\" id=\"sk-estimator-id-16\" type=\"checkbox\" ><label for=\"sk-estimator-id-16\" class=\"sk-toggleable__label sk-toggleable__label-arrow\">StandardScaler</label><div class=\"sk-toggleable__content\"><pre>StandardScaler()</pre></div></div></div><div class=\"sk-item\"><div class=\"sk-estimator sk-toggleable\"><input class=\"sk-toggleable__control sk-hidden--visually\" id=\"sk-estimator-id-17\" type=\"checkbox\" ><label for=\"sk-estimator-id-17\" class=\"sk-toggleable__label sk-toggleable__label-arrow\">LGBMClassifier</label><div class=\"sk-toggleable__content\"><pre>LGBMClassifier()</pre></div></div></div></div></div></div></div></div></div></div></div></div>"
      ],
      "text/plain": [
       "GridSearchCV(cv=KFold(n_splits=10, random_state=None, shuffle=False),\n",
       "             estimator=Pipeline(steps=[('preprocessing', StandardScaler()),\n",
       "                                       ('classifier', LGBMClassifier())]),\n",
       "             param_grid={'classifier__learning_rate': [0.01, 0.1, 1],\n",
       "                         'classifier__max_depth': [4, 6, 8],\n",
       "                         'classifier__n_estimators': [50, 100, 200]})"
      ]
     },
     "execution_count": 30,
     "metadata": {},
     "output_type": "execute_result"
    }
   ],
   "source": [
    "# XGBoost\n",
    "import pickle\n",
    "\n",
    "with open('lbgm_grid_search.pkl', 'rb') as archivo:\n",
    "    lbgm_grid_search = pickle.load(archivo)\n",
    "lbgm_grid_search"
   ]
  },
  {
   "cell_type": "code",
   "execution_count": null,
   "id": "47e002db-8999-461e-a3f4-41a594471c7f",
   "metadata": {},
   "outputs": [],
   "source": []
  },
  {
   "cell_type": "code",
   "execution_count": 31,
   "id": "e9d5b6a1-9500-4fd0-8625-b487abcfcbe9",
   "metadata": {
    "tags": []
   },
   "outputs": [
    {
     "name": "stdout",
     "output_type": "stream",
     "text": [
      "MÉTRICAS DE DESEMPEÑO CON OPTIMIZACIÓN GRIDSEARCH Y CROSS VALIDATION\n",
      "-------------------------------------------------------------------\n"
     ]
    },
    {
     "data": {
      "text/html": [
       "<div>\n",
       "<style scoped>\n",
       "    .dataframe tbody tr th:only-of-type {\n",
       "        vertical-align: middle;\n",
       "    }\n",
       "\n",
       "    .dataframe tbody tr th {\n",
       "        vertical-align: top;\n",
       "    }\n",
       "\n",
       "    .dataframe thead th {\n",
       "        text-align: right;\n",
       "    }\n",
       "</style>\n",
       "<table border=\"1\" class=\"dataframe\">\n",
       "  <thead>\n",
       "    <tr style=\"text-align: right;\">\n",
       "      <th></th>\n",
       "      <th>Modelo</th>\n",
       "      <th>Precision</th>\n",
       "      <th>Recall</th>\n",
       "      <th>F1-score</th>\n",
       "      <th>AUC</th>\n",
       "      <th>Accuracy</th>\n",
       "    </tr>\n",
       "  </thead>\n",
       "  <tbody>\n",
       "    <tr>\n",
       "      <th>0</th>\n",
       "      <td>Regresión Logística</td>\n",
       "      <td>0.860255</td>\n",
       "      <td>0.579892</td>\n",
       "      <td>0.669581</td>\n",
       "      <td>0.592840</td>\n",
       "      <td>0.579892</td>\n",
       "    </tr>\n",
       "    <tr>\n",
       "      <th>1</th>\n",
       "      <td>Random Forest</td>\n",
       "      <td>0.967832</td>\n",
       "      <td>0.969008</td>\n",
       "      <td>0.967406</td>\n",
       "      <td>0.962599</td>\n",
       "      <td>0.969008</td>\n",
       "    </tr>\n",
       "    <tr>\n",
       "      <th>2</th>\n",
       "      <td>XGBoost</td>\n",
       "      <td>0.930042</td>\n",
       "      <td>0.904487</td>\n",
       "      <td>0.913807</td>\n",
       "      <td>0.916034</td>\n",
       "      <td>0.904487</td>\n",
       "    </tr>\n",
       "    <tr>\n",
       "      <th>3</th>\n",
       "      <td>CatBoost</td>\n",
       "      <td>0.941296</td>\n",
       "      <td>0.931359</td>\n",
       "      <td>0.935199</td>\n",
       "      <td>0.915596</td>\n",
       "      <td>0.931359</td>\n",
       "    </tr>\n",
       "    <tr>\n",
       "      <th>4</th>\n",
       "      <td>LightGBM</td>\n",
       "      <td>0.928305</td>\n",
       "      <td>0.903061</td>\n",
       "      <td>0.912380</td>\n",
       "      <td>0.901462</td>\n",
       "      <td>0.903061</td>\n",
       "    </tr>\n",
       "  </tbody>\n",
       "</table>\n",
       "</div>"
      ],
      "text/plain": [
       "                Modelo  Precision    Recall  F1-score       AUC  Accuracy\n",
       "0  Regresión Logística   0.860255  0.579892  0.669581  0.592840  0.579892\n",
       "1        Random Forest   0.967832  0.969008  0.967406  0.962599  0.969008\n",
       "2              XGBoost   0.930042  0.904487  0.913807  0.916034  0.904487\n",
       "3             CatBoost   0.941296  0.931359  0.935199  0.915596  0.931359\n",
       "4             LightGBM   0.928305  0.903061  0.912380  0.901462  0.903061"
      ]
     },
     "execution_count": 31,
     "metadata": {},
     "output_type": "execute_result"
    }
   ],
   "source": [
    "from sklearn.metrics import classification_report, roc_auc_score\n",
    "from sklearn.metrics import accuracy_score\n",
    "\n",
    "# Inicializar el dataframe para almacenar los resultados\n",
    "results_df = pd.DataFrame(columns=['Modelo', 'Precision', 'Recall', 'F1-score', 'AUC'])\n",
    "\n",
    "# SVM\n",
    "#svm_report = classification_report(y_test, grid.predict(X_test), output_dict=True)\n",
    "#svm_results = {'Modelo': 'SVM',\n",
    "#               'Precision': svm_report['weighted avg']['precision'],\n",
    "#               'Recall': svm_report['weighted avg']['recall'],\n",
    "#               'F1-score': svm_report['weighted avg']['f1-score'],\n",
    "#               'Accuracy': accuracy_score(y_test, grid.predict(X_test)),\n",
    "#              'AUC': roc_auc_score(y_test, grid.decision_function(X_test))}\n",
    "#results_df = results_df.append(svm_results, ignore_index=True)\n",
    "\n",
    "# Regresión Logística\n",
    "logreg_report = classification_report(y_test, logreg.predict(X_test), output_dict=True)\n",
    "logreg_results = {'Modelo': 'Regresión Logística',\n",
    "                  'Precision': logreg_report['weighted avg']['precision'],\n",
    "                  'Recall': logreg_report['weighted avg']['recall'],\n",
    "                  'F1-score': logreg_report['weighted avg']['f1-score'],\n",
    "                  'Accuracy': accuracy_score(y_test, logreg.predict(X_test)),\n",
    "                  'AUC': roc_auc_score(y_test, logreg.decision_function(X_test))}\n",
    "results_df = results_df.append(logreg_results, ignore_index=True)\n",
    "\n",
    "# Random Forest\n",
    "rf_report = classification_report(y_test, rf.predict(X_test), output_dict=True)\n",
    "rf_results = {'Modelo': 'Random Forest',\n",
    "              'Precision': rf_report['weighted avg']['precision'],\n",
    "              'Recall': rf_report['weighted avg']['recall'],\n",
    "              'F1-score': rf_report['weighted avg']['f1-score'],              \n",
    "              'Accuracy': accuracy_score(y_test, rf.predict(X_test)),\n",
    "              'AUC': roc_auc_score(y_test, rf.predict_proba(X_test)[:, 1])}\n",
    "results_df = results_df.append(rf_results, ignore_index=True)\n",
    "\n",
    "# XGBoost\n",
    "xgb_report = classification_report(y_test, xgb_grid_search.predict(X_test), output_dict=True)\n",
    "xgb_results = {'Modelo': 'XGBoost',\n",
    "               'Precision': xgb_report['weighted avg']['precision'],\n",
    "               'Recall': xgb_report['weighted avg']['recall'],\n",
    "               'F1-score': xgb_report['weighted avg']['f1-score'],\n",
    "               'Accuracy': accuracy_score(y_test, xgb_grid_search.predict(X_test)),\n",
    "               'AUC': roc_auc_score(y_test, xgb_grid_search.predict_proba(X_test)[:, 1])}\n",
    "results_df = results_df.append(xgb_results, ignore_index=True)\n",
    "\n",
    "# CatBoost\n",
    "cb_report = classification_report(y_test, cb_grid_search.predict(X_test), output_dict=True)\n",
    "cb_results = {'Modelo': 'CatBoost',\n",
    "              'Precision': cb_report['weighted avg']['precision'],\n",
    "              'Recall': cb_report['weighted avg']['recall'],\n",
    "              'F1-score': cb_report['weighted avg']['f1-score'],\n",
    "              'Accuracy': accuracy_score(y_test, cb_grid_search.predict(X_test)),\n",
    "              'AUC': roc_auc_score(y_test, cb_grid_search.predict_proba(X_test)[:, 1])}\n",
    "results_df = results_df.append(cb_results, ignore_index=True)\n",
    "\n",
    "# LightGBM\n",
    "lgbm_report = classification_report(y_test, lbgm_grid_search.predict(X_test), output_dict=True)\n",
    "lgbm_results = {'Modelo': 'LightGBM',\n",
    "                'Precision': lgbm_report['weighted avg']['precision'],\n",
    "                'Recall': lgbm_report['weighted avg']['recall'],\n",
    "                'F1-score': lgbm_report['weighted avg']['f1-score'],\n",
    "                'Accuracy': accuracy_score(y_test, lbgm_grid_search.predict(X_test)),\n",
    "                'AUC': roc_auc_score(y_test, lbgm_grid_search.predict_proba(X_test)[:, 1])}\n",
    "results_df = results_df.append(lgbm_results, ignore_index=True)\n",
    "\n",
    "\n",
    "\"\"\"# ensamble\n",
    "ensemble_model_report = classification_report(y_test, ensemble_model.predict(X_test), output_dict=True)\n",
    "ensemble_model_results = {'Modelo': 'Ensemble',\n",
    "                'Precision': ensemble_model_report['weighted avg']['precision'],\n",
    "                'Recall': ensemble_model_report['weighted avg']['recall'],\n",
    "                'F1-score': ensemble_model_report['weighted avg']['f1-score'],\n",
    "                'Accuracy': accuracy_score(y_test, ensemble_model.predict(X_test)),\n",
    "                'AUC': roc_auc_score(y_test, y_ensemble_model, average='weighted')}\n",
    "results_df = results_df.append(ensemble_model_results, ignore_index=True)\"\"\"\n",
    "\n",
    "\n",
    "# Mostrar el dataframe con los resultados\n",
    "print(\"MÉTRICAS DE DESEMPEÑO CON OPTIMIZACIÓN GRIDSEARCH Y CROSS VALIDATION\")\n",
    "print(\"-------------------------------------------------------------------\")\n",
    "results_df"
   ]
  },
  {
   "cell_type": "code",
   "execution_count": 276,
   "id": "7c04e86a-6a70-4f3f-b701-2c15359cd1d2",
   "metadata": {
    "tags": []
   },
   "outputs": [
    {
     "data": {
      "text/plain": [
       "0.8455983082591323"
      ]
     },
     "execution_count": 276,
     "metadata": {},
     "output_type": "execute_result"
    }
   ],
   "source": [
    "auc_scores = roc_auc_score(y_test, y_ensemble_model, average='weighted')  # Calcular el AUC utilizando el enfoque \"weighted\"\n",
    "#ensemble_model_results['AUC'] = auc_scores\n",
    "auc_scores"
   ]
  },
  {
   "cell_type": "markdown",
   "id": "2f113859-61f6-49d8-9b92-4e5a35581854",
   "metadata": {},
   "source": [
    "## ROC"
   ]
  },
  {
   "cell_type": "code",
   "execution_count": 33,
   "id": "c84fff54-9155-4d2d-b9a0-4658174f6853",
   "metadata": {
    "tags": []
   },
   "outputs": [
    {
     "data": {
      "image/png": "[encoded data removed]",
      "text/plain": [
       "<Figure size 640x480 with 1 Axes>"
      ]
     },
     "metadata": {},
     "output_type": "display_data"
    }
   ],
   "source": [
    "from sklearn.metrics import roc_curve, auc\n",
    "\n",
    "# Definir los modelos de clasificación y sus nombres\n",
    "\n",
    "#models = [grid, logreg, rf, xgb_grid_search, cb_grid_search, lbgm_grid_search] \n",
    "#model_names = ['SVM', 'RL', 'RF', \"XGBoost\", \"CatBoost\", \"LightGBM\"] \n",
    "\n",
    "models = [logreg, rf, xgb_grid_search, cb_grid_search, lbgm_grid_search, \n",
    "         # ensemble_model\n",
    "         ] \n",
    "model_names = ['RL', 'RF', \"XGBoost\", \"CatBoost\", \"LightGBM\", \n",
    "              # \"Ensemble\"\n",
    "              ] \n",
    "\n",
    "# Inicializar la figura\n",
    "fig, ax = plt.subplots()\n",
    "\n",
    "# Iterar sobre los modelos de clasificación y graficar sus curvas ROC\n",
    "for i, model in enumerate(models):\n",
    "    \"\"\"if model ==  \"SVM\" or model == \"RL\":\n",
    "        fpr, tpr, thresholds = roc_curve(y_test, model.decision_function(X_test))\n",
    "        roc_auc = auc(fpr, tpr)\n",
    "    else:\n",
    "         # Calcular la curva ROC y el área bajo la curva (AUC)\n",
    "        fpr, tpr, thresholds = roc_curve(y_test, model.predict_proba(X_test)[:, 1])\n",
    "        roc_auc = auc(fpr, tpr)\"\"\"\n",
    "    \n",
    "    if hasattr(model, \"predict_proba\"):\n",
    "        # Calcular la curva ROC y el área bajo la curva (AUC)\n",
    "        fpr, tpr, thresholds = roc_curve(y_test, model.predict_proba(X_test)[:, 1])\n",
    "        roc_auc = auc(fpr, tpr)\n",
    "    elif hasattr(model, \"decision_function\"):\n",
    "        # Calcular la curva ROC y el área bajo la curva (AUC)\n",
    "        fpr, tpr, thresholds = roc_curve(y_test, model.decision_function(X_test))\n",
    "        roc_auc = auc(fpr, tpr)\n",
    "    else:\n",
    "        roc_auc = roc_auc_score(y_test, model.predict(X_test), average='weighted')\n",
    "\n",
    "    \n",
    "   \n",
    "    # Graficar la curva ROC\n",
    "    ax.plot(fpr, tpr, label=f'{model_names[i]} (AUC = {roc_auc:.2f})')\n",
    "\n",
    "# Agregar la línea de referencia diagonal\n",
    "ax.plot([0, 1], [0, 1], 'k--', label='Clasificador aleatorio')\n",
    "\n",
    "# Configurar las etiquetas y leyendas del gráfico\n",
    "ax.set_xlabel('Tasa de falsos positivos')\n",
    "ax.set_ylabel('Tasa de verdaderos positivos')\n",
    "ax.set_title('Curva ROC Grid Search')\n",
    "ax.legend()\n",
    "\n",
    "# Mostrar la figura\n",
    "plt.show()\n"
   ]
  },
  {
   "cell_type": "code",
   "execution_count": 37,
   "id": "12903c42-089f-45bf-a3b2-46a5852e80cc",
   "metadata": {
    "tags": []
   },
   "outputs": [],
   "source": [
    "# predichos\n",
    "y_pred_rl = logreg.predict(X_test)\n",
    "y_pred_rf = rf.predict(X_test)\n",
    "y_pred_xgb = xgb_grid_search.predict(X_test)\n",
    "y_pred_cb = cb_grid_search.predict(X_test)\n",
    "y_pred_lgbm = lbgm_grid_search.predict(X_test)"
   ]
  },
  {
   "cell_type": "code",
   "execution_count": 40,
   "id": "3757a802-d2e8-4398-a17d-0f8c4dea2d16",
   "metadata": {
    "tags": []
   },
   "outputs": [],
   "source": [
    "# Crear el DataFrame\n",
    "data_FN = {\n",
    "    'Cluster_test': Cluster_test,\n",
    "    'y_test': y_test,\n",
    "    'y_pred_rl': y_pred_rl,\n",
    "    'y_pred_rf': y_pred_rf,\n",
    "    'y_pred_xgb': y_pred_xgb,\n",
    "    'y_pred_cb': y_pred_cb,\n",
    "    'y_pred_lgbm': y_pred_lgbm,\n",
    "    #'y_ensemble_model': y_ensemble_model\n",
    "}\n",
    "\n",
    "df_FN = pd.DataFrame(data_FN)\n",
    "df_FN = df_FN.reset_index()"
   ]
  },
  {
   "cell_type": "code",
   "execution_count": 41,
   "id": "1803f280-25eb-4b56-b050-c178ef2a6e77",
   "metadata": {
    "tags": []
   },
   "outputs": [
    {
     "data": {
      "text/html": [
       "<div>\n",
       "<style scoped>\n",
       "    .dataframe tbody tr th:only-of-type {\n",
       "        vertical-align: middle;\n",
       "    }\n",
       "\n",
       "    .dataframe tbody tr th {\n",
       "        vertical-align: top;\n",
       "    }\n",
       "\n",
       "    .dataframe thead th {\n",
       "        text-align: right;\n",
       "    }\n",
       "</style>\n",
       "<table border=\"1\" class=\"dataframe\">\n",
       "  <thead>\n",
       "    <tr style=\"text-align: right;\">\n",
       "      <th></th>\n",
       "      <th>index</th>\n",
       "      <th>Cluster_test</th>\n",
       "      <th>y_test</th>\n",
       "      <th>y_pred_rl</th>\n",
       "      <th>y_pred_rf</th>\n",
       "      <th>y_pred_xgb</th>\n",
       "      <th>y_pred_cb</th>\n",
       "      <th>y_pred_lgbm</th>\n",
       "    </tr>\n",
       "  </thead>\n",
       "  <tbody>\n",
       "    <tr>\n",
       "      <th>0</th>\n",
       "      <td>82905</td>\n",
       "      <td>2</td>\n",
       "      <td>0</td>\n",
       "      <td>0</td>\n",
       "      <td>0</td>\n",
       "      <td>0</td>\n",
       "      <td>0</td>\n",
       "      <td>0</td>\n",
       "    </tr>\n",
       "    <tr>\n",
       "      <th>1</th>\n",
       "      <td>110532</td>\n",
       "      <td>0</td>\n",
       "      <td>0</td>\n",
       "      <td>1</td>\n",
       "      <td>0</td>\n",
       "      <td>0</td>\n",
       "      <td>0</td>\n",
       "      <td>0</td>\n",
       "    </tr>\n",
       "    <tr>\n",
       "      <th>2</th>\n",
       "      <td>141846</td>\n",
       "      <td>1</td>\n",
       "      <td>0</td>\n",
       "      <td>0</td>\n",
       "      <td>0</td>\n",
       "      <td>0</td>\n",
       "      <td>0</td>\n",
       "      <td>0</td>\n",
       "    </tr>\n",
       "    <tr>\n",
       "      <th>3</th>\n",
       "      <td>70978</td>\n",
       "      <td>1</td>\n",
       "      <td>0</td>\n",
       "      <td>1</td>\n",
       "      <td>0</td>\n",
       "      <td>1</td>\n",
       "      <td>0</td>\n",
       "      <td>0</td>\n",
       "    </tr>\n",
       "    <tr>\n",
       "      <th>4</th>\n",
       "      <td>48905</td>\n",
       "      <td>0</td>\n",
       "      <td>0</td>\n",
       "      <td>0</td>\n",
       "      <td>0</td>\n",
       "      <td>0</td>\n",
       "      <td>0</td>\n",
       "      <td>0</td>\n",
       "    </tr>\n",
       "  </tbody>\n",
       "</table>\n",
       "</div>"
      ],
      "text/plain": [
       "    index  Cluster_test  y_test  y_pred_rl  y_pred_rf  y_pred_xgb  y_pred_cb  \\\n",
       "0   82905             2       0          0          0           0          0   \n",
       "1  110532             0       0          1          0           0          0   \n",
       "2  141846             1       0          0          0           0          0   \n",
       "3   70978             1       0          1          0           1          0   \n",
       "4   48905             0       0          0          0           0          0   \n",
       "\n",
       "   y_pred_lgbm  \n",
       "0            0  \n",
       "1            0  \n",
       "2            0  \n",
       "3            0  \n",
       "4            0  "
      ]
     },
     "execution_count": 41,
     "metadata": {},
     "output_type": "execute_result"
    }
   ],
   "source": [
    "df_FN.head()"
   ]
  },
  {
   "cell_type": "code",
   "execution_count": 304,
   "id": "0d9a363a-38c9-46ab-819b-e3ce5fa5459b",
   "metadata": {
    "tags": []
   },
   "outputs": [],
   "source": [
    "prueba = df_FN[df_FN['Cluster_test'] == 0]"
   ]
  },
  {
   "cell_type": "code",
   "execution_count": 320,
   "id": "76f38f08-feb6-43f2-bb35-711f33922693",
   "metadata": {
    "tags": []
   },
   "outputs": [
    {
     "name": "stdout",
     "output_type": "stream",
     "text": [
      "Falsos Negativos: 203\n",
      "Suma total de la matriz de confusión: 11014\n",
      "Longuitud: 11014\n"
     ]
    }
   ],
   "source": [
    "cm_rf_fn = pd.crosstab(\n",
    "    prueba['y_test'].values,\n",
    "    prueba['y_pred_rf'].values,\n",
    "    rownames=['Real'],\n",
    "    colnames=['Predicción']\n",
    ")\n",
    "\n",
    "falsos_negativos = cm_rf_fn.iloc[1, 0]\n",
    "suma_total = cm_rf_fn.values.sum()\n",
    "print(\"Falsos Negativos:\", falsos_negativos)\n",
    "print(\"Suma total de la matriz de confusión:\", suma_total)\n",
    "print(\"Longuitud:\", len(prueba['y_test']))"
   ]
  },
  {
   "cell_type": "code",
   "execution_count": 308,
   "id": "a3d9698b-61d0-49a5-b786-28a131908a02",
   "metadata": {
    "tags": []
   },
   "outputs": [
    {
     "name": "stdout",
     "output_type": "stream",
     "text": [
      "Matriz de Confusion de modelo de Ensamble\n",
      "╒════════╤══════╤═════╕\n",
      "│   Real │    0 │   1 │\n",
      "╞════════╪══════╪═════╡\n",
      "│      0 │ 9992 │  94 │\n",
      "├────────┼──────┼─────┤\n",
      "│      1 │  219 │ 709 │\n",
      "╘════════╧══════╧═════╛\n",
      "---\n"
     ]
    }
   ],
   "source": [
    "print(\"Matriz de Confusion de modelo de Ensamble\")\n",
    "print(tabulate(cm_ensemble_model_fn, headers='keys', tablefmt='fancy_grid'))\n",
    "print(\"---\")"
   ]
  },
  {
   "cell_type": "code",
   "execution_count": 46,
   "id": "6147316c-2fab-49e3-b3f1-e48128e3c1fa",
   "metadata": {
    "tags": []
   },
   "outputs": [],
   "source": [
    "from sklearn.metrics import confusion_matrix"
   ]
  },
  {
   "cell_type": "code",
   "execution_count": 319,
   "id": "7f14830a-84f6-477c-97b3-65724c73a282",
   "metadata": {
    "tags": []
   },
   "outputs": [
    {
     "data": {
      "text/html": [
       "<div>\n",
       "<style scoped>\n",
       "    .dataframe tbody tr th:only-of-type {\n",
       "        vertical-align: middle;\n",
       "    }\n",
       "\n",
       "    .dataframe tbody tr th {\n",
       "        vertical-align: top;\n",
       "    }\n",
       "\n",
       "    .dataframe thead th {\n",
       "        text-align: right;\n",
       "    }\n",
       "</style>\n",
       "<table border=\"1\" class=\"dataframe\">\n",
       "  <thead>\n",
       "    <tr style=\"text-align: right;\">\n",
       "      <th></th>\n",
       "      <th>Predicted 0</th>\n",
       "      <th>Predicted 1</th>\n",
       "    </tr>\n",
       "  </thead>\n",
       "  <tbody>\n",
       "    <tr>\n",
       "      <th>Actual 0</th>\n",
       "      <td>10022</td>\n",
       "      <td>64</td>\n",
       "    </tr>\n",
       "    <tr>\n",
       "      <th>Actual 1</th>\n",
       "      <td>203</td>\n",
       "      <td>725</td>\n",
       "    </tr>\n",
       "  </tbody>\n",
       "</table>\n",
       "</div>"
      ],
      "text/plain": [
       "          Predicted 0  Predicted 1\n",
       "Actual 0        10022           64\n",
       "Actual 1          203          725"
      ]
     },
     "execution_count": 319,
     "metadata": {},
     "output_type": "execute_result"
    }
   ],
   "source": [
    "# Obtener los valores reales y predichos\n",
    "y_real = prueba['y_test'].values\n",
    "y_pred = prueba['y_pred_rf'].values\n",
    "\n",
    "# Calcular la matriz de confusión\n",
    "cm = confusion_matrix(y_real, y_pred)\n",
    "\n",
    "# Crear un DataFrame a partir de la matriz de confusión\n",
    "df_cm = pd.DataFrame(cm, index=['Actual 0', 'Actual 1'], columns=['Predicted 0', 'Predicted 1'])\n",
    "\n",
    "# Imprimir el DataFrame de la matriz de confusión\n",
    "df_cm"
   ]
  },
  {
   "cell_type": "code",
   "execution_count": null,
   "id": "bff846ce-e64b-40f8-bca4-ae2c02cd5574",
   "metadata": {},
   "outputs": [],
   "source": []
  },
  {
   "cell_type": "code",
   "execution_count": 321,
   "id": "0173890e-b4a4-417c-a364-6dbb45ec517f",
   "metadata": {
    "tags": []
   },
   "outputs": [
    {
     "name": "stdout",
     "output_type": "stream",
     "text": [
      "Falsos negativos: 203\n",
      "Total clasificados como negativo: 928\n",
      "tasa de falsos negativos: 0.21875\n"
     ]
    }
   ],
   "source": [
    "false_negatives = cm_rf_fn.loc[1, 0]  # Obtener el número de falsos negativos\n",
    "actual_negatives = cm_rf_fn.loc[1, :].sum()  # Obtener el total de casos negativos reales\n",
    "\n",
    "false_negative_rate = false_negatives / actual_negatives  # Calcular la tasa de falsos negativos\n",
    "\n",
    "print('Falsos negativos:', false_negatives)\n",
    "print('Total clasificados como negativo:', actual_negatives)\n",
    "print('tasa de falsos negativos:', false_negative_rate)"
   ]
  },
  {
   "cell_type": "code",
   "execution_count": 323,
   "id": "5afc582a-ac57-48c5-a1c0-9b0599458f17",
   "metadata": {
    "tags": []
   },
   "outputs": [
    {
     "name": "stdout",
     "output_type": "stream",
     "text": [
      "Falsos negativos: 216\n",
      "Total clasificados como negativo: 706\n",
      "tasa de falsos negativos: 0.3059490084985836\n"
     ]
    }
   ],
   "source": [
    "#cluster 1\n",
    "prueba1 = df_FN[df_FN['Cluster_test'] == 1]\n",
    "cm_rf_fn1 = pd.crosstab(\n",
    "    prueba1['y_test'].values,\n",
    "    prueba1['y_pred_rf'].values,\n",
    "    rownames=['Real'],\n",
    "    colnames=['Predicción']\n",
    ")\n",
    "\n",
    "false_negatives1 = cm_rf_fn1.loc[1, 0]  # Obtener el número de falsos negativos\n",
    "actual_negatives1 = cm_rf_fn1.loc[1, :].sum()  # Obtener el total de casos negativos reales\n",
    "\n",
    "false_negative_rate1 = false_negatives1 / actual_negatives1  # Calcular la tasa de falsos negativos\n",
    "\n",
    "print('Falsos negativos:', false_negatives1)\n",
    "print('Total clasificados como positivos:', actual_negatives1)\n",
    "print('tasa de falsos negativos:', false_negative_rate1)"
   ]
  },
  {
   "cell_type": "code",
   "execution_count": 43,
   "id": "596032e6-3b15-4eb6-af9d-a84682bf1a29",
   "metadata": {
    "tags": []
   },
   "outputs": [],
   "source": [
    "def false_negative_rate(y_true, y_pred):\n",
    "    cm = confusion_matrix(y_true, y_pred)\n",
    "    fn = cm[1, 0]  # Falsos negativos: predicción negativa, pero verdadero positivo\n",
    "    total_positives = cm[1, :].sum()  # Total de positivos\n",
    "    return fn / total_positives\n",
    "\n",
    "def total_positives(y_true, y_pred):\n",
    "    cm = confusion_matrix(y_true, y_pred)\n",
    "    fn = cm[1, 0]  # Falsos negativos: predicción negativa, pero verdadero positivo\n",
    "    total_positives = cm[1, :].sum()  # Total de positivos\n",
    "    return total_positives\n",
    "\n",
    "#false_negative_rate(prueba1['y_test'].values, prueba1['y_pred_rf'].values)\n",
    "#total_positives(prueba1['y_test'].values, prueba1['y_pred_rf'].values)"
   ]
  },
  {
   "cell_type": "code",
   "execution_count": 341,
   "id": "61b339d8-3851-4d3a-9885-f0cde53bc4b9",
   "metadata": {
    "tags": []
   },
   "outputs": [
    {
     "data": {
      "text/plain": [
       "0.29456771231828616"
      ]
     },
     "execution_count": 341,
     "metadata": {},
     "output_type": "execute_result"
    }
   ],
   "source": [
    "false_negative_rate(y_test, y_ensemble_model)"
   ]
  },
  {
   "cell_type": "code",
   "execution_count": 44,
   "id": "0ae98daa-2408-4f6e-adba-9d38c06ab06d",
   "metadata": {
    "tags": []
   },
   "outputs": [],
   "source": [
    "# Resetear el índice de y_test\n",
    "y_test = y_test.reset_index(drop=True)"
   ]
  },
  {
   "cell_type": "code",
   "execution_count": 47,
   "id": "3d11a936-0fed-4468-b3b1-6733b5a80b10",
   "metadata": {
    "tags": []
   },
   "outputs": [
    {
     "name": "stdout",
     "output_type": "stream",
     "text": [
      "INTERVALO DE CONFIANZA TFN Regresión Logística\n",
      "Tasa de Falsos Negativos para Regresión Logística: 0.4305\n",
      "Intervalo de confianza (95%): [0.4154, 0.4456]\n"
     ]
    }
   ],
   "source": [
    "# Número de muestras bootstrap\n",
    "n_bootstrap = 1000\n",
    "\n",
    "# Inicializar una lista para almacenar los resultados de la tasa de falsos negativos\n",
    "fns_bootstrap = []\n",
    "\n",
    "# Realizar bootstrap\n",
    "for _ in range(n_bootstrap):\n",
    "    # Generar una muestra de índices bootstrap\n",
    "    bootstrap_indices = np.random.choice(range(len(y_pred_rl)), size=len(y_pred_rl), replace=True)\n",
    "    \n",
    "    # Obtener los elementos correspondientes en y_pred_bayes_xgb y y_test_reset usando los índices bootstrap\n",
    "    bootstrap_sample_ensemble = y_pred_rl[bootstrap_indices]\n",
    "    bootstrap_sample_test = y_test[bootstrap_indices]\n",
    "    \n",
    "    # Calcular la tasa de falsos negativos para la muestra bootstrap actual\n",
    "    fn_rate = false_negative_rate(bootstrap_sample_test, bootstrap_sample_ensemble)\n",
    "    fns_bootstrap.append(fn_rate)\n",
    "\n",
    "# Calcular el intervalo de confianza del 95%\n",
    "lower_bound = np.percentile(fns_bootstrap, 2.5)\n",
    "upper_bound = np.percentile(fns_bootstrap, 97.5)\n",
    "\n",
    "print('INTERVALO DE CONFIANZA TFN Regresión Logística')\n",
    "print('Tasa de Falsos Negativos para Regresión Logística: {:.4f}'.format(false_negative_rate(y_test, y_pred_rl))) \n",
    "print(\"Intervalo de confianza (95%): [{:.4f}, {:.4f}]\".format(lower_bound, upper_bound))\n"
   ]
  },
  {
   "cell_type": "code",
   "execution_count": 136,
   "id": "96defdeb-3dd3-4342-9155-e8a7ab4806ab",
   "metadata": {
    "tags": []
   },
   "outputs": [
    {
     "name": "stdout",
     "output_type": "stream",
     "text": [
      "INTERVALO DE CONFIANZA TFN RANDOM FOREST\n",
      "Tasa de Falsos Negativos para RANDOM FOREST: 0.2762\n",
      "Intervalo de confianza (95%): [0.2626, 0.2901]\n"
     ]
    }
   ],
   "source": [
    "# Número de muestras bootstrap\n",
    "n_bootstrap = 1000\n",
    "\n",
    "# Inicializar una lista para almacenar los resultados de la tasa de falsos negativos\n",
    "fns_bootstrap_rf = []\n",
    "\n",
    "# Realizar bootstrap\n",
    "for _ in range(n_bootstrap):\n",
    "    # Generar una muestra de índices bootstrap\n",
    "    bootstrap_indices = np.random.choice(range(len(y_pred_rf)), size=len(y_pred_rf), replace=True)\n",
    "    \n",
    "    # Obtener los elementos correspondientes en y_pred_bayes_xgb y y_test_reset usando los índices bootstrap\n",
    "    bootstrap_sample_ensemble = y_pred_rf[bootstrap_indices]\n",
    "    bootstrap_sample_test = y_test[bootstrap_indices]\n",
    "    \n",
    "    # Calcular la tasa de falsos negativos para la muestra bootstrap actual\n",
    "    fn_rate = false_negative_rate(bootstrap_sample_test, bootstrap_sample_ensemble)\n",
    "    fns_bootstrap_rf.append(fn_rate)\n",
    "\n",
    "# Calcular el intervalo de confianza del 95%\n",
    "lower_bound = np.percentile(fns_bootstrap, 2.5)\n",
    "upper_bound = np.percentile(fns_bootstrap, 97.5)\n",
    "\n",
    "print('INTERVALO DE CONFIANZA TFN RANDOM FOREST')\n",
    "print('Tasa de Falsos Negativos para RANDOM FOREST: {:.4f}'.format(false_negative_rate(y_test, y_pred_rf))) \n",
    "print(\"Intervalo de confianza (95%): [{:.4f}, {:.4f}]\".format(lower_bound, upper_bound))\n"
   ]
  },
  {
   "cell_type": "code",
   "execution_count": 137,
   "id": "c97bd72a-6246-446b-a353-4edf140f0a4a",
   "metadata": {
    "tags": []
   },
   "outputs": [
    {
     "data": {
      "image/png": "[encoded data removed]",
      "text/plain": [
       "<Figure size 800x600 with 1 Axes>"
      ]
     },
     "metadata": {},
     "output_type": "display_data"
    }
   ],
   "source": [
    "# Graficar el histograma\n",
    "plt.figure(figsize=(8, 6))\n",
    "plt.hist(fns_bootstrap_rf, bins=10, edgecolor='black')\n",
    "plt.xlabel('Tasa de Falsos Negativos')\n",
    "plt.ylabel('Frecuencia')\n",
    "plt.title('Histograma Tasa de Falsos Negativos Random Forest Grid Search')\n",
    "plt.grid(True)\n",
    "plt.show()"
   ]
  },
  {
   "cell_type": "code",
   "execution_count": 49,
   "id": "2c5cf4c0-40fa-4109-a29b-d6f2577afa4f",
   "metadata": {
    "tags": []
   },
   "outputs": [
    {
     "name": "stdout",
     "output_type": "stream",
     "text": [
      "INTERVALO DE CONFIANZA TFN XGBoost\n",
      "Tasa de Falsos Negativos para XGBoost: 0.2492\n",
      "Intervalo de confianza (95%): [0.2356, 0.2629]\n"
     ]
    }
   ],
   "source": [
    "# Número de muestras bootstrap\n",
    "n_bootstrap = 1000\n",
    "\n",
    "# Inicializar una lista para almacenar los resultados de la tasa de falsos negativos\n",
    "fns_bootstrap = []\n",
    "\n",
    "# Realizar bootstrap\n",
    "for _ in range(n_bootstrap):\n",
    "    # Generar una muestra de índices bootstrap\n",
    "    bootstrap_indices = np.random.choice(range(len(y_pred_xgb)), size=len(y_pred_xgb), replace=True)\n",
    "    \n",
    "    # Obtener los elementos correspondientes en y_pred_bayes_xgb y y_test_reset usando los índices bootstrap\n",
    "    bootstrap_sample_ensemble = y_pred_xgb[bootstrap_indices]\n",
    "    bootstrap_sample_test = y_test[bootstrap_indices]\n",
    "    \n",
    "    # Calcular la tasa de falsos negativos para la muestra bootstrap actual\n",
    "    fn_rate = false_negative_rate(bootstrap_sample_test, bootstrap_sample_ensemble)\n",
    "    fns_bootstrap.append(fn_rate)\n",
    "\n",
    "# Calcular el intervalo de confianza del 95%\n",
    "lower_bound = np.percentile(fns_bootstrap, 2.5)\n",
    "upper_bound = np.percentile(fns_bootstrap, 97.5)\n",
    "\n",
    "print('INTERVALO DE CONFIANZA TFN XGBoost')\n",
    "print('Tasa de Falsos Negativos para XGBoost: {:.4f}'.format(false_negative_rate(y_test, y_pred_xgb))) \n",
    "print(\"Intervalo de confianza (95%): [{:.4f}, {:.4f}]\".format(lower_bound, upper_bound))\n"
   ]
  },
  {
   "cell_type": "code",
   "execution_count": 50,
   "id": "29e26e6f-aa26-4142-a82f-0e4dd0aec071",
   "metadata": {
    "tags": []
   },
   "outputs": [
    {
     "name": "stdout",
     "output_type": "stream",
     "text": [
      "INTERVALO DE CONFIANZA TFN CatBoost\n",
      "Tasa de Falsos Negativos para CatBoost: 0.2423\n",
      "Intervalo de confianza (95%): [0.2295, 0.2558]\n"
     ]
    }
   ],
   "source": [
    "# Número de muestras bootstrap\n",
    "n_bootstrap = 1000\n",
    "\n",
    "# Inicializar una lista para almacenar los resultados de la tasa de falsos negativos\n",
    "fns_bootstrap = []\n",
    "\n",
    "# Realizar bootstrap\n",
    "for _ in range(n_bootstrap):\n",
    "    # Generar una muestra de índices bootstrap\n",
    "    bootstrap_indices = np.random.choice(range(len(y_pred_cb)), size=len(y_pred_cb), replace=True)\n",
    "    \n",
    "    # Obtener los elementos correspondientes en y_pred_bayes_xgb y y_test_reset usando los índices bootstrap\n",
    "    bootstrap_sample_ensemble = y_pred_cb[bootstrap_indices]\n",
    "    bootstrap_sample_test = y_test[bootstrap_indices]\n",
    "    \n",
    "    # Calcular la tasa de falsos negativos para la muestra bootstrap actual\n",
    "    fn_rate = false_negative_rate(bootstrap_sample_test, bootstrap_sample_ensemble)\n",
    "    fns_bootstrap.append(fn_rate)\n",
    "\n",
    "# Calcular el intervalo de confianza del 95%\n",
    "lower_bound = np.percentile(fns_bootstrap, 2.5)\n",
    "upper_bound = np.percentile(fns_bootstrap, 97.5)\n",
    "\n",
    "print('INTERVALO DE CONFIANZA TFN CatBoost')\n",
    "print('Tasa de Falsos Negativos para CatBoost: {:.4f}'.format(false_negative_rate(y_test, y_pred_cb))) \n",
    "print(\"Intervalo de confianza (95%): [{:.4f}, {:.4f}]\".format(lower_bound, upper_bound))\n"
   ]
  },
  {
   "cell_type": "code",
   "execution_count": 51,
   "id": "6550a271-7a07-4dd1-bfea-8ae3145b34b5",
   "metadata": {
    "tags": []
   },
   "outputs": [
    {
     "name": "stdout",
     "output_type": "stream",
     "text": [
      "INTERVALO DE CONFIANZA TFN LightGBM\n",
      "Tasa de Falsos Negativos para LightGBM: 0.2629\n",
      "Intervalo de confianza (95%): [0.2492, 0.2782]\n"
     ]
    }
   ],
   "source": [
    "# Número de muestras bootstrap\n",
    "n_bootstrap = 1000\n",
    "\n",
    "# Inicializar una lista para almacenar los resultados de la tasa de falsos negativos\n",
    "fns_bootstrap = []\n",
    "\n",
    "# Realizar bootstrap\n",
    "for _ in range(n_bootstrap):\n",
    "    # Generar una muestra de índices bootstrap\n",
    "    bootstrap_indices = np.random.choice(range(len(y_pred_lgbm)), size=len(y_pred_lgbm), replace=True)\n",
    "    \n",
    "    # Obtener los elementos correspondientes en y_pred_bayes_xgb y y_test_reset usando los índices bootstrap\n",
    "    bootstrap_sample_ensemble = y_pred_lgbm[bootstrap_indices]\n",
    "    bootstrap_sample_test = y_test[bootstrap_indices]\n",
    "    \n",
    "    # Calcular la tasa de falsos negativos para la muestra bootstrap actual\n",
    "    fn_rate = false_negative_rate(bootstrap_sample_test, bootstrap_sample_ensemble)\n",
    "    fns_bootstrap.append(fn_rate)\n",
    "\n",
    "# Calcular el intervalo de confianza del 95%\n",
    "lower_bound = np.percentile(fns_bootstrap, 2.5)\n",
    "upper_bound = np.percentile(fns_bootstrap, 97.5)\n",
    "\n",
    "print('INTERVALO DE CONFIANZA TFN LightGBM')\n",
    "print('Tasa de Falsos Negativos para LightGBM: {:.4f}'.format(false_negative_rate(y_test, y_pred_lgbm))) \n",
    "print(\"Intervalo de confianza (95%): [{:.4f}, {:.4f}]\".format(lower_bound, upper_bound))\n"
   ]
  },
  {
   "cell_type": "code",
   "execution_count": 63,
   "id": "4ce6d9b7-f109-4403-a6ba-1dc76160f627",
   "metadata": {
    "tags": []
   },
   "outputs": [
    {
     "name": "stdout",
     "output_type": "stream",
     "text": [
      "Prueba de hipótesis de diferencia de proporciones para TFN RF vs XGBoost\n",
      "Diferencia de proporciones: 0.02703391991838816\n",
      "Valor p: 0.006530946145533555\n",
      "Intervalo de confianza: (-0.0004995434017189826, 0.05456738323849533)\n"
     ]
    }
   ],
   "source": [
    "import statsmodels.stats.proportion as prop\n",
    "import statsmodels.api as sm\n",
    "\n",
    "# Datos de ejemplo\n",
    "n2 = total_positives(y_test, y_pred_xgb)  # Tamaño de la muestra del cluster 2\n",
    "p2 = false_negative_rate(y_test, y_pred_xgb)  # Proporción del del cluster 2\n",
    "n1 = total_positives(y_test, y_pred_rf)  # Tamaño de la muestra del del cluster 1\n",
    "p1 = false_negative_rate(y_test, y_pred_rf)  # Proporción del del cluster 1\n",
    "\n",
    "# Calcular los éxitos en cada grupo\n",
    "successes1 = int(n1 * p1)\n",
    "successes2 = int(n2 * p2)\n",
    "\n",
    "\n",
    "# Realizar la prueba de hipótesis\n",
    "z, p_value = sm.stats.proportions_ztest([successes1, \n",
    "                                         successes2], \n",
    "                                        [n1, \n",
    "                                         n2]\n",
    "                                       )\n",
    "\n",
    "# Calcular el intervalo de confianza\n",
    "conf_int1 = prop.proportion_confint(successes1, \n",
    "                                    n1)\n",
    "\n",
    "conf_int2 = prop.proportion_confint(successes2, \n",
    "                                    n2)\n",
    "\n",
    "conf_int = (conf_int1[0] - conf_int2[1], conf_int1[1] - conf_int2[0])\n",
    "\n",
    "# Imprimir los resultados\n",
    "print(\"Prueba de hipótesis de diferencia de proporciones para TFN RF vs XGBoost\")\n",
    "print(\"Diferencia de proporciones:\", p1 - p2)\n",
    "print(\"Valor p:\", p_value)\n",
    "print(\"Intervalo de confianza:\", conf_int)"
   ]
  },
  {
   "cell_type": "code",
   "execution_count": 58,
   "id": "d4d6d43c-52b0-4fa6-b315-7aa820ceb91a",
   "metadata": {
    "tags": []
   },
   "outputs": [
    {
     "name": "stdout",
     "output_type": "stream",
     "text": [
      "Prueba de hipótesis de diferencia de proporciones para TFN RF vs CatBoost\n",
      "Diferencia de proporciones: 0.03391991838816627\n",
      "Valor p: 0.0006097292663898693\n",
      "Intervalo de confianza: (0.006513759126141494, 0.061326077650191074)\n"
     ]
    }
   ],
   "source": [
    "import statsmodels.stats.proportion as prop\n",
    "import statsmodels.api as sm\n",
    "\n",
    "# Datos de ejemplo\n",
    "n2 = total_positives(y_test, y_pred_cb)  # Tamaño de la muestra del cluster 2\n",
    "p2 = false_negative_rate(y_test, y_pred_cb)  # Proporción del del cluster 2\n",
    "n1 = total_positives(y_test, y_pred_rf)  # Tamaño de la muestra del del cluster 1\n",
    "p1 = false_negative_rate(y_test, y_pred_rf)  # Proporción del del cluster 1\n",
    "\n",
    "# Calcular los éxitos en cada grupo\n",
    "successes1 = int(n1 * p1)\n",
    "successes2 = int(n2 * p2)\n",
    "\n",
    "\n",
    "# Realizar la prueba de hipótesis\n",
    "z, p_value = sm.stats.proportions_ztest([successes1, \n",
    "                                         successes2], \n",
    "                                        [n1, \n",
    "                                         n2]\n",
    "                                       )\n",
    "\n",
    "# Calcular el intervalo de confianza\n",
    "conf_int1 = prop.proportion_confint(successes1, \n",
    "                                    n1)\n",
    "\n",
    "conf_int2 = prop.proportion_confint(successes2, \n",
    "                                    n2)\n",
    "\n",
    "conf_int = (conf_int1[0] - conf_int2[1], conf_int1[1] - conf_int2[0])\n",
    "\n",
    "# Imprimir los resultados\n",
    "print(\"Prueba de hipótesis de diferencia de proporciones para TFN RF vs CatBoost\")\n",
    "print(\"Diferencia de proporciones:\", p1 - p2)\n",
    "print(\"Valor p:\", p_value)\n",
    "print(\"Intervalo de confianza:\", conf_int)"
   ]
  },
  {
   "cell_type": "code",
   "execution_count": 65,
   "id": "73bc8a76-4d39-4a75-b845-98eafeec6946",
   "metadata": {
    "tags": []
   },
   "outputs": [
    {
     "name": "stdout",
     "output_type": "stream",
     "text": [
      "Prueba de hipótesis de diferencia de proporciones para TFN RF vs LightGBM\n",
      "Diferencia de proporciones: 0.013261922978831941\n",
      "Valor p: 0.18573112033015093\n",
      "Intervalo de confianza: (-0.014512512820176737, 0.04103635877784065)\n"
     ]
    }
   ],
   "source": [
    "import statsmodels.stats.proportion as prop\n",
    "import statsmodels.api as sm\n",
    "\n",
    "# Datos de ejemplo\n",
    "n2 = total_positives(y_test, y_pred_lgbm)  # Tamaño de la muestra del cluster 2\n",
    "p2 = false_negative_rate(y_test, y_pred_lgbm)  # Proporción del del cluster 2\n",
    "n1 = total_positives(y_test, y_pred_rf)  # Tamaño de la muestra del del cluster 1\n",
    "p1 = false_negative_rate(y_test, y_pred_rf)  # Proporción del del cluster 1\n",
    "\n",
    "# Calcular los éxitos en cada grupo\n",
    "successes1 = int(n1 * p1)\n",
    "successes2 = int(n2 * p2)\n",
    "\n",
    "\n",
    "# Realizar la prueba de hipótesis\n",
    "z, p_value = sm.stats.proportions_ztest([successes1, \n",
    "                                         successes2], \n",
    "                                        [n1, \n",
    "                                         n2]\n",
    "                                       )\n",
    "\n",
    "# Calcular el intervalo de confianza\n",
    "conf_int1 = prop.proportion_confint(successes1, \n",
    "                                    n1)\n",
    "\n",
    "conf_int2 = prop.proportion_confint(successes2, \n",
    "                                    n2)\n",
    "\n",
    "conf_int = (conf_int1[0] - conf_int2[1], conf_int1[1] - conf_int2[0])\n",
    "\n",
    "# Imprimir los resultados\n",
    "print(\"Prueba de hipótesis de diferencia de proporciones para TFN RF vs LightGBM\")\n",
    "print(\"Diferencia de proporciones:\", p1 - p2)\n",
    "print(\"Valor p:\", p_value)\n",
    "print(\"Intervalo de confianza:\", conf_int)"
   ]
  },
  {
   "cell_type": "code",
   "execution_count": 60,
   "id": "7b7e25f5-47ac-4541-91bd-81f5686edd42",
   "metadata": {
    "tags": []
   },
   "outputs": [
    {
     "name": "stdout",
     "output_type": "stream",
     "text": [
      "Prueba de hipótesis de diferencia de proporciones para TFN XGBoost vs LightGBM\n",
      "Diferencia de proporciones: -0.01377199693955622\n",
      "Valor p: 0.16236936140650937\n",
      "Intervalo de confianza: (-0.041089873588972786, 0.013545879709860348)\n"
     ]
    }
   ],
   "source": [
    "import statsmodels.stats.proportion as prop\n",
    "import statsmodels.api as sm\n",
    "\n",
    "# Datos de ejemplo\n",
    "n2 = total_positives(y_test, y_pred_lgbm)  # Tamaño de la muestra del cluster 2\n",
    "p2 = false_negative_rate(y_test, y_pred_lgbm)  # Proporción del del cluster 2\n",
    "n1 = total_positives(y_test, y_pred_xgb)  # Tamaño de la muestra del del cluster 1\n",
    "p1 = false_negative_rate(y_test, y_pred_xgb)  # Proporción del del cluster 1\n",
    "\n",
    "# Calcular los éxitos en cada grupo\n",
    "successes1 = int(n1 * p1)\n",
    "successes2 = int(n2 * p2)\n",
    "\n",
    "\n",
    "# Realizar la prueba de hipótesis\n",
    "z, p_value = sm.stats.proportions_ztest([successes1, \n",
    "                                         successes2], \n",
    "                                        [n1, \n",
    "                                         n2]\n",
    "                                       )\n",
    "\n",
    "# Calcular el intervalo de confianza\n",
    "conf_int1 = prop.proportion_confint(successes1, \n",
    "                                    n1)\n",
    "\n",
    "conf_int2 = prop.proportion_confint(successes2, \n",
    "                                    n2)\n",
    "\n",
    "conf_int = (conf_int1[0] - conf_int2[1], conf_int1[1] - conf_int2[0])\n",
    "\n",
    "# Imprimir los resultados\n",
    "print(\"Prueba de hipótesis de diferencia de proporciones para TFN XGBoost vs LightGBM\")\n",
    "print(\"Diferencia de proporciones:\", p1 - p2)\n",
    "print(\"Valor p:\", p_value)\n",
    "print(\"Intervalo de confianza:\", conf_int)"
   ]
  },
  {
   "cell_type": "code",
   "execution_count": 61,
   "id": "0c220afa-8565-4a5b-b71d-be18126a0bde",
   "metadata": {
    "tags": []
   },
   "outputs": [
    {
     "name": "stdout",
     "output_type": "stream",
     "text": [
      "Prueba de hipótesis de diferencia de proporciones para TFN XGBoost vs CatBoost\n",
      "Diferencia de proporciones: 0.00688599846977811\n",
      "Valor p: 0.478817999342958\n",
      "Intervalo de confianza: (-0.020063601642654555, 0.033835598582210774)\n"
     ]
    }
   ],
   "source": [
    "import statsmodels.stats.proportion as prop\n",
    "import statsmodels.api as sm\n",
    "\n",
    "# Datos de ejemplo\n",
    "n2 = total_positives(y_test, y_pred_cb)  # Tamaño de la muestra del cluster 2\n",
    "p2 = false_negative_rate(y_test, y_pred_cb)  # Proporción del del cluster 2\n",
    "n1 = total_positives(y_test, y_pred_xgb)  # Tamaño de la muestra del del cluster 1\n",
    "p1 = false_negative_rate(y_test, y_pred_xgb)  # Proporción del del cluster 1\n",
    "\n",
    "# Calcular los éxitos en cada grupo\n",
    "successes1 = int(n1 * p1)\n",
    "successes2 = int(n2 * p2)\n",
    "\n",
    "\n",
    "# Realizar la prueba de hipótesis\n",
    "z, p_value = sm.stats.proportions_ztest([successes1, \n",
    "                                         successes2], \n",
    "                                        [n1, \n",
    "                                         n2]\n",
    "                                       )\n",
    "\n",
    "# Calcular el intervalo de confianza\n",
    "conf_int1 = prop.proportion_confint(successes1, \n",
    "                                    n1)\n",
    "\n",
    "conf_int2 = prop.proportion_confint(successes2, \n",
    "                                    n2)\n",
    "\n",
    "conf_int = (conf_int1[0] - conf_int2[1], conf_int1[1] - conf_int2[0])\n",
    "\n",
    "# Imprimir los resultados\n",
    "print(\"Prueba de hipótesis de diferencia de proporciones para TFN XGBoost vs CatBoost\")\n",
    "print(\"Diferencia de proporciones:\", p1 - p2)\n",
    "print(\"Valor p:\", p_value)\n",
    "print(\"Intervalo de confianza:\", conf_int)"
   ]
  },
  {
   "cell_type": "code",
   "execution_count": 64,
   "id": "3934152d-98df-42cd-a231-d0954ac29c28",
   "metadata": {
    "tags": []
   },
   "outputs": [
    {
     "name": "stdout",
     "output_type": "stream",
     "text": [
      "Prueba de hipótesis de diferencia de proporciones para TFN LighGBM vs CatBoost\n",
      "Diferencia de proporciones: 0.02065799540933433\n",
      "Valor p: 0.03528361324708876\n",
      "Intervalo de confianza: (-0.006532577181999871, 0.04784856800066853)\n"
     ]
    }
   ],
   "source": [
    "import statsmodels.stats.proportion as prop\n",
    "import statsmodels.api as sm\n",
    "\n",
    "# Datos de ejemplo\n",
    "n2 = total_positives(y_test, y_pred_cb)  # Tamaño de la muestra del cluster 2\n",
    "p2 = false_negative_rate(y_test, y_pred_cb)  # Proporción del del cluster 2\n",
    "n1 = total_positives(y_test, y_pred_lgbm)  # Tamaño de la muestra del del cluster 1\n",
    "p1 = false_negative_rate(y_test, y_pred_lgbm)  # Proporción del del cluster 1\n",
    "\n",
    "# Calcular los éxitos en cada grupo\n",
    "successes1 = int(n1 * p1)\n",
    "successes2 = int(n2 * p2)\n",
    "\n",
    "\n",
    "# Realizar la prueba de hipótesis\n",
    "z, p_value = sm.stats.proportions_ztest([successes1, \n",
    "                                         successes2], \n",
    "                                        [n1, \n",
    "                                         n2]\n",
    "                                       )\n",
    "\n",
    "# Calcular el intervalo de confianza\n",
    "conf_int1 = prop.proportion_confint(successes1, \n",
    "                                    n1)\n",
    "\n",
    "conf_int2 = prop.proportion_confint(successes2, \n",
    "                                    n2)\n",
    "\n",
    "conf_int = (conf_int1[0] - conf_int2[1], conf_int1[1] - conf_int2[0])\n",
    "\n",
    "# Imprimir los resultados\n",
    "print(\"Prueba de hipótesis de diferencia de proporciones para TFN LighGBM vs CatBoost\")\n",
    "print(\"Diferencia de proporciones:\", p1 - p2)\n",
    "print(\"Valor p:\", p_value)\n",
    "print(\"Intervalo de confianza:\", conf_int)"
   ]
  },
  {
   "cell_type": "code",
   "execution_count": 66,
   "id": "b8a4412b-31c4-4526-9bf2-75a40230deb3",
   "metadata": {
    "tags": []
   },
   "outputs": [
    {
     "data": {
      "text/html": [
       "<div>\n",
       "<style scoped>\n",
       "    .dataframe tbody tr th:only-of-type {\n",
       "        vertical-align: middle;\n",
       "    }\n",
       "\n",
       "    .dataframe tbody tr th {\n",
       "        vertical-align: top;\n",
       "    }\n",
       "\n",
       "    .dataframe thead th {\n",
       "        text-align: right;\n",
       "    }\n",
       "</style>\n",
       "<table border=\"1\" class=\"dataframe\">\n",
       "  <thead>\n",
       "    <tr style=\"text-align: right;\">\n",
       "      <th></th>\n",
       "      <th>Cluster</th>\n",
       "      <th>TFN_RF</th>\n",
       "      <th>Intervalo Inferior</th>\n",
       "      <th>Intervalo Superior</th>\n",
       "    </tr>\n",
       "  </thead>\n",
       "  <tbody>\n",
       "    <tr>\n",
       "      <th>0</th>\n",
       "      <td>2</td>\n",
       "      <td>0.213836</td>\n",
       "      <td>0.176697</td>\n",
       "      <td>0.251046</td>\n",
       "    </tr>\n",
       "    <tr>\n",
       "      <th>1</th>\n",
       "      <td>0</td>\n",
       "      <td>0.238147</td>\n",
       "      <td>0.210642</td>\n",
       "      <td>0.265608</td>\n",
       "    </tr>\n",
       "    <tr>\n",
       "      <th>2</th>\n",
       "      <td>1</td>\n",
       "      <td>0.311615</td>\n",
       "      <td>0.276054</td>\n",
       "      <td>0.347178</td>\n",
       "    </tr>\n",
       "    <tr>\n",
       "      <th>3</th>\n",
       "      <td>3</td>\n",
       "      <td>0.298343</td>\n",
       "      <td>0.276073</td>\n",
       "      <td>0.319105</td>\n",
       "    </tr>\n",
       "  </tbody>\n",
       "</table>\n",
       "</div>"
      ],
      "text/plain": [
       "   Cluster    TFN_RF  Intervalo Inferior  Intervalo Superior\n",
       "0        2  0.213836            0.176697            0.251046\n",
       "1        0  0.238147            0.210642            0.265608\n",
       "2        1  0.311615            0.276054            0.347178\n",
       "3        3  0.298343            0.276073            0.319105"
      ]
     },
     "execution_count": 66,
     "metadata": {},
     "output_type": "execute_result"
    }
   ],
   "source": [
    "# Número de muestras bootstrap\n",
    "n_bootstrap = 1000\n",
    "\n",
    "# Lista para almacenar los resultados de los intervalos de confianza\n",
    "intervalos_confianza = []\n",
    "\n",
    "# Realizar el ciclo para cada cluster\n",
    "for cluster in df_FN['Cluster_test'].unique():\n",
    "    # Obtener los datos correspondientes al cluster actual\n",
    "    y_test_cluster = df_FN[df_FN['Cluster_test'] == cluster]['y_test']\n",
    "    y_pred_rf_cluster = df_FN[df_FN['Cluster_test'] == cluster]['y_pred_rf']\n",
    "    \n",
    "    # Lista para almacenar los resultados de la tasa de falsos negativos bootstrap\n",
    "    fns_bootstrap = []\n",
    "    \n",
    "    # Realizar bootstrap\n",
    "    for _ in range(n_bootstrap):\n",
    "        # Generar una muestra de índices bootstrap\n",
    "        bootstrap_indices = np.random.choice(range(len(y_pred_rf_cluster)), size=len(y_pred_rf_cluster), replace=True)\n",
    "        \n",
    "        # Obtener los elementos correspondientes en y_pred_rf_cluster y y_test_cluster usando los índices bootstrap\n",
    "        bootstrap_sample_ensemble = y_pred_rf_cluster.iloc[bootstrap_indices]\n",
    "        bootstrap_sample_test = y_test_cluster.iloc[bootstrap_indices]\n",
    "        \n",
    "        # Calcular la tasa de falsos negativos para la muestra bootstrap actual\n",
    "        fn_rate = false_negative_rate(bootstrap_sample_test, bootstrap_sample_ensemble)\n",
    "        fns_bootstrap.append(fn_rate)\n",
    "    \n",
    "    # Calcular el intervalo de confianza del 95% para el cluster actual\n",
    "    lower_bound = np.percentile(fns_bootstrap, 2.5)\n",
    "    upper_bound = np.percentile(fns_bootstrap, 97.5)\n",
    "    \n",
    "    # Agregar los resultados a la lista de intervalos de confianza\n",
    "    intervalos_confianza.append((lower_bound, upper_bound))\n",
    "    \n",
    "# Crear un DataFrame con los resultados\n",
    "resultados_df = pd.DataFrame({\n",
    "    'Cluster': df_FN['Cluster_test'].unique(),\n",
    "    'TFN_RF': [false_negative_rate(df_FN[df_FN['Cluster_test'] == cluster]['y_test'], df_FN[df_FN['Cluster_test'] == cluster]['y_pred_rf']) for cluster in df_FN['Cluster_test'].unique()],\n",
    "    'Intervalo Inferior': [intervalo[0] for intervalo in intervalos_confianza],\n",
    "    'Intervalo Superior': [intervalo[1] for intervalo in intervalos_confianza]\n",
    "})\n",
    "\n",
    "# Imprimir el DataFrame de resultados\n",
    "resultados_df"
   ]
  },
  {
   "cell_type": "code",
   "execution_count": 83,
   "id": "8fd2e813-054c-47dd-944a-0c2906e4e0de",
   "metadata": {
    "tags": []
   },
   "outputs": [
    {
     "data": {
      "text/html": [
       "<div>\n",
       "<style scoped>\n",
       "    .dataframe tbody tr th:only-of-type {\n",
       "        vertical-align: middle;\n",
       "    }\n",
       "\n",
       "    .dataframe tbody tr th {\n",
       "        vertical-align: top;\n",
       "    }\n",
       "\n",
       "    .dataframe thead th {\n",
       "        text-align: right;\n",
       "    }\n",
       "</style>\n",
       "<table border=\"1\" class=\"dataframe\">\n",
       "  <thead>\n",
       "    <tr style=\"text-align: right;\">\n",
       "      <th></th>\n",
       "      <th>Cluster</th>\n",
       "      <th>Diferencia de proporciones</th>\n",
       "      <th>Valor p</th>\n",
       "      <th>Intervalo de confianza</th>\n",
       "    </tr>\n",
       "  </thead>\n",
       "  <tbody>\n",
       "    <tr>\n",
       "      <th>0</th>\n",
       "      <td>2</td>\n",
       "      <td>-0.024310</td>\n",
       "      <td>0.305119</td>\n",
       "      <td>(0.1770416953077143, 0.2506312606671285)</td>\n",
       "    </tr>\n",
       "    <tr>\n",
       "      <th>1</th>\n",
       "      <td>0</td>\n",
       "      <td>0.000000</td>\n",
       "      <td>1.000000</td>\n",
       "      <td>(0.2107414151687701, 0.26555168827950576)</td>\n",
       "    </tr>\n",
       "    <tr>\n",
       "      <th>2</th>\n",
       "      <td>1</td>\n",
       "      <td>0.073468</td>\n",
       "      <td>0.000919</td>\n",
       "      <td>(0.27745058917847587, 0.3457788725778981)</td>\n",
       "    </tr>\n",
       "    <tr>\n",
       "      <th>3</th>\n",
       "      <td>3</td>\n",
       "      <td>0.060196</td>\n",
       "      <td>0.000874</td>\n",
       "      <td>(0.27726456235794966, 0.31942052051497855)</td>\n",
       "    </tr>\n",
       "  </tbody>\n",
       "</table>\n",
       "</div>"
      ],
      "text/plain": [
       "  Cluster  Diferencia de proporciones   Valor p  \\\n",
       "0       2                   -0.024310  0.305119   \n",
       "1       0                    0.000000  1.000000   \n",
       "2       1                    0.073468  0.000919   \n",
       "3       3                    0.060196  0.000874   \n",
       "\n",
       "                       Intervalo de confianza  \n",
       "0    (0.1770416953077143, 0.2506312606671285)  \n",
       "1   (0.2107414151687701, 0.26555168827950576)  \n",
       "2   (0.27745058917847587, 0.3457788725778981)  \n",
       "3  (0.27726456235794966, 0.31942052051497855)  "
      ]
     },
     "execution_count": 83,
     "metadata": {},
     "output_type": "execute_result"
    }
   ],
   "source": [
    "import pandas as pd\n",
    "import statsmodels.stats.proportion as prop\n",
    "\n",
    "# Crear un DataFrame vacío para almacenar los resultados\n",
    "results_df = pd.DataFrame(columns=['Cluster', 'Diferencia de proporciones', 'Valor p', 'Intervalo de confianza'])\n",
    "\n",
    "# Calcular los valores de referencia para el cluster 0\n",
    "n0 = total_positives(df_FN[df_FN['Cluster_test'] == 0]['y_test'], df_FN[df_FN['Cluster_test'] == 0]['y_pred_rf'])\n",
    "p0 = false_negative_rate(df_FN[df_FN['Cluster_test'] == 0]['y_test'], df_FN[df_FN['Cluster_test'] == 0]['y_pred_rf'])\n",
    "\n",
    "# Iterar sobre cada clúster\n",
    "for cluster in df_FN['Cluster_test'].unique():\n",
    "    # Filtrar los datos por clúster\n",
    "    cluster_data = df_FN[df_FN['Cluster_test'] == cluster]\n",
    "    \n",
    "    # Obtener el tamaño de la muestra y la proporción del clúster actual\n",
    "    n = total_positives(cluster_data['y_test'], cluster_data['y_pred_rf'])\n",
    "    p = false_negative_rate(cluster_data['y_test'], cluster_data['y_pred_rf'])\n",
    "    \n",
    "    # Calcular la diferencia de proporciones\n",
    "    diff_prop = p - p0\n",
    "    \n",
    "    # Realizar la prueba de hipótesis utilizando prop.proportions_ztest()\n",
    "    z_score, p_value = prop.proportions_ztest([n * p, n0 * p0], [n, n0])\n",
    "    \n",
    "    # Calcular el intervalo de confianza\n",
    "    conf_int = prop.proportion_confint(n * p, n)\n",
    "    \n",
    "    # Agregar los resultados al DataFrame\n",
    "    results_df = results_df.append({'Cluster': cluster,\n",
    "                                    'Diferencia de proporciones': diff_prop,\n",
    "                                    'Valor p': p_value,\n",
    "                                    'Intervalo de confianza': conf_int}, ignore_index=True)\n",
    "\n",
    "# Imprimir el DataFrame de resultados\n",
    "results_df\n",
    "\n",
    "cluster_0 = results_df\n",
    "\n",
    "cluster_0"
   ]
  },
  {
   "cell_type": "code",
   "execution_count": 88,
   "id": "cc2d21c3-ffbf-48e4-8f0c-e3b6bd1e56a4",
   "metadata": {
    "tags": []
   },
   "outputs": [
    {
     "data": {
      "text/html": [
       "<div>\n",
       "<style scoped>\n",
       "    .dataframe tbody tr th:only-of-type {\n",
       "        vertical-align: middle;\n",
       "    }\n",
       "\n",
       "    .dataframe tbody tr th {\n",
       "        vertical-align: top;\n",
       "    }\n",
       "\n",
       "    .dataframe thead th {\n",
       "        text-align: right;\n",
       "    }\n",
       "</style>\n",
       "<table border=\"1\" class=\"dataframe\">\n",
       "  <thead>\n",
       "    <tr style=\"text-align: right;\">\n",
       "      <th></th>\n",
       "      <th>Cluster</th>\n",
       "      <th>Diferencia de proporciones</th>\n",
       "      <th>Valor p</th>\n",
       "      <th>Intervalo de confianza</th>\n",
       "    </tr>\n",
       "  </thead>\n",
       "  <tbody>\n",
       "    <tr>\n",
       "      <th>0</th>\n",
       "      <td>2</td>\n",
       "      <td>-0.097778</td>\n",
       "      <td>0.000210</td>\n",
       "      <td>(0.1770416953077143, 0.2506312606671285)</td>\n",
       "    </tr>\n",
       "    <tr>\n",
       "      <th>1</th>\n",
       "      <td>0</td>\n",
       "      <td>-0.073468</td>\n",
       "      <td>0.000919</td>\n",
       "      <td>(0.2107414151687701, 0.26555168827950576)</td>\n",
       "    </tr>\n",
       "    <tr>\n",
       "      <th>2</th>\n",
       "      <td>1</td>\n",
       "      <td>0.000000</td>\n",
       "      <td>1.000000</td>\n",
       "      <td>(0.27745058917847587, 0.3457788725778981)</td>\n",
       "    </tr>\n",
       "    <tr>\n",
       "      <th>3</th>\n",
       "      <td>3</td>\n",
       "      <td>-0.013272</td>\n",
       "      <td>0.514766</td>\n",
       "      <td>(0.27726456235794966, 0.31942052051497855)</td>\n",
       "    </tr>\n",
       "  </tbody>\n",
       "</table>\n",
       "</div>"
      ],
      "text/plain": [
       "  Cluster  Diferencia de proporciones   Valor p  \\\n",
       "0       2                   -0.097778  0.000210   \n",
       "1       0                   -0.073468  0.000919   \n",
       "2       1                    0.000000  1.000000   \n",
       "3       3                   -0.013272  0.514766   \n",
       "\n",
       "                       Intervalo de confianza  \n",
       "0    (0.1770416953077143, 0.2506312606671285)  \n",
       "1   (0.2107414151687701, 0.26555168827950576)  \n",
       "2   (0.27745058917847587, 0.3457788725778981)  \n",
       "3  (0.27726456235794966, 0.31942052051497855)  "
      ]
     },
     "execution_count": 88,
     "metadata": {},
     "output_type": "execute_result"
    }
   ],
   "source": [
    "import pandas as pd\n",
    "import statsmodels.stats.proportion as prop\n",
    "\n",
    "# Crear un DataFrame vacío para almacenar los resultados\n",
    "results_df = pd.DataFrame(columns=['Cluster', 'Diferencia de proporciones', 'Valor p', 'Intervalo de confianza'])\n",
    "\n",
    "# Calcular los valores de referencia para el cluster 1\n",
    "n0 = total_positives(df_FN[df_FN['Cluster_test'] == 1]['y_test'], df_FN[df_FN['Cluster_test'] == 1]['y_pred_rf'])\n",
    "p0 = false_negative_rate(df_FN[df_FN['Cluster_test'] == 1]['y_test'], df_FN[df_FN['Cluster_test'] == 1]['y_pred_rf'])\n",
    "\n",
    "# Iterar sobre cada clúster\n",
    "for cluster in df_FN['Cluster_test'].unique():\n",
    "    # Filtrar los datos por clúster\n",
    "    cluster_data = df_FN[df_FN['Cluster_test'] == cluster]\n",
    "    \n",
    "    # Obtener el tamaño de la muestra y la proporción del clúster actual\n",
    "    n = total_positives(cluster_data['y_test'], cluster_data['y_pred_rf'])\n",
    "    p = false_negative_rate(cluster_data['y_test'], cluster_data['y_pred_rf'])\n",
    "    \n",
    "    # Calcular la diferencia de proporciones\n",
    "    diff_prop = p - p0\n",
    "    \n",
    "    # Realizar la prueba de hipótesis utilizando prop.proportions_ztest()\n",
    "    z_score, p_value = prop.proportions_ztest([n * p, n0 * p0], [n, n0])\n",
    "    \n",
    "    # Calcular el intervalo de confianza\n",
    "    conf_int = prop.proportion_confint(n * p, n)\n",
    "    \n",
    "    # Agregar los resultados al DataFrame\n",
    "    results_df = results_df.append({'Cluster': cluster,\n",
    "                                    'Diferencia de proporciones': diff_prop,\n",
    "                                    'Valor p': p_value,\n",
    "                                    'Intervalo de confianza': conf_int}, ignore_index=True)\n",
    "\n",
    "cluster_1 = results_df\n",
    "\n",
    "cluster_1"
   ]
  },
  {
   "cell_type": "code",
   "execution_count": 85,
   "id": "3ef109da-51e0-463d-a274-e1f7a9f8f234",
   "metadata": {
    "tags": []
   },
   "outputs": [
    {
     "data": {
      "text/html": [
       "<div>\n",
       "<style scoped>\n",
       "    .dataframe tbody tr th:only-of-type {\n",
       "        vertical-align: middle;\n",
       "    }\n",
       "\n",
       "    .dataframe tbody tr th {\n",
       "        vertical-align: top;\n",
       "    }\n",
       "\n",
       "    .dataframe thead th {\n",
       "        text-align: right;\n",
       "    }\n",
       "</style>\n",
       "<table border=\"1\" class=\"dataframe\">\n",
       "  <thead>\n",
       "    <tr style=\"text-align: right;\">\n",
       "      <th></th>\n",
       "      <th>Cluster</th>\n",
       "      <th>Diferencia de proporciones</th>\n",
       "      <th>Valor p</th>\n",
       "      <th>Intervalo de confianza</th>\n",
       "    </tr>\n",
       "  </thead>\n",
       "  <tbody>\n",
       "    <tr>\n",
       "      <th>0</th>\n",
       "      <td>2</td>\n",
       "      <td>0.000000</td>\n",
       "      <td>1.000000</td>\n",
       "      <td>(0.1770416953077143, 0.2506312606671285)</td>\n",
       "    </tr>\n",
       "    <tr>\n",
       "      <th>1</th>\n",
       "      <td>0</td>\n",
       "      <td>0.024310</td>\n",
       "      <td>0.305119</td>\n",
       "      <td>(0.2107414151687701, 0.26555168827950576)</td>\n",
       "    </tr>\n",
       "    <tr>\n",
       "      <th>2</th>\n",
       "      <td>1</td>\n",
       "      <td>0.097778</td>\n",
       "      <td>0.000210</td>\n",
       "      <td>(0.27745058917847587, 0.3457788725778981)</td>\n",
       "    </tr>\n",
       "    <tr>\n",
       "      <th>3</th>\n",
       "      <td>3</td>\n",
       "      <td>0.084506</td>\n",
       "      <td>0.000258</td>\n",
       "      <td>(0.27726456235794966, 0.31942052051497855)</td>\n",
       "    </tr>\n",
       "  </tbody>\n",
       "</table>\n",
       "</div>"
      ],
      "text/plain": [
       "  Cluster  Diferencia de proporciones   Valor p  \\\n",
       "0       2                    0.000000  1.000000   \n",
       "1       0                    0.024310  0.305119   \n",
       "2       1                    0.097778  0.000210   \n",
       "3       3                    0.084506  0.000258   \n",
       "\n",
       "                       Intervalo de confianza  \n",
       "0    (0.1770416953077143, 0.2506312606671285)  \n",
       "1   (0.2107414151687701, 0.26555168827950576)  \n",
       "2   (0.27745058917847587, 0.3457788725778981)  \n",
       "3  (0.27726456235794966, 0.31942052051497855)  "
      ]
     },
     "execution_count": 85,
     "metadata": {},
     "output_type": "execute_result"
    }
   ],
   "source": [
    "import pandas as pd\n",
    "import statsmodels.stats.proportion as prop\n",
    "\n",
    "# Crear un DataFrame vacío para almacenar los resultados\n",
    "results_df = pd.DataFrame(columns=['Cluster', 'Diferencia de proporciones', 'Valor p', 'Intervalo de confianza'])\n",
    "\n",
    "# Calcular los valores de referencia para el cluster 2\n",
    "n0 = total_positives(df_FN[df_FN['Cluster_test'] == 2]['y_test'], df_FN[df_FN['Cluster_test'] == 2]['y_pred_rf'])\n",
    "p0 = false_negative_rate(df_FN[df_FN['Cluster_test'] == 2]['y_test'], df_FN[df_FN['Cluster_test'] == 2]['y_pred_rf'])\n",
    "\n",
    "# Iterar sobre cada clúster\n",
    "for cluster in df_FN['Cluster_test'].unique():\n",
    "    # Filtrar los datos por clúster\n",
    "    cluster_data = df_FN[df_FN['Cluster_test'] == cluster]\n",
    "    \n",
    "    # Obtener el tamaño de la muestra y la proporción del clúster actual\n",
    "    n = total_positives(cluster_data['y_test'], cluster_data['y_pred_rf'])\n",
    "    p = false_negative_rate(cluster_data['y_test'], cluster_data['y_pred_rf'])\n",
    "    \n",
    "    # Calcular la diferencia de proporciones\n",
    "    diff_prop = p - p0\n",
    "    \n",
    "    # Realizar la prueba de hipótesis utilizando prop.proportions_ztest()\n",
    "    z_score, p_value = prop.proportions_ztest([n * p, n0 * p0], [n, n0])\n",
    "    \n",
    "    # Calcular el intervalo de confianza\n",
    "    conf_int = prop.proportion_confint(n * p, n)\n",
    "    \n",
    "    # Agregar los resultados al DataFrame\n",
    "    results_df = results_df.append({'Cluster': cluster,\n",
    "                                    'Diferencia de proporciones': diff_prop,\n",
    "                                    'Valor p': p_value,\n",
    "                                    'Intervalo de confianza': conf_int}, ignore_index=True)\n",
    "\n",
    "# Imprimir el DataFrame de resultados\n",
    "cluster_2 = results_df\n",
    "\n",
    "cluster_2"
   ]
  },
  {
   "cell_type": "code",
   "execution_count": 86,
   "id": "1f0be992-6717-485f-adc4-d7823e8ae242",
   "metadata": {
    "tags": []
   },
   "outputs": [
    {
     "data": {
      "text/html": [
       "<div>\n",
       "<style scoped>\n",
       "    .dataframe tbody tr th:only-of-type {\n",
       "        vertical-align: middle;\n",
       "    }\n",
       "\n",
       "    .dataframe tbody tr th {\n",
       "        vertical-align: top;\n",
       "    }\n",
       "\n",
       "    .dataframe thead th {\n",
       "        text-align: right;\n",
       "    }\n",
       "</style>\n",
       "<table border=\"1\" class=\"dataframe\">\n",
       "  <thead>\n",
       "    <tr style=\"text-align: right;\">\n",
       "      <th></th>\n",
       "      <th>Cluster</th>\n",
       "      <th>Diferencia de proporciones</th>\n",
       "      <th>Valor p</th>\n",
       "      <th>Intervalo de confianza</th>\n",
       "    </tr>\n",
       "  </thead>\n",
       "  <tbody>\n",
       "    <tr>\n",
       "      <th>0</th>\n",
       "      <td>2</td>\n",
       "      <td>-0.084506</td>\n",
       "      <td>0.000258</td>\n",
       "      <td>(0.1770416953077143, 0.2506312606671285)</td>\n",
       "    </tr>\n",
       "    <tr>\n",
       "      <th>1</th>\n",
       "      <td>0</td>\n",
       "      <td>-0.060196</td>\n",
       "      <td>0.000874</td>\n",
       "      <td>(0.2107414151687701, 0.26555168827950576)</td>\n",
       "    </tr>\n",
       "    <tr>\n",
       "      <th>2</th>\n",
       "      <td>1</td>\n",
       "      <td>0.013272</td>\n",
       "      <td>0.514766</td>\n",
       "      <td>(0.27745058917847587, 0.3457788725778981)</td>\n",
       "    </tr>\n",
       "    <tr>\n",
       "      <th>3</th>\n",
       "      <td>3</td>\n",
       "      <td>0.000000</td>\n",
       "      <td>1.000000</td>\n",
       "      <td>(0.27726456235794966, 0.31942052051497855)</td>\n",
       "    </tr>\n",
       "  </tbody>\n",
       "</table>\n",
       "</div>"
      ],
      "text/plain": [
       "  Cluster  Diferencia de proporciones   Valor p  \\\n",
       "0       2                   -0.084506  0.000258   \n",
       "1       0                   -0.060196  0.000874   \n",
       "2       1                    0.013272  0.514766   \n",
       "3       3                    0.000000  1.000000   \n",
       "\n",
       "                       Intervalo de confianza  \n",
       "0    (0.1770416953077143, 0.2506312606671285)  \n",
       "1   (0.2107414151687701, 0.26555168827950576)  \n",
       "2   (0.27745058917847587, 0.3457788725778981)  \n",
       "3  (0.27726456235794966, 0.31942052051497855)  "
      ]
     },
     "execution_count": 86,
     "metadata": {},
     "output_type": "execute_result"
    }
   ],
   "source": [
    "import pandas as pd\n",
    "import statsmodels.stats.proportion as prop\n",
    "\n",
    "# Crear un DataFrame vacío para almacenar los resultados\n",
    "results_df = pd.DataFrame(columns=['Cluster', 'Diferencia de proporciones', 'Valor p', 'Intervalo de confianza'])\n",
    "\n",
    "# Calcular los valores de referencia para el cluster 3\n",
    "n0 = total_positives(df_FN[df_FN['Cluster_test'] == 3]['y_test'], df_FN[df_FN['Cluster_test'] == 3]['y_pred_rf'])\n",
    "p0 = false_negative_rate(df_FN[df_FN['Cluster_test'] == 3]['y_test'], df_FN[df_FN['Cluster_test'] == 3]['y_pred_rf'])\n",
    "\n",
    "# Iterar sobre cada clúster\n",
    "for cluster in df_FN['Cluster_test'].unique():\n",
    "    # Filtrar los datos por clúster\n",
    "    cluster_data = df_FN[df_FN['Cluster_test'] == cluster]\n",
    "    \n",
    "    # Obtener el tamaño de la muestra y la proporción del clúster actual\n",
    "    n = total_positives(cluster_data['y_test'], cluster_data['y_pred_rf'])\n",
    "    p = false_negative_rate(cluster_data['y_test'], cluster_data['y_pred_rf'])\n",
    "    \n",
    "    # Calcular la diferencia de proporciones\n",
    "    diff_prop = p - p0\n",
    "    \n",
    "    # Realizar la prueba de hipótesis utilizando prop.proportions_ztest()\n",
    "    z_score, p_value = prop.proportions_ztest([n * p, n0 * p0], [n, n0])\n",
    "    \n",
    "    # Calcular el intervalo de confianza\n",
    "    conf_int = prop.proportion_confint(n * p, n)\n",
    "    \n",
    "    # Agregar los resultados al DataFrame\n",
    "    results_df = results_df.append({'Cluster': cluster,\n",
    "                                    'Diferencia de proporciones': diff_prop,\n",
    "                                    'Valor p': p_value,\n",
    "                                    'Intervalo de confianza': conf_int}, ignore_index=True)\n",
    "\n",
    "# Imprimir el DataFrame de resultados\n",
    "cluster_3 = results_df\n",
    "\n",
    "cluster_3\n"
   ]
  },
  {
   "cell_type": "code",
   "execution_count": 89,
   "id": "2721b544-6805-4567-b66e-7d15afc0b25e",
   "metadata": {
    "tags": []
   },
   "outputs": [
    {
     "data": {
      "text/plain": [
       "0    0.000210\n",
       "1    0.000919\n",
       "2    1.000000\n",
       "3    0.514766\n",
       "Name: Valor p, dtype: float64"
      ]
     },
     "execution_count": 89,
     "metadata": {},
     "output_type": "execute_result"
    }
   ],
   "source": [
    "cluster_1['Valor p']"
   ]
  },
  {
   "cell_type": "code",
   "execution_count": 95,
   "id": "33fce640-92fd-4ddc-acf7-d06a1711061a",
   "metadata": {
    "tags": []
   },
   "outputs": [
    {
     "data": {
      "text/html": [
       "<div>\n",
       "<style scoped>\n",
       "    .dataframe tbody tr th:only-of-type {\n",
       "        vertical-align: middle;\n",
       "    }\n",
       "\n",
       "    .dataframe tbody tr th {\n",
       "        vertical-align: top;\n",
       "    }\n",
       "\n",
       "    .dataframe thead th {\n",
       "        text-align: right;\n",
       "    }\n",
       "</style>\n",
       "<table border=\"1\" class=\"dataframe\">\n",
       "  <thead>\n",
       "    <tr style=\"text-align: right;\">\n",
       "      <th></th>\n",
       "      <th>Cluster</th>\n",
       "      <th>Valor p Cluster 1</th>\n",
       "      <th>Valor p Cluster 2</th>\n",
       "    </tr>\n",
       "  </thead>\n",
       "  <tbody>\n",
       "    <tr>\n",
       "      <th>0</th>\n",
       "      <td>2</td>\n",
       "      <td>0.000210</td>\n",
       "      <td>1.000000</td>\n",
       "    </tr>\n",
       "    <tr>\n",
       "      <th>1</th>\n",
       "      <td>0</td>\n",
       "      <td>0.000919</td>\n",
       "      <td>0.305119</td>\n",
       "    </tr>\n",
       "    <tr>\n",
       "      <th>2</th>\n",
       "      <td>1</td>\n",
       "      <td>1.000000</td>\n",
       "      <td>0.000210</td>\n",
       "    </tr>\n",
       "    <tr>\n",
       "      <th>3</th>\n",
       "      <td>3</td>\n",
       "      <td>0.514766</td>\n",
       "      <td>0.000258</td>\n",
       "    </tr>\n",
       "  </tbody>\n",
       "</table>\n",
       "</div>"
      ],
      "text/plain": [
       "  Cluster  Valor p Cluster 1  Valor p Cluster 2\n",
       "0       2           0.000210           1.000000\n",
       "1       0           0.000919           0.305119\n",
       "2       1           1.000000           0.000210\n",
       "3       3           0.514766           0.000258"
      ]
     },
     "execution_count": 95,
     "metadata": {},
     "output_type": "execute_result"
    }
   ],
   "source": [
    "p = pd.merge(cluster_1[['Cluster','Valor p']], cluster_2[['Cluster','Valor p']], on=\"Cluster\", how=\"inner\")\n",
    "d = d.rename(columns={'Valor p_x': 'Valor p Cluster 1', 'Valor p_y': 'Valor p Cluster 2'})\n",
    "d"
   ]
  },
  {
   "cell_type": "code",
   "execution_count": 96,
   "id": "0764386f-b0f1-43c3-81dd-f4679aa64b75",
   "metadata": {
    "tags": []
   },
   "outputs": [
    {
     "data": {
      "text/html": [
       "<div>\n",
       "<style scoped>\n",
       "    .dataframe tbody tr th:only-of-type {\n",
       "        vertical-align: middle;\n",
       "    }\n",
       "\n",
       "    .dataframe tbody tr th {\n",
       "        vertical-align: top;\n",
       "    }\n",
       "\n",
       "    .dataframe thead th {\n",
       "        text-align: right;\n",
       "    }\n",
       "</style>\n",
       "<table border=\"1\" class=\"dataframe\">\n",
       "  <thead>\n",
       "    <tr style=\"text-align: right;\">\n",
       "      <th></th>\n",
       "      <th>Cluster</th>\n",
       "      <th>Valor p Cluster 0</th>\n",
       "      <th>Valor p Cluster 3</th>\n",
       "    </tr>\n",
       "  </thead>\n",
       "  <tbody>\n",
       "    <tr>\n",
       "      <th>0</th>\n",
       "      <td>2</td>\n",
       "      <td>0.305119</td>\n",
       "      <td>0.000258</td>\n",
       "    </tr>\n",
       "    <tr>\n",
       "      <th>1</th>\n",
       "      <td>0</td>\n",
       "      <td>1.000000</td>\n",
       "      <td>0.000874</td>\n",
       "    </tr>\n",
       "    <tr>\n",
       "      <th>2</th>\n",
       "      <td>1</td>\n",
       "      <td>0.000919</td>\n",
       "      <td>0.514766</td>\n",
       "    </tr>\n",
       "    <tr>\n",
       "      <th>3</th>\n",
       "      <td>3</td>\n",
       "      <td>0.000874</td>\n",
       "      <td>1.000000</td>\n",
       "    </tr>\n",
       "  </tbody>\n",
       "</table>\n",
       "</div>"
      ],
      "text/plain": [
       "  Cluster  Valor p Cluster 0  Valor p Cluster 3\n",
       "0       2           0.305119           0.000258\n",
       "1       0           1.000000           0.000874\n",
       "2       1           0.000919           0.514766\n",
       "3       3           0.000874           1.000000"
      ]
     },
     "execution_count": 96,
     "metadata": {},
     "output_type": "execute_result"
    }
   ],
   "source": [
    "p = pd.merge(cluster_0[['Cluster','Valor p']], cluster_3[['Cluster','Valor p']], on=\"Cluster\", how=\"inner\")\n",
    "p = p.rename(columns={'Valor p_x': 'Valor p Cluster 0', 'Valor p_y': 'Valor p Cluster 3'})\n",
    "p"
   ]
  },
  {
   "cell_type": "code",
   "execution_count": 101,
   "id": "56ce86df-abac-4344-88b2-74a056b4a10b",
   "metadata": {
    "tags": []
   },
   "outputs": [
    {
     "data": {
      "text/html": [
       "<div>\n",
       "<style scoped>\n",
       "    .dataframe tbody tr th:only-of-type {\n",
       "        vertical-align: middle;\n",
       "    }\n",
       "\n",
       "    .dataframe tbody tr th {\n",
       "        vertical-align: top;\n",
       "    }\n",
       "\n",
       "    .dataframe thead th {\n",
       "        text-align: right;\n",
       "    }\n",
       "</style>\n",
       "<table border=\"1\" class=\"dataframe\">\n",
       "  <thead>\n",
       "    <tr style=\"text-align: right;\">\n",
       "      <th></th>\n",
       "      <th>Cluster</th>\n",
       "      <th>Valor p Cluster 1</th>\n",
       "      <th>Valor p Cluster 2</th>\n",
       "      <th>Valor p Cluster 0</th>\n",
       "      <th>Valor p Cluster 3</th>\n",
       "    </tr>\n",
       "  </thead>\n",
       "  <tbody>\n",
       "    <tr>\n",
       "      <th>1</th>\n",
       "      <td>0</td>\n",
       "      <td>0.000919</td>\n",
       "      <td>0.305119</td>\n",
       "      <td>1.000000</td>\n",
       "      <td>0.000874</td>\n",
       "    </tr>\n",
       "    <tr>\n",
       "      <th>2</th>\n",
       "      <td>1</td>\n",
       "      <td>1.000000</td>\n",
       "      <td>0.000210</td>\n",
       "      <td>0.000919</td>\n",
       "      <td>0.514766</td>\n",
       "    </tr>\n",
       "    <tr>\n",
       "      <th>0</th>\n",
       "      <td>2</td>\n",
       "      <td>0.000210</td>\n",
       "      <td>1.000000</td>\n",
       "      <td>0.305119</td>\n",
       "      <td>0.000258</td>\n",
       "    </tr>\n",
       "    <tr>\n",
       "      <th>3</th>\n",
       "      <td>3</td>\n",
       "      <td>0.514766</td>\n",
       "      <td>0.000258</td>\n",
       "      <td>0.000874</td>\n",
       "      <td>1.000000</td>\n",
       "    </tr>\n",
       "  </tbody>\n",
       "</table>\n",
       "</div>"
      ],
      "text/plain": [
       "  Cluster  Valor p Cluster 1  Valor p Cluster 2  Valor p Cluster 0  \\\n",
       "1       0           0.000919           0.305119           1.000000   \n",
       "2       1           1.000000           0.000210           0.000919   \n",
       "0       2           0.000210           1.000000           0.305119   \n",
       "3       3           0.514766           0.000258           0.000874   \n",
       "\n",
       "   Valor p Cluster 3  \n",
       "1           0.000874  \n",
       "2           0.514766  \n",
       "0           0.000258  \n",
       "3           1.000000  "
      ]
     },
     "execution_count": 101,
     "metadata": {},
     "output_type": "execute_result"
    }
   ],
   "source": [
    "e = pd.merge(d, p, on = \"Cluster\", how = \"inner\")\n",
    "e = e.sort_values(by='Cluster')\n",
    "e"
   ]
  },
  {
   "cell_type": "code",
   "execution_count": 78,
   "id": "5e2606db-bb2d-4137-b8d0-44b859781ffb",
   "metadata": {
    "tags": []
   },
   "outputs": [
    {
     "name": "stdout",
     "output_type": "stream",
     "text": [
      "\\begin{table}\n",
      "\\centering\n",
      "\\caption{Valores p por clúster}\n",
      "\\begin{tabular}{lr}\n",
      "\\toprule\n",
      "Cluster &  Valor p \\\\\n",
      "\\midrule\n",
      "      2 & 0.000258 \\\\\n",
      "      0 & 0.000874 \\\\\n",
      "      1 & 0.514766 \\\\\n",
      "      3 & 1.000000 \\\\\n",
      "\\bottomrule\n",
      "\\end{tabular}\n",
      "\\end{table}\n",
      "\n"
     ]
    }
   ],
   "source": [
    "# Generar la tabla en formato LaTeX\n",
    "latex_table = results_df[['Cluster', 'Valor p']].to_latex(index=False, caption='Valores p por clúster')\n",
    "\n",
    "# Imprimir la tabla en LaTeX\n",
    "print(latex_table)"
   ]
  },
  {
   "cell_type": "code",
   "execution_count": 70,
   "id": "d2771b0a-df9f-4eb6-ac07-2237719425e2",
   "metadata": {
    "tags": []
   },
   "outputs": [
    {
     "data": {
      "text/plain": [
       "1        0\n",
       "4        0\n",
       "5        0\n",
       "8        0\n",
       "19       0\n",
       "        ..\n",
       "44156    0\n",
       "44159    0\n",
       "44162    0\n",
       "44168    0\n",
       "44169    0\n",
       "Name: y_test, Length: 11014, dtype: int64"
      ]
     },
     "execution_count": 70,
     "metadata": {},
     "output_type": "execute_result"
    }
   ],
   "source": [
    "df_FN[df_FN['Cluster_test'] == 0]['y_test']"
   ]
  },
  {
   "cell_type": "code",
   "execution_count": 72,
   "id": "e9f89ea2-2ffa-4c9e-bd45-b2cd0ae45cb8",
   "metadata": {
    "tags": []
   },
   "outputs": [
    {
     "name": "stdout",
     "output_type": "stream",
     "text": [
      "Prueba de hipótesis de diferencia de proporciones para TFN Random Forest\n",
      "Diferencia de proporciones: 0.024310073736716536\n",
      "Valor p: 0.0033970560150342398\n",
      "Intervalo de confianza: (0.0025326308763526095, 0.04598220820043844)\n"
     ]
    }
   ],
   "source": [
    "import statsmodels.stats.proportion as prop\n",
    "import statsmodels.api as sm\n",
    "\n",
    "# Datos de ejemplo\n",
    "cluster_2_data = df_FN[df_FN['Cluster_test'] == 2]\n",
    "n2 = len(cluster_2_data)  # Tamaño de la muestra del clúster 2\n",
    "p2 = false_negative_rate(cluster_2_data['y_test'], cluster_2_data['y_pred_rf'])  # Proporción del clúster 2\n",
    "\n",
    "cluster_0_data = df_FN[df_FN['Cluster_test'] == 0]\n",
    "n0 = len(cluster_0_data)  # Tamaño de la muestra del clúster 0\n",
    "p0 = false_negative_rate(cluster_0_data['y_test'], cluster_0_data['y_pred_rf'])  # Proporción del clúster 0\n",
    "\n",
    "# Calcular los éxitos en cada grupo\n",
    "successes0 = int(n0 * p0)\n",
    "successes2 = int(n2 * p2)\n",
    "\n",
    "# Realizar la prueba de hipótesis\n",
    "z, p_value = sm.stats.proportions_ztest([successes0, successes2], [n0, n2])\n",
    "\n",
    "# Calcular el intervalo de confianza\n",
    "conf_int0 = prop.proportion_confint(successes0, n0)\n",
    "conf_int2 = prop.proportion_confint(successes2, n2)\n",
    "conf_int = (conf_int0[0] - conf_int2[1], conf_int0[1] - conf_int2[0])\n",
    "\n",
    "# Imprimir los resultados\n",
    "print(\"Prueba de hipótesis de diferencia de proporciones para TFN Random Forest\")\n",
    "print(\"Diferencia de proporciones:\", p0 - p2)\n",
    "print(\"Valor p:\", p_value)\n",
    "print(\"Intervalo de confianza:\", conf_int)"
   ]
  },
  {
   "cell_type": "code",
   "execution_count": 106,
   "id": "dca068df-c0c6-482f-bfa9-1be50f4112d7",
   "metadata": {
    "tags": []
   },
   "outputs": [
    {
     "data": {
      "text/html": [
       "<div>\n",
       "<style scoped>\n",
       "    .dataframe tbody tr th:only-of-type {\n",
       "        vertical-align: middle;\n",
       "    }\n",
       "\n",
       "    .dataframe tbody tr th {\n",
       "        vertical-align: top;\n",
       "    }\n",
       "\n",
       "    .dataframe thead th {\n",
       "        text-align: right;\n",
       "    }\n",
       "</style>\n",
       "<table border=\"1\" class=\"dataframe\">\n",
       "  <thead>\n",
       "    <tr style=\"text-align: right;\">\n",
       "      <th></th>\n",
       "      <th>Random Forest</th>\n",
       "      <th>XGBoost</th>\n",
       "      <th>CatBoost</th>\n",
       "      <th>LightGBM</th>\n",
       "    </tr>\n",
       "    <tr>\n",
       "      <th></th>\n",
       "      <th></th>\n",
       "      <th></th>\n",
       "      <th></th>\n",
       "      <th></th>\n",
       "    </tr>\n",
       "  </thead>\n",
       "  <tbody>\n",
       "    <tr>\n",
       "      <th>Random Forest</th>\n",
       "      <td>1.0000</td>\n",
       "      <td>0.0065</td>\n",
       "      <td>0.0006</td>\n",
       "      <td>0.1857</td>\n",
       "    </tr>\n",
       "    <tr>\n",
       "      <th>XGBoost</th>\n",
       "      <td>0.0065</td>\n",
       "      <td>1.0000</td>\n",
       "      <td>0.4788</td>\n",
       "      <td>0.1623</td>\n",
       "    </tr>\n",
       "    <tr>\n",
       "      <th>CatBoost</th>\n",
       "      <td>0.0006</td>\n",
       "      <td>0.4788</td>\n",
       "      <td>1.0000</td>\n",
       "      <td>0.0352</td>\n",
       "    </tr>\n",
       "    <tr>\n",
       "      <th>LightGBM</th>\n",
       "      <td>0.1857</td>\n",
       "      <td>0.1623</td>\n",
       "      <td>0.0352</td>\n",
       "      <td>1.0000</td>\n",
       "    </tr>\n",
       "  </tbody>\n",
       "</table>\n",
       "</div>"
      ],
      "text/plain": [
       "               Random Forest  XGBoost  CatBoost  LightGBM\n",
       "                                                         \n",
       "Random Forest         1.0000   0.0065    0.0006    0.1857\n",
       "XGBoost               0.0065   1.0000    0.4788    0.1623\n",
       "CatBoost              0.0006   0.4788    1.0000    0.0352\n",
       "LightGBM              0.1857   0.1623    0.0352    1.0000"
      ]
     },
     "execution_count": 106,
     "metadata": {},
     "output_type": "execute_result"
    }
   ],
   "source": [
    "import pandas as pd\n",
    "\n",
    "data = {\n",
    "    '': ['Random Forest', 'XGBoost', 'CatBoost', 'LightGBM'],\n",
    "    'Random Forest': [1, 0.0065, 0.0006, 0.1857],\n",
    "    'XGBoost': [0.0065, 1, 0.4788, 0.1623],\n",
    "    'CatBoost': [0.0006, 0.4788, 1, 0.0352],\n",
    "    'LightGBM': [0.1857, 0.1623, 0.0352, 1]\n",
    "}\n",
    "\n",
    "df = pd.DataFrame(data)\n",
    "df.set_index('', inplace=True)\n",
    "\n",
    "df\n"
   ]
  },
  {
   "cell_type": "code",
   "execution_count": 111,
   "id": "519114dd-d973-40f0-95e1-6c07516b7d9f",
   "metadata": {
    "tags": []
   },
   "outputs": [
    {
     "data": {
      "image/png": "[encoded data removed]",
      "text/plain": [
       "<Figure size 640x480 with 2 Axes>"
      ]
     },
     "metadata": {},
     "output_type": "display_data"
    }
   ],
   "source": [
    "# Generar el heatmap\n",
    "sns.heatmap(df, annot=True, cmap='Blues')\n",
    "\n",
    "# Agregar el título y el subtítulo\n",
    "plt.title('Valor p diferencia TFN (Grid Search)')\n",
    "#plt.suptitle('Optimización Grid Search')\n",
    "\n",
    "# Mostrar el heatmap\n",
    "plt.show()"
   ]
  },
  {
   "cell_type": "code",
   "execution_count": 131,
   "id": "3e59996b-65de-4dad-bb14-e1d0e88de239",
   "metadata": {
    "tags": []
   },
   "outputs": [
    {
     "data": {
      "text/html": [
       "<div>\n",
       "<style scoped>\n",
       "    .dataframe tbody tr th:only-of-type {\n",
       "        vertical-align: middle;\n",
       "    }\n",
       "\n",
       "    .dataframe tbody tr th {\n",
       "        vertical-align: top;\n",
       "    }\n",
       "\n",
       "    .dataframe thead th {\n",
       "        text-align: right;\n",
       "    }\n",
       "</style>\n",
       "<table border=\"1\" class=\"dataframe\">\n",
       "  <thead>\n",
       "    <tr style=\"text-align: right;\">\n",
       "      <th></th>\n",
       "      <th>Clúster 1</th>\n",
       "      <th>Clúster 2</th>\n",
       "      <th>Clúster 3</th>\n",
       "      <th>Clúster 4</th>\n",
       "    </tr>\n",
       "    <tr>\n",
       "      <th></th>\n",
       "      <th></th>\n",
       "      <th></th>\n",
       "      <th></th>\n",
       "      <th></th>\n",
       "    </tr>\n",
       "  </thead>\n",
       "  <tbody>\n",
       "    <tr>\n",
       "      <th>Clúster 1</th>\n",
       "      <td>1.000000</td>\n",
       "      <td>0.000919</td>\n",
       "      <td>0.305119</td>\n",
       "      <td>0.000874</td>\n",
       "    </tr>\n",
       "    <tr>\n",
       "      <th>Clúster 2</th>\n",
       "      <td>0.000919</td>\n",
       "      <td>1.000000</td>\n",
       "      <td>0.000210</td>\n",
       "      <td>0.514766</td>\n",
       "    </tr>\n",
       "    <tr>\n",
       "      <th>Clúster 3</th>\n",
       "      <td>0.305119</td>\n",
       "      <td>0.000210</td>\n",
       "      <td>1.000000</td>\n",
       "      <td>0.000258</td>\n",
       "    </tr>\n",
       "    <tr>\n",
       "      <th>Clúster 4</th>\n",
       "      <td>0.000874</td>\n",
       "      <td>0.514766</td>\n",
       "      <td>0.000258</td>\n",
       "      <td>1.000000</td>\n",
       "    </tr>\n",
       "  </tbody>\n",
       "</table>\n",
       "</div>"
      ],
      "text/plain": [
       "           Clúster 1  Clúster 2  Clúster 3  Clúster 4\n",
       "                                                     \n",
       "Clúster 1   1.000000   0.000919   0.305119   0.000874\n",
       "Clúster 2   0.000919   1.000000   0.000210   0.514766\n",
       "Clúster 3   0.305119   0.000210   1.000000   0.000258\n",
       "Clúster 4   0.000874   0.514766   0.000258   1.000000"
      ]
     },
     "execution_count": 131,
     "metadata": {},
     "output_type": "execute_result"
    }
   ],
   "source": [
    "data = {\n",
    "    '': ['Clúster 1', 'Clúster 2', 'Clúster 3', 'Clúster 4'],\n",
    "    'Clúster 1': [1, 0.000919, 0.305119, 0.000874],\n",
    "    'Clúster 2': [0.000919, 1, 0.000210, 0.514766],\n",
    "    'Clúster 3': [0.305119, 0.000210, 1, 0.000258],\n",
    "    'Clúster 4': [0.000874, 0.514766, 0.000258, 1]\n",
    "}\n",
    "\n",
    "df = pd.DataFrame(data)\n",
    "df.set_index('', inplace=True)\n",
    "\n",
    "df\n"
   ]
  },
  {
   "cell_type": "code",
   "execution_count": 132,
   "id": "dabc8771-aa83-4c98-8aab-016fa3ac312c",
   "metadata": {
    "tags": []
   },
   "outputs": [
    {
     "data": {
      "image/png": "[encoded data removed]",
      "text/plain": [
       "<Figure size 640x480 with 2 Axes>"
      ]
     },
     "metadata": {},
     "output_type": "display_data"
    }
   ],
   "source": [
    "# Generar el heatmap\n",
    "sns.heatmap(df, annot=True, cmap='Blues')\n",
    "\n",
    "# Agregar el título y el subtítulo\n",
    "plt.title('Valor p diferencia TFN según clúster')\n",
    "#plt.suptitle(, fontsize=12)\n",
    "\n",
    "# Ajustar el espaciado entre el título y el subtítulo\n",
    "plt.tight_layout()\n",
    "\n",
    "# Mostrar el heatmap\n",
    "plt.show()"
   ]
  },
  {
   "cell_type": "code",
   "execution_count": 127,
   "id": "e24cfaca-d888-42f1-aa24-e9b17d6fbc90",
   "metadata": {
    "tags": []
   },
   "outputs": [],
   "source": [
    "X = X.drop(['CLUSTER'], axis = 1)"
   ]
  },
  {
   "cell_type": "code",
   "execution_count": 128,
   "id": "d9dd479e-385b-412a-9c91-26b47b8d7677",
   "metadata": {
    "tags": []
   },
   "outputs": [
    {
     "name": "stdout",
     "output_type": "stream",
     "text": [
      "   Feature  Importance\n",
      "4    COMP5    0.035947\n",
      "25  COMP26    0.025104\n",
      "36  COMP37    0.023587\n",
      "2    COMP3    0.023498\n",
      "0    COMP1    0.022508\n",
      "..     ...         ...\n",
      "15  COMP16    0.009591\n",
      "42  COMP43    0.009152\n",
      "45  COMP46    0.008971\n",
      "47  COMP48    0.008297\n",
      "50  COMP51    0.008189\n",
      "\n",
      "[62 rows x 2 columns]\n"
     ]
    }
   ],
   "source": [
    "# Obtener la importancia de las variables\n",
    "best_estimator = rf.best_estimator_['classifier']\n",
    "\n",
    "# Obtener la importancia de las variables\n",
    "importance = best_estimator.feature_importances_\n",
    "# Crear un DataFrame para visualizar la importancia de las variables\n",
    "importance_df = pd.DataFrame({\n",
    "    'Feature': X.columns,\n",
    "    'Importance': importance\n",
    "})\n",
    "\n",
    "# Ordenar el DataFrame por importancia descendente\n",
    "importance_df = importance_df.sort_values('Importance', ascending=False)\n",
    "\n",
    "print(importance_df)"
   ]
  },
  {
   "cell_type": "code",
   "execution_count": 130,
   "id": "445755a6-bcd0-46b5-9a22-a04d2cd00258",
   "metadata": {
    "tags": []
   },
   "outputs": [
    {
     "data": {
      "image/png": "[encoded data removed]",
      "text/plain": [
       "<Figure size 1000x600 with 1 Axes>"
      ]
     },
     "metadata": {},
     "output_type": "display_data"
    }
   ],
   "source": [
    "# Calcular la suma acumulada de importancia\n",
    "importance_df['Cumulative Importance'] = importance_df['Importance'].cumsum()\n",
    "\n",
    "# Filtrar las variables que sumen hasta el 50%\n",
    "selected_variables = importance_df[importance_df['Cumulative Importance'] <= 0.5]\n",
    "\n",
    "# Crear el gráfico de barras horizontales\n",
    "plt.figure(figsize=(10, 6))\n",
    "plt.barh(selected_variables['Feature'], selected_variables['Importance'])\n",
    "plt.xlabel('Importancia')\n",
    "plt.ylabel('Variable')\n",
    "plt.title('Importancia de las variables modelo Random Forest (Grid Search)')\n",
    "\n",
    "# Mostrar el gráfico\n",
    "plt.show()"
   ]
  }
 ],
 "metadata": {
  "kernelspec": {
   "display_name": "Python 3 (ipykernel)",
   "language": "python",
   "name": "python3"
  },
  "language_info": {
   "codemirror_mode": {
    "name": "ipython",
    "version": 3
   },
   "file_extension": ".py",
   "mimetype": "text/x-python",
   "name": "python",
   "nbconvert_exporter": "python",
   "pygments_lexer": "ipython3",
   "version": "3.10.10"
  }
 },
 "nbformat": 4,
 "nbformat_minor": 5
}
